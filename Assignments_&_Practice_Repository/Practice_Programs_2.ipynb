{
 "cells": [
  {
   "cell_type": "markdown",
   "metadata": {},
   "source": [
    "1) Find out second largest number"
   ]
  },
  {
   "cell_type": "code",
   "execution_count": 15,
   "metadata": {},
   "outputs": [
    {
     "name": "stdout",
     "output_type": "stream",
     "text": [
      "74\n"
     ]
    }
   ],
   "source": [
    "lst=[20,36,85,74,65,41,22,1,9]\n",
    "def seclargest(lst):\n",
    "    lst.sort(reverse=True)\n",
    "    a=lst[1]\n",
    "    return a\n",
    "print(seclargest(lst))"
   ]
  },
  {
   "cell_type": "code",
   "execution_count": 17,
   "metadata": {},
   "outputs": [
    {
     "name": "stdout",
     "output_type": "stream",
     "text": [
      "74\n"
     ]
    }
   ],
   "source": [
    "lst=[20,36,85,74,65,41,22,1,9]\n",
    "lst.sort(reverse=True)\n",
    "a=lst[1]\n",
    "print(a)"
   ]
  },
  {
   "cell_type": "markdown",
   "metadata": {},
   "source": [
    "2) Write a program to remove all the punctuations from a string and check each character of the string using for loop, If the character is a punctuation, assign an empty string to it.\n"
   ]
  },
  {
   "cell_type": "code",
   "execution_count": 1,
   "metadata": {},
   "outputs": [
    {
     "name": "stdout",
     "output_type": "stream",
     "text": [
      "Enter the stringrishik!#$#@$what.,.,is:\":up???\n",
      "rishikwhatisup\n"
     ]
    }
   ],
   "source": [
    "punctuations = '''!()-[]{};:'\"\\,<>./?@#$%^&*_~'''\n",
    "string = input(\"Enter the string\")\n",
    "replace_with = \"\"\n",
    "for char in string:\n",
    "   if char not in punctuations:\n",
    "       replace_with = replace_with + char\n",
    "print(replace_with)"
   ]
  },
  {
   "cell_type": "markdown",
   "metadata": {},
   "source": [
    "3) Write a program to count the number of each vowel in a string using dictionary and list comprehension.\n"
   ]
  },
  {
   "cell_type": "code",
   "execution_count": 3,
   "metadata": {},
   "outputs": [
    {
     "name": "stdout",
     "output_type": "stream",
     "text": [
      "enter the string: fjsszxjjuywazxcvbnm,loiuytrewqasdfghjkl\n",
      "{'a': 2, 'e': 1, 'i': 1, 'o': 1, 'u': 2}\n"
     ]
    }
   ],
   "source": [
    "vowels = 'aeiou'\n",
    "string= input(\"enter the string: \")\n",
    "dict={}\n",
    "count = dict.fromkeys(vowels,0)\n",
    "for char in string:\n",
    "   if char in count:\n",
    "       count[char] += 1\n",
    "print(count)"
   ]
  },
  {
   "cell_type": "markdown",
   "metadata": {},
   "source": [
    "4) Write a program to convert a list of multiple integers into a single integer."
   ]
  },
  {
   "cell_type": "code",
   "execution_count": 135,
   "metadata": {},
   "outputs": [
    {
     "name": "stdout",
     "output_type": "stream",
     "text": [
      "2055141974"
     ]
    }
   ],
   "source": [
    "lst=[20,55,14,19,74]\n",
    "def convert_string(lst):\n",
    "    return i\n",
    "for i in lst:\n",
    "    print(i,end='')\n"
   ]
  },
  {
   "cell_type": "markdown",
   "metadata": {},
   "source": [
    "5) Write a program to delete each element in the list which is divisible by 2 or all the even numbers. "
   ]
  },
  {
   "cell_type": "code",
   "execution_count": 4,
   "metadata": {},
   "outputs": [
    {
     "name": "stdout",
     "output_type": "stream",
     "text": [
      "[25, 67, 12, 11, 69]\n"
     ]
    }
   ],
   "source": [
    "def delete_even(lst):\n",
    "    for i in lst:\n",
    "        if i % 2 == 0:\n",
    "            lst.remove(i)\n",
    "    print(lst)\n",
    "    \n",
    "delete_even([25,67,20,12,11,69,88])\n"
   ]
  },
  {
   "cell_type": "code",
   "execution_count": 37,
   "metadata": {},
   "outputs": [
    {
     "name": "stdout",
     "output_type": "stream",
     "text": [
      "23\n"
     ]
    }
   ],
   "source": [
    "lst1=[22,14,56,2,4,23]\n",
    "for i in lst1:\n",
    "    if i%2!=0 :\n",
    "        print(i)"
   ]
  },
  {
   "cell_type": "markdown",
   "metadata": {},
   "source": [
    "6) Write a program to delete each element in the list for all the odd numbers."
   ]
  },
  {
   "cell_type": "code",
   "execution_count": 124,
   "metadata": {},
   "outputs": [
    {
     "name": "stdout",
     "output_type": "stream",
     "text": [
      "[25, 40, 13, 22, 20]\n"
     ]
    }
   ],
   "source": [
    "def remove_odd(l):\n",
    "    for i in l:\n",
    "        if i % 2 != 0:\n",
    "            l.remove(i)\n",
    "    print (l)\n",
    "    \n",
    "\n",
    "remove_odd([23,25,40,87,13,22,20])"
   ]
  },
  {
   "cell_type": "markdown",
   "metadata": {},
   "source": [
    " 7) How Would You Produce A List With Unique Elements From A List With Duplicate Elements?"
   ]
  },
  {
   "cell_type": "code",
   "execution_count": 137,
   "metadata": {},
   "outputs": [
    {
     "name": "stdout",
     "output_type": "stream",
     "text": [
      "List is ['a', 'b', 'c']\n"
     ]
    }
   ],
   "source": [
    "list1=['a','a','a','b','b','c']\n",
    "list2=[]\n",
    "def unique(list1):\n",
    "    return list2\n",
    "for char in list1:\n",
    "    if char not in list2:\n",
    "        list2.append(char)\n",
    "print(\"List is\",unique(list1))       "
   ]
  },
  {
   "cell_type": "code",
   "execution_count": 138,
   "metadata": {},
   "outputs": [
    {
     "name": "stdout",
     "output_type": "stream",
     "text": [
      "List is [21, 23, 45, 77, 55, 2, 34, 7]\n"
     ]
    }
   ],
   "source": [
    "list1=[21,23,45,77,55,2,34,21,23,45,7]\n",
    "list2=[]\n",
    "def unique(list1):\n",
    "    return list2\n",
    "for i in list1:\n",
    "    if i not in list2:\n",
    "        list2.append(i)\n",
    "print(\"List is\",unique(list1)) "
   ]
  },
  {
   "cell_type": "markdown",
   "metadata": {},
   "source": [
    "8) Write a Python function that accepts student names and marks (store in list). Calculate the total marks and average based on the input. Display student names and marks, total and average."
   ]
  },
  {
   "cell_type": "code",
   "execution_count": 17,
   "metadata": {},
   "outputs": [
    {
     "name": "stdout",
     "output_type": "stream",
     "text": [
      "Enter your name: Ashish\n",
      "Enter marks1: 76\n",
      "Enter marks2: 71\n",
      "Enter marks3: 79\n",
      "your name is:  Ashish\n",
      "In m1 :  76\n",
      "In m2 :  71\n",
      "In m3 :  79\n",
      "total and average is:  (226, 173.33333333333334)\n"
     ]
    }
   ],
   "source": [
    "name=input(\"Enter your name: \")\n",
    "m1=int(input(\"Enter marks1: \"))\n",
    "m2=int(input(\"Enter marks2: \"))\n",
    "m3=int(input(\"Enter marks3: \"))\n",
    "marks=[]\n",
    "\n",
    "def stud_info(name):\n",
    "    return name\n",
    "\n",
    "def stud_marks(m1,m2,m3,marks,name):\n",
    "    return marks\n",
    "marks.insert(1,m1)\n",
    "marks.insert(2,m2)\n",
    "marks.insert(3,m3)\n",
    "marks.insert(0,name)\n",
    "\n",
    "def stud_sheet(m1,m2,m3,total,avg):\n",
    "    return total,avg\n",
    "total=m1+m2+m3\n",
    "avg=m1+m2+m3/3\n",
    "print(\"your name is: \",stud_info(name))\n",
    "print(\"In m1 : \",m1)\n",
    "print(\"In m2 : \",m2)\n",
    "print(\"In m3 : \",m3)\n",
    "print(\"total and average is: \", stud_sheet(m1,m2,m3,total,avg))"
   ]
  },
  {
   "cell_type": "markdown",
   "metadata": {},
   "source": [
    "9) Write a Python program that accepts an integer (n) and computes the value of n+nn+nnn"
   ]
  },
  {
   "cell_type": "code",
   "execution_count": 3,
   "metadata": {},
   "outputs": [
    {
     "name": "stdout",
     "output_type": "stream",
     "text": [
      "Enter the n value: 5\n",
      "The value of n+nn+nnn is:  155\n"
     ]
    }
   ],
   "source": [
    "n=int(input(\"Enter the n value: \"))\n",
    "def calc_n(n):\n",
    "    return want\n",
    "want=n+n*n+n*n*n\n",
    "print(\"The value of n+nn+nnn is: \",calc_n(n))"
   ]
  },
  {
   "cell_type": "markdown",
   "metadata": {},
   "source": [
    "10) Write a Python program to get the difference between a given number and 17, if the number is greater than 17 return double the absolute difference."
   ]
  },
  {
   "cell_type": "code",
   "execution_count": 22,
   "metadata": {},
   "outputs": [
    {
     "name": "stdout",
     "output_type": "stream",
     "text": [
      "Enter the n: 18\n",
      "Double value is 1\n"
     ]
    }
   ],
   "source": [
    "n=int(input(\"Enter the n: \"))\n",
    "def diff_17(n):\n",
    "    return less or large    \n",
    "less=n-17\n",
    "large=less*2\n",
    "if n>=17:\n",
    "    print(\"Double value is\",diff_17(n))\n",
    "else:\n",
    "    print(\"Difference between\",n,\"and 17 is:\",diff_17(n))"
   ]
  },
  {
   "cell_type": "markdown",
   "metadata": {},
   "source": [
    "11) Write a Python program to get the difference between a given number and 17, if the number is greater than 17 return double the absolute difference"
   ]
  },
  {
   "cell_type": "code",
   "execution_count": 61,
   "metadata": {},
   "outputs": [
    {
     "name": "stdout",
     "output_type": "stream",
     "text": [
      "Enter the n: 15\n",
      "Difference between 15 and 17 is: -2\n"
     ]
    }
   ],
   "source": [
    "n=int(input(\"Enter the n: \"))\n",
    "def less_17(n):\n",
    "    return less\n",
    "def large_17(n):\n",
    "    return large\n",
    "less=n-17\n",
    "large=less*2\n",
    "if n>=17:\n",
    "    print(\"Double value is\",large_17(n))\n",
    "else:\n",
    "    print(\"Difference between\",n,\"and 17 is:\",less_17(n))"
   ]
  },
  {
   "cell_type": "markdown",
   "metadata": {},
   "source": [
    " 12) Write a Python program to test whether a number is within 100 of 1000 or 2000"
   ]
  },
  {
   "cell_type": "code",
   "execution_count": 62,
   "metadata": {},
   "outputs": [
    {
     "name": "stdout",
     "output_type": "stream",
     "text": [
      "True\n",
      "True\n",
      "False\n",
      "False\n"
     ]
    }
   ],
   "source": [
    "def near_thousand(n):\n",
    "      return ((abs(1000 - n) <= 100) or (abs(2000 - n) <= 100))\n",
    "print(near_thousand(1000))\n",
    "print(near_thousand(900))\n",
    "print(near_thousand(800))   \n",
    "print(near_thousand(2200))\n",
    "\n"
   ]
  },
  {
   "cell_type": "markdown",
   "metadata": {},
   "source": [
    "13) Write a Python program to calculate the sum of three given numbers, if the values are equal then return three times of their sum."
   ]
  },
  {
   "cell_type": "code",
   "execution_count": 3,
   "metadata": {},
   "outputs": [
    {
     "name": "stdout",
     "output_type": "stream",
     "text": [
      "Enter M1: 12\n",
      "Enter M2: 45\n",
      "Enter M3: 78\n",
      "Sum is:  135\n"
     ]
    }
   ],
   "source": [
    "m1=int(input(\"Enter M1: \"))\n",
    "m2=int(input(\"Enter M2: \"))\n",
    "m3=int(input(\"Enter M3: \"))\n",
    "def calc_sum(m1,m2,m3):\n",
    "    return sum\n",
    "def calc_thrice(m1,m2,m3):\n",
    "    return thrice\n",
    "sum=m1+m2+m3\n",
    "thrice=sum*sum*sum\n",
    "if m1==m2 and m2==m3 and m1==m3:\n",
    "    print(\"thrice is: \",calc_thrice(m1,m2,m3))\n",
    "else:    \n",
    "    print(\"Sum is: \",calc_sum(m1,m2,m3))"
   ]
  },
  {
   "cell_type": "markdown",
   "metadata": {},
   "source": [
    "14) Write a Python program to sum of two given integers. However, if the sum is between 15 to 20 it will return 20"
   ]
  },
  {
   "cell_type": "code",
   "execution_count": 12,
   "metadata": {},
   "outputs": [
    {
     "name": "stdout",
     "output_type": "stream",
     "text": [
      "Enter n1: 8\n",
      "Enter n2: 9\n",
      "value is:  20\n"
     ]
    }
   ],
   "source": [
    "n1=int(input(\"Enter n1: \"))\n",
    "n2=int(input(\"Enter n2: \"))\n",
    "def diff_15_20(n1,n2):\n",
    "    return total\n",
    "def diff_20(n1,n2):\n",
    "    return k\n",
    "k=20\n",
    "total=n1+n2\n",
    "if total>15 and total<=20:\n",
    "    print(\"value is: \",diff_20(n1,n2))\n",
    "else:\n",
    "    print(\"value is: \",diff_15_20(n1,n2))"
   ]
  },
  {
   "cell_type": "markdown",
   "metadata": {},
   "source": [
    "15) Write a Python program that will return true if the two given integer values are equal or their sum or difference is 5"
   ]
  },
  {
   "cell_type": "code",
   "execution_count": 20,
   "metadata": {},
   "outputs": [
    {
     "name": "stdout",
     "output_type": "stream",
     "text": [
      "Enter n1: 5\n",
      "Enter n2: 10\n",
      "True\n",
      "\n"
     ]
    }
   ],
   "source": [
    "n1=int(input(\"Enter n1: \"))\n",
    "n2=int(input(\"Enter n2: \"))\n",
    "def true_sum_diff(n1,n2):\n",
    "    return sum,diff\n",
    "sum=n1+n2\n",
    "diff=n2-n1\n",
    "if n1==n2 or sum==5 or diff==5:\n",
    "    print(\"True\")\n",
    "else:\n",
    "    print(\"False\")\n",
    "print()"
   ]
  },
  {
   "cell_type": "markdown",
   "metadata": {},
   "source": [
    "16) Write a Python program to take the user information for n students details like name, age, address and print them on different lines."
   ]
  },
  {
   "cell_type": "code",
   "execution_count": 20,
   "metadata": {},
   "outputs": [
    {
     "name": "stdout",
     "output_type": "stream",
     "text": [
      "Enter the name: Ashish\n",
      "Enter the age: 23\n",
      "Enter the adress: sd sdf sdf \n",
      "Student name is:  \n",
      " Ashish\n",
      "Student age is:  \n",
      " 23\n",
      "Student address is:  \n",
      " sd sdf sdf \n",
      "Student name is:  \n",
      " Ashish\n",
      "Student age is:  \n",
      " 23\n",
      "Student address is:  \n",
      " sd sdf sdf \n"
     ]
    }
   ],
   "source": [
    "def stud_name(name,x):\n",
    "    for i in range (x):\n",
    "        return name\n",
    "name=input(\"Enter the name: \")\n",
    "def stud_age(age):\n",
    "    return age\n",
    "age=int(input(\"Enter the age: \"))\n",
    "def stud_address(address):\n",
    "    return address\n",
    "address=input(\"Enter the adress: \")\n",
    "\n",
    "for i in range(x):\n",
    "    print(\"Student name is: \",'\\n',stud_name(name,x))\n",
    "    print(\"Student age is: \",'\\n',stud_age(age))\n",
    "    print(\"Student address is: \",'\\n',stud_address(address))"
   ]
  },
  {
   "cell_type": "code",
   "execution_count": 19,
   "metadata": {},
   "outputs": [
    {
     "name": "stdout",
     "output_type": "stream",
     "text": [
      "enter no of students.2\n",
      "Enter the name: rcf\n",
      "Student name is:  \n",
      " rcf\n",
      "Enter the age: 43\n",
      "Student age is:  \n",
      " 43\n",
      "Enter the adress: fdgfh\n",
      "Student address is:  \n",
      " fdgfh\n",
      "Enter the name: dfgf\n",
      "Student name is:  \n",
      " dfgf\n",
      "Enter the age: 56\n",
      "Student age is:  \n",
      " 56\n",
      "Enter the adress: hgj\n",
      "Student address is:  \n",
      " hgj\n",
      "Student name is:  \n",
      " dfgf\n",
      "Student age is:  \n",
      " 56\n",
      "Student address is:  \n",
      " hgj\n",
      "Student name is:  \n",
      " dfgf\n",
      "Student age is:  \n",
      " 56\n",
      "Student address is:  \n",
      " hgj\n"
     ]
    }
   ],
   "source": [
    "x=int(input(\"enter no of students.\"))\n",
    "\n",
    "for j in range(x):\n",
    "    name=input(\"Enter the name: \")\n",
    "    print(\"Student name is: \",'\\n',name)\n",
    "    age=int(input(\"Enter the age: \"))\n",
    "    print(\"Student age is: \",'\\n',age)\n",
    "    address=input(\"Enter the adress: \")\n",
    "    print(\"Student address is: \",'\\n',address)\n",
    "\n",
    "for i in range(x):\n",
    "    print(\"Student name is: \",'\\n',name)\n",
    "    print(\"Student age is: \",'\\n',age)\n",
    "    print(\"Student address is: \",'\\n',address)"
   ]
  },
  {
   "cell_type": "markdown",
   "metadata": {},
   "source": [
    "17) Write a Python program to find the sum of array (hint take a list as array)."
   ]
  },
  {
   "cell_type": "code",
   "execution_count": 7,
   "metadata": {},
   "outputs": [
    {
     "data": {
      "text/plain": [
       "177"
      ]
     },
     "execution_count": 7,
     "metadata": {},
     "output_type": "execute_result"
    }
   ],
   "source": [
    "lst1=[11,20,33,14,74,25]\n",
    "total=0\n",
    "def add_arr(lst1):\n",
    "    return total\n",
    "for i in lst1:\n",
    "    total=total+i\n",
    "add_arr(lst1)"
   ]
  },
  {
   "cell_type": "markdown",
   "metadata": {},
   "source": [
    "18) Write a Python program to imitate login activity of a user also do its validation. (hint:-If user enters the wrong userid or password it should provide a message)"
   ]
  },
  {
   "cell_type": "code",
   "execution_count": 2,
   "metadata": {},
   "outputs": [
    {
     "name": "stdout",
     "output_type": "stream",
     "text": [
      "Enter the ID: Ashish\n",
      "Enter the password: 12345\n",
      "Welcome Ashish\n"
     ]
    }
   ],
   "source": [
    "a_id=input(\"Enter the ID: \")\n",
    "\n",
    "def User_valid(a_id):\n",
    "    if a_id !='Ashish': \n",
    "        print(\"Wrong ID\")\n",
    "    else:\n",
    "        pwd=input(\"Enter the password: \")\n",
    "        if pwd!='12345':\n",
    "            print(\"Wrong Password\")\n",
    "        else:\n",
    "            print(\"Welcome\",a_id)\n",
    "User_valid(a_id)\n",
    "\n"
   ]
  },
  {
   "cell_type": "markdown",
   "metadata": {},
   "source": [
    "19) a Python program to imitate bank transactions like deposit, withdrawal and check balance."
   ]
  },
  {
   "cell_type": "code",
   "execution_count": 5,
   "metadata": {},
   "outputs": [
    {
     "name": "stdout",
     "output_type": "stream",
     "text": [
      "Enter customer id:- Ashish Ingale\n",
      "Enter your password:- Ashish98\n",
      "Welcome Ashish Ingale\n",
      "Enter the your choice:-withdraw\n",
      "Enter amount to Withdraw:- 2000\n",
      "Amount is:  18000\n"
     ]
    }
   ],
   "source": [
    "c_id=\"Ashish Ingale\"\n",
    "c_pwd=\"Ashish98\"\n",
    "balance=20000\n",
    "\n",
    "def cust_valid(c_id,c_pwd):\n",
    "    login_id=input(\"Enter customer id:- \")\n",
    "    if login_id!=c_id:\n",
    "        print(\"Wrong ID\")\n",
    "    else:\n",
    "        login_password=input(\"Enter your password:- \")\n",
    "        if login_password==c_pwd:\n",
    "            print(\"Welcome\",c_id)\n",
    "        else:\n",
    "            print(\"Wrong Password\")\n",
    "cust_valid(c_id,c_pwd)\n",
    "\n",
    "            \n",
    "choice=input(\"Enter the your choice:-\")\n",
    "\n",
    "def my_bal(balance):\n",
    "        print(\"Balance is: \",balance)\n",
    "\n",
    "        \n",
    "\n",
    "def my_withdraw(balance):\n",
    "    w_amount=int(input(\"Enter amount to Withdraw:- \"))   \n",
    "    withdraw=balance-w_amount\n",
    "    print(\"Amount is: \",withdraw)\n",
    "\n",
    "\n",
    "\n",
    "def my_depo(balance):\n",
    "    d_amount=int(input(\"Enter amount to Deposit:- \"))   \n",
    "    deposit=balance+d_amount\n",
    "    print(\"Amount is: \",deposit)\n",
    "\n",
    "\n",
    "if choice==\"bal\":\n",
    "    my_bal(balance)\n",
    "elif choice == \"withdraw\":\n",
    "    my_withdraw(balance)\n",
    "elif choice == \"deposit\":\n",
    "    my_depo(balance)"
   ]
  },
  {
   "cell_type": "markdown",
   "metadata": {},
   "source": [
    "20) Write a Python program to imitate a shopping transaction where user purchase 5 notebooks of 20 rs each and 2 pens of 5 rs each. Show the total amount to be payable to the shopkeeper."
   ]
  },
  {
   "cell_type": "code",
   "execution_count": 4,
   "metadata": {},
   "outputs": [
    {
     "name": "stdout",
     "output_type": "stream",
     "text": [
      "Enter the number of pens:- 10\n",
      "Your bill for number of pens is:-  50\n",
      "Enter the number of books:- 5\n",
      "Your bill for books is:-  100\n",
      "Total bill is:-  150\n"
     ]
    }
   ],
   "source": [
    "pen=5\n",
    "notebook=20\n",
    "def for_book(notebook):\n",
    "    no_books=int(input(\"Enter the number of books:- \"))\n",
    "    bill1=notebook*no_books\n",
    "    print(\"Your bill for books is:- \",bill1)\n",
    "    return(bill1)\n",
    "def for_pen(pen):\n",
    "    no_pens=int(input(\"Enter the number of pens:- \"))\n",
    "    bill2=pen*no_pens\n",
    "    print(\"Your bill for number of pens is:- \",bill2)\n",
    "    return(bill2)\n",
    "\n",
    "x=for_pen(pen)+for_book(notebook)\n",
    "print(\"Total bill is:- \",x)"
   ]
  },
  {
   "cell_type": "markdown",
   "metadata": {},
   "source": [
    " 21) Accept the age of the person and print an appropriate message as per the table given alongside:\n",
    "    Age                                   Message         <=12                              You are child      13-19                             You are a teenager      20-59                             You are an adult      >= 60                             You are a senior citizen "
   ]
  },
  {
   "cell_type": "code",
   "execution_count": 19,
   "metadata": {},
   "outputs": [
    {
     "name": "stdout",
     "output_type": "stream",
     "text": [
      "Enter the age:- 23\n",
      "Welcome to adult gang\n"
     ]
    }
   ],
   "source": [
    "age=int(input(\"Enter the age:- \"))\n",
    "def your_age(age):\n",
    "    if age<=12:\n",
    "        print(\"Welcome to child gang\")\n",
    "    elif 13>=age or age<=19:\n",
    "        print(\"Welcome to teenage gang\")\n",
    "    elif 20>=age or age<59:\n",
    "        print(\"Welcome to adult gang\")\n",
    "    else:\n",
    "        print(\"You are senior citizen gang\")\n",
    "your_age(age)"
   ]
  },
  {
   "cell_type": "code",
   "execution_count": 13,
   "metadata": {
    "scrolled": true
   },
   "outputs": [
    {
     "name": "stdout",
     "output_type": "stream",
     "text": [
      "enter upper limit20\n",
      "1 11 13 17 19 "
     ]
    }
   ],
   "source": [
    "a= int(input(\"enter upper limit\"))\n",
    "for i in range(1,a):\n",
    "    if i%2!=0 and i%3!=0 and i%5!=0 and i%7!=0 and i%9!=0:\n",
    "        print(i,end=\" \")"
   ]
  },
  {
   "cell_type": "code",
   "execution_count": 19,
   "metadata": {},
   "outputs": [
    {
     "name": "stdout",
     "output_type": "stream",
     "text": [
      "2 3 5 7 11 13 17 19 "
     ]
    }
   ],
   "source": [
    "start = 1\n",
    "end = 19\n",
    "for val in range(start, end + 1): \n",
    "      \n",
    "   # If num is divisible by any number   \n",
    "   # between 2 and val, it is not prime  \n",
    "   if val > 1: \n",
    "       for n in range(2, val): \n",
    "           if (val % n) == 0: \n",
    "               break\n",
    "       else: \n",
    "           print(val, end=\" \") "
   ]
  },
  {
   "cell_type": "code",
   "execution_count": 20,
   "metadata": {
    "scrolled": true
   },
   "outputs": [
    {
     "name": "stdout",
     "output_type": "stream",
     "text": [
      " ***** \n",
      " *     \n",
      " *     \n",
      " ****  \n",
      " *     \n",
      " *     \n",
      " ***** \n",
      "\n"
     ]
    }
   ],
   "source": [
    "result_str=\"\";    \n",
    "for row in range(0,7):    \n",
    "    for column in range(0,7):     \n",
    "        if (column == 1 or ((row == 0 or row == 6) and (column > 1 and column < 6)) or (row == 3 and column > 1 and column < 5)):  \n",
    "            result_str=result_str+\"*\"    \n",
    "        else:      \n",
    "            result_str=result_str+\" \"    \n",
    "    result_str=result_str+\"\\n\"    \n",
    "print(result_str);\n"
   ]
  },
  {
   "cell_type": "markdown",
   "metadata": {},
   "source": [
    "####    user enters no. of days give no of months"
   ]
  },
  {
   "cell_type": "code",
   "execution_count": null,
   "metadata": {},
   "outputs": [],
   "source": [
    "a = int(input(\"enter no. of days\"))\n",
    "b = input(\"do you want : \"\"30 or 31\"\" day month\")\n",
    "def no_of_months30(a):\n",
    "    c=a//30\n",
    "    d=a%30\n",
    "    return(print(f\"it equals\",c, \"months and\",d,\"days\"))\n",
    "def no_of_months31(a):\n",
    "    e= a//31\n",
    "    f=a%31\n",
    "    return(print(f\"it equals\",e, \"months and\",f,\"days\"))\n",
    "if b == 30:\n",
    "    print(no_of_months30(a))\n",
    "if b == 31:\n",
    "    print(no_of_months31(a))"
   ]
  },
  {
   "cell_type": "code",
   "execution_count": 25,
   "metadata": {},
   "outputs": [
    {
     "name": "stdout",
     "output_type": "stream",
     "text": [
      "[5, 5]\n"
     ]
    }
   ],
   "source": [
    "l1= [3,4,5,6,7]\n",
    "l2= [6,7,8,9,10]\n",
    "l3=[]\n",
    "x=len(l1)//2\n",
    "y=len(l2)//2\n",
    "l3.append(l1[x])\n",
    "l3.append(l1[y])\n",
    "print(l3)"
   ]
  },
  {
   "cell_type": "markdown",
   "metadata": {},
   "source": [
    "a robot moves in a plane starting from the original point 0,0 the robot can move towards\n",
    "up,down,left and right with the given steps\n",
    "the trace of robo movement is as follows\n",
    "up by 5 \n",
    "down by 3 \n",
    "left by 3 \n",
    "right by2 \n",
    "the no. after direction are steps\n",
    "please write a program the distance from the curren position after a sequece on movement and the original point. if the distance is float th print the nearest integer."
   ]
  },
  {
   "cell_type": "code",
   "execution_count": 33,
   "metadata": {},
   "outputs": [
    {
     "name": "stdout",
     "output_type": "stream",
     "text": [
      "6\n"
     ]
    }
   ],
   "source": [
    "u = 5 # we can take these as user input\n",
    "d = 3\n",
    "l = 3\n",
    "r = 2\n",
    "def final_dist(u,d,l,r):\n",
    "    return(int(((u-d)**2+(l-r)**2)**0.5)) # use round function to round off\n",
    "print(final_dist(3,9,4,6))"
   ]
  },
  {
   "cell_type": "code",
   "execution_count": 39,
   "metadata": {},
   "outputs": [
    {
     "data": {
      "text/plain": [
       "5"
      ]
     },
     "execution_count": 39,
     "metadata": {},
     "output_type": "execute_result"
    }
   ],
   "source": [
    "round(4.51)"
   ]
  },
  {
   "cell_type": "markdown",
   "metadata": {},
   "source": [
    "write a prog which takes a tuple (1 to 10) and prins first half values and remaining half values"
   ]
  },
  {
   "cell_type": "code",
   "execution_count": 54,
   "metadata": {},
   "outputs": [
    {
     "name": "stdout",
     "output_type": "stream",
     "text": [
      "([0, 1, 2, 3, 4], [5, 6, 7, 8, 9, 10])\n"
     ]
    }
   ],
   "source": [
    "x = (1,2,3,4,5,6,7,8,9,10)\n",
    "l1 =[]\n",
    "l2 = []\n",
    "\n",
    "def separate(x):\n",
    "    y=list(x)\n",
    "    for i in range(0,int(len(y)/2)):\n",
    "        l1.append(i)\n",
    "    tuple(l1)\n",
    "    for j in range(int(len(y)/2),int(len(y)+1)):\n",
    "        l2.append(j)\n",
    "    tuple(l2)\n",
    "    return(l1,l2)\n",
    "print(separate(x))"
   ]
  },
  {
   "cell_type": "code",
   "execution_count": 51,
   "metadata": {},
   "outputs": [
    {
     "name": "stdout",
     "output_type": "stream",
     "text": [
      "(1, 2, 3, 4, 5)\n",
      "(6, 7, 8, 9, 10)\n"
     ]
    }
   ],
   "source": [
    "tup = (1,2,3,4,5,6,7,8,9,10)\n",
    "a=int(len(tup)/2)\n",
    "t1=tup[:a]\n",
    "t2=tup[a:]\n",
    "print(t1)\n",
    "print(t2)"
   ]
  },
  {
   "cell_type": "markdown",
   "metadata": {},
   "source": [
    "write a prog that accepts a sentence and calculate no. of lettters and digits"
   ]
  },
  {
   "cell_type": "code",
   "execution_count": 61,
   "metadata": {},
   "outputs": [
    {
     "name": "stdout",
     "output_type": "stream",
     "text": [
      "enter your sentence : asdsagad we42364 2 7623 td2t 7tdg\n",
      "no. of letters is 16 no. of digits is 12\n"
     ]
    }
   ],
   "source": [
    "a=input(\"enter your sentence : \")\n",
    "b=0\n",
    "c=0\n",
    "for i in a:\n",
    "    if i.isalpha():\n",
    "        b=b+1\n",
    "    elif i.isnumeric():\n",
    "        c=c+1\n",
    "    else:\n",
    "        pass\n",
    "print(\"no. of letters is\",b,\"no. of digits is\",c)"
   ]
  },
  {
   "cell_type": "markdown",
   "metadata": {},
   "source": [
    "write a prog to take sentence input from the user encrypt the \n",
    "sentence using shift by 3 method then decrypt the same and get original sentence\n"
   ]
  },
  {
   "cell_type": "code",
   "execution_count": 65,
   "metadata": {},
   "outputs": [
    {
     "name": "stdout",
     "output_type": "stream",
     "text": [
      "enter ur sentence : abc 123\n",
      "abc 123\n"
     ]
    }
   ],
   "source": [
    "sent = input(\"enter ur sentence : \")\n",
    "k=\"\"\n",
    "def encrypt(sent):\n",
    "    for i in sent:\n",
    "        if i.isalpha():\n",
    "            ord(i)\n",
    "            i=i+3\n",
    "        if i.isnumeric():\n",
    "            i=i+3\n",
    "        else:\n",
    "            pass\n",
    "        return(encrypt(sent))\n",
    "print(sent)\n",
    "            "
   ]
  },
  {
   "cell_type": "code",
   "execution_count": null,
   "metadata": {},
   "outputs": [],
   "source": [
    "st= input(\"enter st \")\n",
    "en=\"\"\n",
    "den=\"\"\n",
    "for i in st:\n",
    "    i=ord(i)+3\n",
    "    j=chr(i)\n",
    "    en=en+j\n",
    "for i in st:\n",
    "    i in st:\n",
    "    i=ord(i)-3\n",
    "    j=chr(i)\n",
    "    den=den+j"
   ]
  },
  {
   "cell_type": "code",
   "execution_count": 9,
   "metadata": {},
   "outputs": [
    {
     "name": "stdout",
     "output_type": "stream",
     "text": [
      "enter st abc 123\n",
      "def#456\n"
     ]
    }
   ],
   "source": [
    "st= input(\"enter st \")\n",
    "en=\"\"\n",
    "den=\"\"\n",
    "for i in st:\n",
    "    i=ord(i)+3\n",
    "    j=chr(i)\n",
    "    if i==\"#\":\n",
    "        i=\" \"\n",
    "    en=en+j\n",
    "    \n",
    "print(en)"
   ]
  },
  {
   "cell_type": "code",
   "execution_count": null,
   "metadata": {},
   "outputs": [],
   "source": [
    "# take the final score of python exam for 57 students\n",
    "# and group there marks 0-10,11-20....import "
   ]
  },
  {
   "cell_type": "code",
   "execution_count": 25,
   "metadata": {},
   "outputs": [
    {
     "name": "stdout",
     "output_type": "stream",
     "text": [
      "[16, 30, 25, 37, 42, 34, 11, 5, 33, 25, 13, 49, 4, 8, 33, 32, 12, 11, 15, 8, 29, 35, 48, 19, 23, 20, 14, 6, 49, 32, 1, 47]\n",
      "[57, 92, 93, 77, 70, 82, 86, 73, 51, 83, 60, 84, 87, 99, 62, 58, 80, 65, 81, 56, 65, 98, 70, 68, 67]\n"
     ]
    }
   ],
   "source": [
    "import random\n",
    "marks=[]\n",
    "for i in range(1,58):\n",
    "    marks.append(random.randint(0,100))\n",
    "failed=[]\n",
    "passed=[]\n",
    "for i in marks:\n",
    "    if i <=49:\n",
    "        failed.append(i)\n",
    "    else:\n",
    "        passed.append(i)\n",
    "print(failed)\n",
    "print(passed)"
   ]
  },
  {
   "cell_type": "markdown",
   "metadata": {},
   "source": [
    "a user of amazon is doing online shopping after entering his details system asks for otp confirmation which is a6 digit num write a prog to generate otps use dot sleep function\n",
    "def"
   ]
  },
  {
   "cell_type": "code",
   "execution_count": 4,
   "metadata": {},
   "outputs": [
    {
     "name": "stdout",
     "output_type": "stream",
     "text": [
      "otp = 407028\n",
      "otp = 738746\n",
      "otp = 544992\n",
      "otp = 826209\n",
      "otp = 175434\n"
     ]
    }
   ],
   "source": [
    "import time\n",
    "import random\n",
    "for i in range(5):\n",
    "    print(\"otp =\", random.randint(100000,1000000))\n",
    "    time.sleep(3)"
   ]
  }
 ],
 "metadata": {
  "kernelspec": {
   "display_name": "Python 3",
   "language": "python",
   "name": "python3"
  },
  "language_info": {
   "codemirror_mode": {
    "name": "ipython",
    "version": 3
   },
   "file_extension": ".py",
   "mimetype": "text/x-python",
   "name": "python",
   "nbconvert_exporter": "python",
   "pygments_lexer": "ipython3",
   "version": "3.8.3"
  }
 },
 "nbformat": 4,
 "nbformat_minor": 2
}
