{
 "cells": [
  {
   "cell_type": "markdown",
   "metadata": {},
   "source": [
    "### Q1. Write a python program to create a new csv file that holds the data about 5 students and their marks: Roll no of student, name and marks scored in Mathematics, Science and English."
   ]
  },
  {
   "cell_type": "code",
   "execution_count": 3,
   "metadata": {},
   "outputs": [],
   "source": [
    "import csv\n",
    "rowslist=[[\"Roll no.\",\"Name\",\"Marks in Maths\",\"Marks in Science\",\"Marks in English\"],\n",
    "         [1,\"Ram\",78,74,79],\n",
    "         [2,\"Rahim\",68,64,69],\n",
    "         [3,\"Max\",99,99,99],\n",
    "         [4,\"Sharukh\",56,67,78],\n",
    "         [5,\"Suraj\",34,87,65]]\n",
    "with open(\"Marksmemo.csv\",\"w\",newline=\"\") as file:\n",
    "    writer= csv.writer(file)\n",
    "    writer.writerows(rowslist)"
   ]
  },
  {
   "cell_type": "code",
   "execution_count": 7,
   "metadata": {},
   "outputs": [
    {
     "data": {
      "text/html": [
       "<div>\n",
       "<style scoped>\n",
       "    .dataframe tbody tr th:only-of-type {\n",
       "        vertical-align: middle;\n",
       "    }\n",
       "\n",
       "    .dataframe tbody tr th {\n",
       "        vertical-align: top;\n",
       "    }\n",
       "\n",
       "    .dataframe thead th {\n",
       "        text-align: right;\n",
       "    }\n",
       "</style>\n",
       "<table border=\"1\" class=\"dataframe\">\n",
       "  <thead>\n",
       "    <tr style=\"text-align: right;\">\n",
       "      <th></th>\n",
       "      <th>Roll no.</th>\n",
       "      <th>Name</th>\n",
       "      <th>Marks in Maths</th>\n",
       "      <th>Marks in Science</th>\n",
       "      <th>Marks in English</th>\n",
       "    </tr>\n",
       "  </thead>\n",
       "  <tbody>\n",
       "    <tr>\n",
       "      <th>0</th>\n",
       "      <td>1</td>\n",
       "      <td>Ram</td>\n",
       "      <td>78</td>\n",
       "      <td>74</td>\n",
       "      <td>79</td>\n",
       "    </tr>\n",
       "    <tr>\n",
       "      <th>1</th>\n",
       "      <td>2</td>\n",
       "      <td>Rahim</td>\n",
       "      <td>68</td>\n",
       "      <td>64</td>\n",
       "      <td>69</td>\n",
       "    </tr>\n",
       "    <tr>\n",
       "      <th>2</th>\n",
       "      <td>3</td>\n",
       "      <td>Max</td>\n",
       "      <td>99</td>\n",
       "      <td>99</td>\n",
       "      <td>99</td>\n",
       "    </tr>\n",
       "    <tr>\n",
       "      <th>3</th>\n",
       "      <td>4</td>\n",
       "      <td>Sharukh</td>\n",
       "      <td>56</td>\n",
       "      <td>67</td>\n",
       "      <td>78</td>\n",
       "    </tr>\n",
       "    <tr>\n",
       "      <th>4</th>\n",
       "      <td>5</td>\n",
       "      <td>Suraj</td>\n",
       "      <td>34</td>\n",
       "      <td>87</td>\n",
       "      <td>65</td>\n",
       "    </tr>\n",
       "  </tbody>\n",
       "</table>\n",
       "</div>"
      ],
      "text/plain": [
       "   Roll no.     Name  Marks in Maths  Marks in Science  Marks in English\n",
       "0         1      Ram              78                74                79\n",
       "1         2    Rahim              68                64                69\n",
       "2         3      Max              99                99                99\n",
       "3         4  Sharukh              56                67                78\n",
       "4         5    Suraj              34                87                65"
      ]
     },
     "execution_count": 7,
     "metadata": {},
     "output_type": "execute_result"
    }
   ],
   "source": [
    "import pandas as pd\n",
    "mm = pd.read_csv('Marksmemo.csv')\n",
    "mm"
   ]
  },
  {
   "cell_type": "markdown",
   "metadata": {},
   "source": [
    "### Q2. Write a python to program to add to each record in the above csv file, the total marks and the percentage secured by each student. Then print its contents sorted in descending order of percentage."
   ]
  },
  {
   "cell_type": "code",
   "execution_count": 9,
   "metadata": {},
   "outputs": [],
   "source": [
    "with open('Marksmemo.csv', 'a') as csvfile:\n",
    "    fieldnames = [\"Total Marks\"]\n",
    "    writer = csv.DictWriter(csvfile, fieldnames=fieldnames)\n",
    "    writer.writeheader()\n",
    "    writer.writerow({'Total Marks': 231 })\n",
    "    writer.writerow({'Total Marks': 201 })\n",
    "    writer.writerow({'Total Marks': 297 })\n",
    "    writer.writerow({'Total Marks': 200 })\n",
    "    writer.writerow({'Total Marks': 186 })"
   ]
  },
  {
   "cell_type": "markdown",
   "metadata": {},
   "source": [
    "### Q2. Write a python to program to add to each record in the above csv file, the total marks and the percentage secured by each student. Then print its contents sorted in descending order of percentage."
   ]
  },
  {
   "cell_type": "code",
   "execution_count": null,
   "metadata": {},
   "outputs": [],
   "source": [
    "import csv\n",
    "rowslist=[[\"Roll no.\",\"Name\",\"Marks in Maths\",\"Marks in Science\",\"Marks in English\"],\n",
    "         [1,\"Ram\",78,74,79],\n",
    "         [2,\"Rahim\",68,64,69],\n",
    "         [3,\"Max\",99,99,99],\n",
    "         [4,\"Sharukh\",56,67,78],\n",
    "         [5,\"Suraj\",34,87,65]]\n",
    "with open(\"Marksmemo.csv\",\"w\",newline=\"\") as file:\n",
    "    writer= csv.writer(file)\n",
    "    writer.writerows(rowslist)\n",
    "import pandas as pd\n",
    "l1=[231,201,297,200,186]\n",
    "l2=[]\n",
    "for i in range(0,5):\n",
    "    l2.append(l1[i]/3)\n",
    "# print(l2)\n",
    "tmarks = {\"Total Marks\":[231,201,297,200,186],\n",
    "         \"Percentage\":[77,67,99,66.67,62]}\n",
    "df1=pd.DataFrame(tmarks)\n",
    "df=pd.read_csv('Marksmemo.csv')\n",
    "df2=pd.concat([df,df1],axis=1)\n",
    "df2.to_csv(\"Marksmemo.csv\")\n",
    "df2"
   ]
  },
  {
   "cell_type": "markdown",
   "metadata": {},
   "source": [
    "### 3. Write a program to create a file that holds the mailing addresses of all the students in your class. Using this file, determine the different number of students using each of the different domains"
   ]
  },
  {
   "cell_type": "code",
   "execution_count": null,
   "metadata": {},
   "outputs": [],
   "source": [
    "import pandas as pd\n",
    "m={\"name\": ['max','jake','alex','steve','luna'],\"email id\" : ['max@gmail.com','jake@ymail.com','alex@yahoo.in','steve@gmail.com','luna@rediff.com'] }\n",
    "#dictionary created for mail id,s\n",
    "df3=pd.DataFrame(m)\n",
    "#print(df3)\n",
    "df3.to_csv('Mymailid.csv',mode='w',index=False)\n",
    "new=[] # new list for adding mail id's\n",
    "for mail in df3[\"email id\"]: #for loop for mail id\n",
    "    new.append(mail)\n",
    "#print(new)\n",
    "domain=[] # domain list to add domains\n",
    "for yar in new: #for loop for split and adding in domain list\n",
    "    k=yar.split('@')\n",
    "    domain.append(k[1])\n",
    "domain_unique=set(domain)\n",
    "print(\"The various domains used are :- \",domain_unique)"
   ]
  },
  {
   "cell_type": "markdown",
   "metadata": {},
   "source": [
    "### Q4. Create a file that contains the names of all the students in your class and the month in which their birthday falls. Write a program to find the names of all students whose birthday falls in the month of October"
   ]
  },
  {
   "cell_type": "code",
   "execution_count": null,
   "metadata": {},
   "outputs": [],
   "source": [
    "import pandas as pd\n",
    "dict1={\"Names\":['max','jake','alex','steve','luna'],\n",
    "     \"Birthdays\":['april','march','october','january','october']}\n",
    "df4=pd.DataFrame(dict1)\n",
    "#print(df4)\n",
    "df4.to_csv(\"mybirth.csv\",mode='w',index=False)\n",
    "for val in range (len(df4[\"Birthdays\"])):\n",
    "    if df4['Birthdays'][val]=='october':\n",
    "        print(\"students born in october \",(df4['Names'][val]))"
   ]
  },
  {
   "cell_type": "markdown",
   "metadata": {},
   "source": [
    "### Q5. Write a program to create a list of lists. The element list should be factors of the indices of the list."
   ]
  },
  {
   "cell_type": "code",
   "execution_count": 2,
   "metadata": {},
   "outputs": [
    {
     "name": "stdout",
     "output_type": "stream",
     "text": [
      "enter your number10\n",
      "[[0], [1, 1], [1, 2], [1, 3], [1, 4, 2, 2], [1, 5], [1, 6, 2, 3], [1, 7], [1, 8, 2, 4], [1, 9, 3, 3], [1, 10, 2, 5]]\n"
     ]
    }
   ],
   "source": [
    "def factors(n):\n",
    "    from functools import reduce\n",
    "    return list(reduce(list.__add__,([i, n//i] for i in range(1, int(n**0.5) + 1) if n % i == 0)))\n",
    "def lister():\n",
    "    n=int(input(\"enter your number\"))\n",
    "    x=[]\n",
    "    x.append([0])\n",
    "    for i in range(1,n+1):\n",
    "        factors(i)\n",
    "        x.append(factors(i))\n",
    "    return(print(x))\n",
    "lister()"
   ]
  },
  {
   "cell_type": "markdown",
   "metadata": {},
   "source": [
    "### Q6. Develop a Phone-Book using dictionaries and search for a particular name then display it"
   ]
  },
  {
   "cell_type": "code",
   "execution_count": null,
   "metadata": {},
   "outputs": [],
   "source": [
    "import pandas as pd\n",
    "choice=input(\"enter the name:- \")\n",
    "dict={'names':['max','jake','alex','steve','luna'],\n",
    "     'phno':['8692876768','9856987412','9987411128','8741147561','9877466357']}\n",
    "df5=pd.DataFrame(dict)\n",
    "df5.to_csv(\"myphno.csv\",mode='w',index=False)\n",
    "\n",
    "for val in range (len(df5[\"names\"])):\n",
    "    if df5['names'][val]==choice:\n",
    "        print(df5['names'][val],\"phone number is :-\",(df5['phno'][val]))"
   ]
  },
  {
   "cell_type": "markdown",
   "metadata": {},
   "source": [
    "### Q7. Write a Python program to combine two dictionary adding values for common keys."
   ]
  },
  {
   "cell_type": "code",
   "execution_count": null,
   "metadata": {},
   "outputs": [],
   "source": [
    "# d is getting added to itsel i donot understand why\n",
    "dict1 = {'a': 500, 'b': 200, 'c':300}\n",
    "dict2 = {'a': 300, 'b': 400, 'd':500}\n",
    "\n",
    "d3 = (dict1)\n",
    "d3.update(dict2)\n",
    "print(d3)\n",
    "\n",
    "for i,j in dict1.items():\n",
    "    for a,b in dict2.items():\n",
    "        if i==a:\n",
    "            ob1[i]=dict1[i]+dict2[i]\n",
    "        else:\n",
    "            pass  #j+b\n",
    "\n",
    "print(ob1)"
   ]
  },
  {
   "cell_type": "markdown",
   "metadata": {},
   "source": [
    "### Q8. Write a program to display all the unique values in the given list of dictionaries:\n",
    "##### Sample Data: [{\"V\":\"S001\"}, {\"V\": \"S002\"}, {\"VI\": \"S001\"}, {\"VI\": \"S005\"}, {\"VII\":\"S005\"},{\"V\":\"S009\"},{\"VIII\":\"S007\"}]"
   ]
  },
  {
   "cell_type": "code",
   "execution_count": 49,
   "metadata": {},
   "outputs": [
    {
     "name": "stdout",
     "output_type": "stream",
     "text": [
      "The unique values are: {'S001', 'S009', 'S002', 'S007', 'S005'}\n"
     ]
    }
   ],
   "source": [
    "l1 = [{\"V\":\"S001\"}, {\"V\": \"S002\"}, {\"VI\": \"S001\"}, {\"VI\": \"S005\"}, {\"VII\":\"S005\"}, {\"V\":\"S009\"},{\"VIII\":\"S007\"}]\n",
    "set1=set()\n",
    "for i in l1:\n",
    "    for j in i.values():\n",
    "        set1.add(j)\n",
    "        unique_values=set\n",
    "print(\"The unique values are:\",unique_values)\n"
   ]
  },
  {
   "cell_type": "markdown",
   "metadata": {},
   "source": [
    "### Q9. Create a program that counts the total number of words, total number of punctuation marks anddisplays the most frequently occurring word from the following paragraph:\n",
    "Entrepreneur and e-commerce pioneer Jeff Bezos was born on January 12, 1964, in Albuquerque,\n",
    "New Mexico. Bezos had an early love of computers and studied computer science and electrical\n",
    "engineering at Princeton University. After graduation he worked on Wall Street, and in 1990 he\n",
    "became the youngest senior vice president at the investment firm D.E. Shaw. Four years later, he\n",
    "quit his lucrative job to open Amazon.com, a virtual bookstore that became one of the internet's\n",
    "biggest success stories. In 2013, Bezos purchased The Washington Post in a $250 million deal. His\n",
    "successful business ventures have made him one of the richest people in the world!"
   ]
  },
  {
   "cell_type": "code",
   "execution_count": 51,
   "metadata": {},
   "outputs": [
    {
     "name": "stdout",
     "output_type": "stream",
     "text": [
      "The total number of words in the paragraph is 103\n",
      "Total Punctuations are:-  19\n",
      "The most frequent occuring word in the paragraph is ' the ' occuring 5 times\n"
     ]
    }
   ],
   "source": [
    "z=\"\"\"Entrepreneur and e-commerce pioneer Jeff Bezos was born on January 12 , 1964 , in Albuquerque ,\n",
    "New Mexico . Bezos had an early love of computers and studied computer science and electrical\n",
    "engineering at Princeton University . After graduation he worked on Wall Street, and in 1990 he\n",
    "became the youngest senior vice president at the investment firm D . E . Shaw. Four years later, he\n",
    "quit his lucrative job to open Amazon . com , a virtual bookstore that became one of the internet ' s\n",
    "biggest success stories . In 2013 , Bezos purchased The Washington Post in a $ 250 million deal . His\n",
    "successful business ventures have made him one of the richest people in the world !\"\"\"\n",
    "\n",
    "import string\n",
    "punct=[] \n",
    "for char in z :\n",
    "    if char in string.punctuation :\n",
    "        punct.append(char)\n",
    "for ch in '.,!$':\n",
    "    z=z.replace(ch,' ')\n",
    "\n",
    "zlist = z.split()\n",
    "zcount=[]\n",
    "for i in zlist:\n",
    "    if i.isalpha()==True:\n",
    "        zcount.append(i)\n",
    "        \n",
    "zdict={}\n",
    "for i in zcount:\n",
    "    if i in zdict:\n",
    "        zdict[i]=zdict[i]+1\n",
    "    else:\n",
    "        zdict[i]=1\n",
    "max_count = [(value, key) for key, value in zdict.items()]\n",
    "\n",
    "print('The total number of words in the paragraph is',len(zcount))\n",
    "print('Total Punctuations are:- ',len(punct))\n",
    "print ('The most frequent occuring word in the paragraph is',\"'\",max(max_count)[1],\"'\",'occuring',max(max_count)[0],'times')        \n"
   ]
  },
  {
   "cell_type": "markdown",
   "metadata": {},
   "source": [
    "### Q10. From the above paragraph, extract all the years mentioned."
   ]
  },
  {
   "cell_type": "code",
   "execution_count": 46,
   "metadata": {},
   "outputs": [
    {
     "name": "stdout",
     "output_type": "stream",
     "text": [
      "['1964', '1990', '2013']\n"
     ]
    }
   ],
   "source": [
    "z=\"\"\"Entrepreneur and e-commerce pioneer Jeff Bezos was born on January 12, 1964 , in Albuquerque, New Mexico. \n",
    "Bezos had an early love of computers and studied computer science and electrical engineering at Princeton University. \n",
    "After graduation he worked on Wall Street, and in 1990 he became the youngest senior vice president at the investment firm\n",
    "D.E. Shaw. Four years later, he quit his lucrative job to open Amazon.com, a virtual bookstore that became one of the \n",
    "internet's biggest success stories. In 2013 , Bezos purchased The Washington Post in a $250 million deal. His successful \n",
    "business ventures have made him one of the richest people in the world!\"\"\"\n",
    "def extractyear(z):\n",
    "    zlist=z.split()\n",
    "    a1=[]\n",
    "    for i in zlist:\n",
    "        if i.isdigit() and len(i)==4:\n",
    "            a1.append(i)\n",
    "    return(print(a1))\n",
    "extractyear(z)"
   ]
  },
  {
   "cell_type": "code",
   "execution_count": null,
   "metadata": {},
   "outputs": [],
   "source": []
  }
 ],
 "metadata": {
  "kernelspec": {
   "display_name": "Python 3",
   "language": "python",
   "name": "python3"
  },
  "language_info": {
   "codemirror_mode": {
    "name": "ipython",
    "version": 3
   },
   "file_extension": ".py",
   "mimetype": "text/x-python",
   "name": "python",
   "nbconvert_exporter": "python",
   "pygments_lexer": "ipython3",
   "version": "3.8.3"
  }
 },
 "nbformat": 4,
 "nbformat_minor": 2
}
