{
 "cells": [
  {
   "cell_type": "markdown",
   "metadata": {},
   "source": [
    "### Write a Python program to imitate login activity of a user also do its validation. (hint:-If user enters the wrong userid or password it should provide a message)\n"
   ]
  },
  {
   "cell_type": "code",
   "execution_count": 6,
   "metadata": {},
   "outputs": [
    {
     "name": "stdout",
     "output_type": "stream",
     "text": [
      "Enter your username : Aditi\n",
      "Enter your password : Yahoo@1234\n",
      "Login unsuccessful! Please Try Again!\n"
     ]
    }
   ],
   "source": [
    "Login_Details = {'Pooja' : 'Yahoo@1234', 'Aditi' : 'Rediff@4255', 'Sanhita' : 'Piyu0711'}\n",
    "\n",
    "username = input(\"Enter your username : \")\n",
    "\n",
    "\n",
    "if(username in Login_Details):\n",
    "    password = input(\"Enter your password : \")\n",
    "\n",
    "    if(password == Login_Details.get(username)):\n",
    "        print(\"You are successfully logged in!!\")\n",
    "    else:\n",
    "        print(\"Login unsuccessful! Please Try Again!\")\n",
    "else:\n",
    "    print(\"Invalid Username! Please try again!\")\n",
    "\n"
   ]
  },
  {
   "cell_type": "markdown",
   "metadata": {},
   "source": [
    "###  Write a Python program to imitate a shopping transaction where user purchase 5 notebooks of 20 rs each and 2 pens of 5 rs each. Show the total amount to be payable to the shopkeeper.\n"
   ]
  },
  {
   "cell_type": "code",
   "execution_count": 8,
   "metadata": {},
   "outputs": [
    {
     "name": "stdout",
     "output_type": "stream",
     "text": [
      "Enter the number of pens bought : 2\n",
      "Enter the number of notebooks bought : 5\n",
      "The total amount payable is :  110\n"
     ]
    }
   ],
   "source": [
    "pen = int(input(\"Enter the number of pens bought : \"))\n",
    "notebook = int(input(\"Enter the number of notebooks bought : \"))\n",
    "\n",
    "total = (pen * 5) + (notebook * 20)\n",
    "\n",
    "print(\"The total amount payable is : \", total)"
   ]
  },
  {
   "cell_type": "markdown",
   "metadata": {},
   "source": [
    "### Accept the age of the person and print an appropriate message as per the table given alongside: <=12 - You are child, 13-19 - You are a teenager, 20-59 - You are an adult, >=60 - You are a senior citizen "
   ]
  },
  {
   "cell_type": "code",
   "execution_count": 3,
   "metadata": {},
   "outputs": [
    {
     "name": "stdout",
     "output_type": "stream",
     "text": [
      "Enter your age : 65\n",
      "You are a Senior Citizen!\n"
     ]
    }
   ],
   "source": [
    "age = int(input(\"Enter your age : \"))\n",
    "\n",
    "if (age <= 12):\n",
    "    print(\"You are a child!\")\n",
    "\n",
    "elif((age >= 13) and (age <= 19)):\n",
    "    print(\"You are a Teenager!\")\n",
    "    \n",
    "elif((age >= 20) and (age <= 59)):\n",
    "    print(\"You are an Adult!\")\n",
    "\n",
    "else:\n",
    "    print(\"You are a Senior Citizen!\")"
   ]
  },
  {
   "cell_type": "markdown",
   "metadata": {},
   "source": [
    "###  Accept the purchases made by a customer and calculate and print the discount payable by him. You are given that a discount of 10% is given on purchases greater than Rs. 3000/- and no discount is given for purchases below that.\n"
   ]
  },
  {
   "cell_type": "code",
   "execution_count": 2,
   "metadata": {},
   "outputs": [
    {
     "name": "stdout",
     "output_type": "stream",
     "text": [
      "Enter the number of Chairs you want to purchase : 1\n",
      "Enter the number of Tables you want to purchase : 2\n",
      "The total discount amount is :  500.0\n"
     ]
    }
   ],
   "source": [
    "Chair = 1000\n",
    "Table = 2000\n",
    "\n",
    "no_chair = int(input(\"Enter the number of Chairs you want to purchase : \"))\n",
    "no_table = int(input(\"Enter the number of Tables you want to purchase : \"))\n",
    "\n",
    "Purchase = (no_chair*Chair) + (no_table*Table)\n",
    "Total = 0\n",
    "\n",
    "if(Purchase >= 3000):\n",
    "    Total = Purchase * (0.1)\n",
    "    print(\"The total discount amount is : \", Total)\n",
    "else:\n",
    "    Total = Purchase\n",
    "    print(\"The total discount amount is : \", Total)"
   ]
  },
  {
   "cell_type": "markdown",
   "metadata": {},
   "source": [
    "###  Accept the gross salary of an employee. Calculate and print the tax based on the given criteria. upto 200000 - Nil, 200001-500000 - 10%, Above 500000 - 20%"
   ]
  },
  {
   "cell_type": "code",
   "execution_count": 3,
   "metadata": {},
   "outputs": [
    {
     "name": "stdout",
     "output_type": "stream",
     "text": [
      "Enter the salary : 500000\n",
      "The payable tax is :  50000.0\n"
     ]
    }
   ],
   "source": [
    "Salary = int(input(\"Enter the salary : \"))\n",
    "Tax = 0\n",
    "\n",
    "if(Salary <= 200000):\n",
    "    Tax = 0\n",
    "    print(\"The payable tax is : \", Tax)\n",
    "    \n",
    "elif(Salary > 200000 and Salary <= 500000):\n",
    "    Tax = Salary * 0.1\n",
    "    print(\"The payable tax is : \", Tax)\n",
    "    \n",
    "else:\n",
    "    Tax = Salary * 0.2\n",
    "    print(\"The payable tax is : \", Tax)\n",
    "    "
   ]
  },
  {
   "cell_type": "markdown",
   "metadata": {},
   "source": [
    "###  Scholarships are given to students on the following basis: % >= 90 Scholarship = 5000, >=80 -> 1000, otherwise Nil"
   ]
  },
  {
   "cell_type": "code",
   "execution_count": 3,
   "metadata": {},
   "outputs": [
    {
     "name": "stdout",
     "output_type": "stream",
     "text": [
      "Enter the percentage of the student : 12\n",
      "The student will not get any scholarship.\n"
     ]
    }
   ],
   "source": [
    "Percentage = float(input(\"Enter the percentage of the student : \"))\n",
    "\n",
    "if(Percentage >= 90):\n",
    "    print(\"The student will get a scholarship of Rs. 5000\")\n",
    "elif(Percentage >= 80):\n",
    "    print(\"The student will get a scholarship of Rs. 1000\")\n",
    "else:\n",
    "    print(\"The student will not get any scholarship.\")"
   ]
  },
  {
   "cell_type": "markdown",
   "metadata": {},
   "source": [
    "###  Accept the quantity of an item purchased and its price. Calculate the amount of purchase. If the amount exceeds Rs.5000, a discount of 20% is given otherwise the discount rate is 10%. Print the input values, the discount rate and amount, net amount to be paid by the customer.\n"
   ]
  },
  {
   "cell_type": "code",
   "execution_count": null,
   "metadata": {},
   "outputs": [],
   "source": [
    "Chair = 1000\n",
    "Table = 2000\n",
    "\n",
    "no_chair = int(input(\"Enter the number of Chairs you want to purchase : \"))\n",
    "no_table = int(input(\"Enter the number of Tables you want to purchase : \"))\n",
    "\n",
    "Purchase = (no_chair*Chair) + (no_table*Table)\n",
    "print(\"The total amount without discount is : \", Purchase)\n",
    "Total = 0\n",
    "\n",
    "if(Purchase >= 5000):\n",
    "    Total = Purchase - (Purchase * (0.2))\n",
    "    print(\"The total amount after discount is : \", Total)\n",
    "else:\n",
    "    Total = Purchase - (Purchase * (0.1))\n",
    "    print(\"The total amount after discount is : \", Total)"
   ]
  },
  {
   "cell_type": "markdown",
   "metadata": {},
   "source": [
    "###  Accept the marks obtained by the 5 students for subjects of Python, Statistics, Machine Learning, Deep Learning, Big-Data also all marks are out of 100. Find the sum and percentage of the for all students and display the name and marks of the first rank holder."
   ]
  },
  {
   "cell_type": "code",
   "execution_count": null,
   "metadata": {},
   "outputs": [],
   "source": [
    "for i in range(0,5):\n",
    "    int(input(\"\\nEnter the Student ID : \"))\n",
    "    sub1 = int(input(\"Enter the marks for Python : \"))\n",
    "    sub2 = int(input(\"Enter the marks for Statistics : \"))\n",
    "    sub3 = int(input(\"Enter the marks for Machine Learning : \"))\n",
    "    sub4 = int(input(\"Enter the marks for Deep Learning : \"))\n",
    "    sub5 = int(input(\"Enter the marks for Big-Data : \"))\n",
    " \n",
    "    Total = sub1 + sub2 + sub3 + sub4 + sub5\n",
    "    Percentage = (Total/500) * 100\n",
    "    \n",
    "    print(\"\\nThe total marks of the Student is : \", Total)\n",
    "    print(\"The percentage is : \", Percentage)"
   ]
  },
  {
   "cell_type": "code",
   "execution_count": null,
   "metadata": {},
   "outputs": [],
   "source": []
  }
 ],
 "metadata": {
  "kernelspec": {
   "display_name": "Python 3",
   "language": "python",
   "name": "python3"
  },
  "language_info": {
   "codemirror_mode": {
    "name": "ipython",
    "version": 3
   },
   "file_extension": ".py",
   "mimetype": "text/x-python",
   "name": "python",
   "nbconvert_exporter": "python",
   "pygments_lexer": "ipython3",
   "version": "3.7.3"
  }
 },
 "nbformat": 4,
 "nbformat_minor": 2
}
