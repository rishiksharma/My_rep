{
 "cells": [
  {
   "cell_type": "markdown",
   "metadata": {},
   "source": [
    "### Write a program to print I using stars"
   ]
  },
  {
   "cell_type": "code",
   "execution_count": 6,
   "metadata": {},
   "outputs": [
    {
     "name": "stdout",
     "output_type": "stream",
     "text": [
      "* * * * \n",
      "   * \n",
      "   * \n",
      "   * \n",
      "   * \n",
      "   * \n",
      "* * * * \n"
     ]
    }
   ],
   "source": [
    "for row in range(7):\n",
    "    for col in range(4):\n",
    "        if(col == 3) or (row == 0 and col!=3) or (row == 6 and col<3):\n",
    "            print(\"* \", end=\"\")\n",
    "        else:\n",
    "            print(end=\" \")\n",
    "    print()"
   ]
  },
  {
   "cell_type": "markdown",
   "metadata": {},
   "source": [
    "### Write a program to print J using stars"
   ]
  },
  {
   "cell_type": "code",
   "execution_count": 9,
   "metadata": {},
   "outputs": [
    {
     "name": "stdout",
     "output_type": "stream",
     "text": [
      "*****\n",
      "  *  \n",
      "  *  \n",
      "  *  \n",
      "  *  \n",
      "  *  \n",
      "***  \n"
     ]
    }
   ],
   "source": [
    "for row in range(7):\n",
    "    for col in range(5):\n",
    "        if(col == 2) or (row == 0) or (row == 6 and col<3):\n",
    "            print(\"*\", end=\"\")\n",
    "        else:\n",
    "            print(end=\" \")\n",
    "    print()"
   ]
  },
  {
   "cell_type": "markdown",
   "metadata": {},
   "source": [
    "### WAP to print K"
   ]
  },
  {
   "cell_type": "code",
   "execution_count": 10,
   "metadata": {},
   "outputs": [
    {
     "name": "stdout",
     "output_type": "stream",
     "text": [
      "*    *\n",
      "*   * \n",
      "*  *  \n",
      "* *   \n",
      "*  *  \n",
      "*   * \n",
      "*    *\n"
     ]
    }
   ],
   "source": [
    "for row in range(7):\n",
    "    for col in range(6):\n",
    "        if((col == 0) or ((row == 0 or row==6) and (col == 5))\n",
    "                        or ((row==1 or row==5) and (col==4))\n",
    "                        or ((row==2 or row==4) and (col==3))\n",
    "                        or ((row==3) and(col==2))): \n",
    "            print(\"*\", end=\"\")\n",
    "        else:\n",
    "            print(end=\" \")\n",
    "    print()"
   ]
  },
  {
   "cell_type": "markdown",
   "metadata": {},
   "source": [
    "### WAP to print L"
   ]
  },
  {
   "cell_type": "code",
   "execution_count": 8,
   "metadata": {},
   "outputs": [
    {
     "name": "stdout",
     "output_type": "stream",
     "text": [
      "*      \n",
      "*      \n",
      "*      \n",
      "*      \n",
      "*      \n",
      "*      \n",
      "* * * * * * \n"
     ]
    }
   ],
   "source": [
    "for row in range(7):\n",
    "    for col in range(6):\n",
    "        if(col==0 or row==6):\n",
    "            print(\"* \", end=\"\")\n",
    "        else:\n",
    "            print(end=\" \")\n",
    "    print()"
   ]
  },
  {
   "cell_type": "markdown",
   "metadata": {},
   "source": [
    "### WAP to print M"
   ]
  },
  {
   "cell_type": "code",
   "execution_count": 23,
   "metadata": {},
   "outputs": [
    {
     "name": "stdout",
     "output_type": "stream",
     "text": [
      "*     *\n",
      "**   **\n",
      "* * * *\n",
      "*  *  *\n",
      "*     *\n",
      "*     *\n",
      "*     *\n"
     ]
    }
   ],
   "source": [
    "for row in range(7):\n",
    "    for col in range(7):\n",
    "        if((col==0 or col==6) or (row==col and (col>0 and col<4)) or (row==1 and col==5) or (row==2 and col==4)):\n",
    "            print(\"*\", end=\"\")\n",
    "        else:\n",
    "            print(end=\" \")\n",
    "    print()"
   ]
  },
  {
   "cell_type": "markdown",
   "metadata": {},
   "source": [
    "### WAP to print N"
   ]
  },
  {
   "cell_type": "code",
   "execution_count": 25,
   "metadata": {},
   "outputs": [
    {
     "name": "stdout",
     "output_type": "stream",
     "text": [
      "*     *\n",
      "**    *\n",
      "* *   *\n",
      "*  *  *\n",
      "*   * *\n",
      "*    **\n",
      "*     *\n"
     ]
    }
   ],
   "source": [
    "for row in range(7):\n",
    "    for col in range(7):\n",
    "        if((col==0 or col==6) or (row==col)):\n",
    "            print(\"*\", end=\"\")\n",
    "        else:\n",
    "            print(end= \" \")\n",
    "    print()"
   ]
  },
  {
   "cell_type": "markdown",
   "metadata": {},
   "source": [
    "### WAP to print O"
   ]
  },
  {
   "cell_type": "code",
   "execution_count": 12,
   "metadata": {},
   "outputs": [
    {
     "name": "stdout",
     "output_type": "stream",
     "text": [
      " *** \n",
      "*   *\n",
      "*   *\n",
      "*   *\n",
      "*   *\n",
      "*   *\n",
      " *** \n",
      "     \n"
     ]
    }
   ],
   "source": [
    "for row in range(8):\n",
    "    for col in range(5):\n",
    "        if((col==0 or col==4) and (row>0 and row<6) or (row==0 or row==6) and (col>0 and col<4)):\n",
    "            print(\"*\", end=\"\")\n",
    "        else:\n",
    "            print(end=\" \")\n",
    "    print()"
   ]
  },
  {
   "cell_type": "markdown",
   "metadata": {},
   "source": [
    "### WAP to print P"
   ]
  },
  {
   "cell_type": "code",
   "execution_count": 11,
   "metadata": {},
   "outputs": [
    {
     "name": "stdout",
     "output_type": "stream",
     "text": [
      "*****  \n",
      "*   *  \n",
      "*   *  \n",
      "*****  \n",
      "*      \n",
      "*      \n",
      "*      \n",
      "*      \n"
     ]
    }
   ],
   "source": [
    "for row in range(8):\n",
    "    for col in range(7):\n",
    "        if((col==0 or (row == 0 and col<5)) or (col==4 and row<4) or (row==3 and col<4)):\n",
    "            print(\"*\", end=\"\")\n",
    "        else:\n",
    "            print(end=\" \")\n",
    "    print()"
   ]
  },
  {
   "cell_type": "markdown",
   "metadata": {},
   "source": [
    "### WAP to print R"
   ]
  },
  {
   "cell_type": "code",
   "execution_count": 17,
   "metadata": {},
   "outputs": [
    {
     "name": "stdout",
     "output_type": "stream",
     "text": [
      "*******\n",
      "*      \n",
      "*      \n",
      "*      \n",
      "*      \n",
      "*      \n",
      "*      \n",
      "*      \n"
     ]
    }
   ],
   "source": [
    "for row in range(8):\n",
    "    for col in range(7):\n",
    "        if((col==0 or row==0) or (col==7 and row<5)):\n",
    "            print(\"*\", end=\"\")\n",
    "        else:\n",
    "            print(end=\" \")\n",
    "    print()"
   ]
  },
  {
   "cell_type": "markdown",
   "metadata": {},
   "source": [
    "### Write a program to print a pyramid of stars"
   ]
  },
  {
   "cell_type": "code",
   "execution_count": 13,
   "metadata": {},
   "outputs": [
    {
     "name": "stdout",
     "output_type": "stream",
     "text": [
      "Enter the number of rows : 5\n",
      "        * \n",
      "      * * * \n",
      "    * * * * * \n",
      "  * * * * * * * \n",
      "* * * * * * * * * \n"
     ]
    }
   ],
   "source": [
    "n = int(input(\"Enter the number of rows : \"))\n",
    "for i in range(1, n+1):\n",
    "    for j in range(1, n-i+1):\n",
    "        print(\" \", end=\" \")\n",
    "    for k in range(1, i+1):\n",
    "        print(\"*\", end=\" \")\n",
    "    for l in range(1, i):\n",
    "        print(\"*\", end=\" \")\n",
    "    print()"
   ]
  },
  {
   "cell_type": "markdown",
   "metadata": {},
   "source": [
    "### WAP to print the following program"
   ]
  },
  {
   "cell_type": "code",
   "execution_count": 3,
   "metadata": {},
   "outputs": [
    {
     "name": "stdout",
     "output_type": "stream",
     "text": [
      "Enter the number of rows : 5\n",
      "      1 \n",
      "    2 3 2 \n",
      "  3 4 5 4 3 \n",
      "4 5 6 7 6 5 4 \n",
      "5 6 7 8 9 8 7 6 5 \n"
     ]
    }
   ],
   "source": [
    "n = int(input(\"Enter the number of rows : \"))\n",
    "num = 1\n",
    "gap = n - 1\n",
    "for j in range(1, n+1):\n",
    "    num = j\n",
    "    for i in range(1, gap+1):\n",
    "        print(\" \", end=\" \")\n",
    "    gap = gap - 1\n",
    "\n",
    "    for i in range(1, j+1):\n",
    "        print(num, end=\" \")\n",
    "        num = num + 1\n",
    "\n",
    "    num = num - 2\n",
    "\n",
    "    for i in range(1, j):\n",
    "        print(num, end=\" \")\n",
    "        num = num - 1\n",
    "\n",
    "    print()"
   ]
  },
  {
   "cell_type": "markdown",
   "metadata": {},
   "source": [
    "### Write a program to print the following pattern"
   ]
  },
  {
   "cell_type": "code",
   "execution_count": 15,
   "metadata": {},
   "outputs": [
    {
     "name": "stdout",
     "output_type": "stream",
     "text": [
      "Enter the number of rows : 8\n",
      "A \n",
      "B C \n",
      "D E F \n",
      "G H I J \n",
      "K L M N O \n",
      "P Q R S T U \n",
      "V W X Y Z [ \\ \n",
      "] ^ _ ` a b c d \n"
     ]
    }
   ],
   "source": [
    "n = int(input(\"Enter the number of rows : \"))\n",
    "\n",
    "num = 65      # initiate with ascii value of  capital A\n",
    "\n",
    "for i in range(0,n):\n",
    "    for j in range(0,i+1):\n",
    "        a = chr(num)\n",
    "        print(a, end=\" \")\n",
    "        num = num + 1\n",
    "    print()"
   ]
  },
  {
   "cell_type": "markdown",
   "metadata": {},
   "source": [
    "### WAP to find largest of two numbers without using function"
   ]
  },
  {
   "cell_type": "code",
   "execution_count": 4,
   "metadata": {},
   "outputs": [
    {
     "name": "stdout",
     "output_type": "stream",
     "text": [
      "Enter first number : 1\n",
      "Enter second number : 0\n",
      "The largest number between the two is :  1\n"
     ]
    }
   ],
   "source": [
    "n1 = int(input(\"Enter first number : \"))\n",
    "n2 = int(input(\"Enter second number : \"))\n",
    "\n",
    "if (n1 > n2):\n",
    "    print(\"The largest number between the two is : \", n1)\n",
    "else:\n",
    "    print(\"The largest of the two numbers is : \", n2)"
   ]
  },
  {
   "cell_type": "markdown",
   "metadata": {},
   "source": [
    "### WAP to find largest of the 3 numbers without using a function"
   ]
  },
  {
   "cell_type": "code",
   "execution_count": 18,
   "metadata": {},
   "outputs": [
    {
     "name": "stdout",
     "output_type": "stream",
     "text": [
      "Enter first number : 4\n",
      "Enter second number : 3\n",
      "Enter third number : 2\n",
      "The number 4 is the greatest.\n"
     ]
    }
   ],
   "source": [
    "n1 = int(input(\"Enter first number : \"))\n",
    "n2 = int(input(\"Enter second number : \"))\n",
    "n3 = int(input(\"Enter third number : \"))\n",
    "\n",
    "if (n1>n2 and n1>n3):\n",
    "    print(\"The number\",n1,\"is the greatest.\")\n",
    "elif(n2>n1 and n2>n3):\n",
    "    print(\"The number\",n2,\"is the greatest.\")\n",
    "else:\n",
    "    print(\"The number\",n3,\"is the greatest.\")"
   ]
  },
  {
   "cell_type": "markdown",
   "metadata": {},
   "source": [
    "### WAP  to find the average of 10 numbers entered from the user"
   ]
  },
  {
   "cell_type": "code",
   "execution_count": 10,
   "metadata": {},
   "outputs": [
    {
     "name": "stdout",
     "output_type": "stream",
     "text": [
      "Enter the number : 1\n",
      "Enter the number : 2\n",
      "Enter the number : 3\n",
      "Enter the number : 4\n",
      "Enter the number : 5\n",
      "Enter the number : 6\n",
      "Enter the number : 7\n",
      "Enter the number : 8\n",
      "Enter the number : 9\n",
      "Enter the number : 10\n",
      "The average is :  5.5\n"
     ]
    }
   ],
   "source": [
    "sum1=0\n",
    "for i in range(0,10):\n",
    "    n = int(input(\"Enter the number : \"))\n",
    "    sum1 = sum1+n\n",
    "    average1 = sum1/10\n",
    "print(\"The average is : \", average1)\n"
   ]
  },
  {
   "cell_type": "markdown",
   "metadata": {},
   "source": [
    "### WAP to find even and odd numbers from the list"
   ]
  },
  {
   "cell_type": "code",
   "execution_count": 7,
   "metadata": {},
   "outputs": [
    {
     "name": "stdout",
     "output_type": "stream",
     "text": [
      "The list of even numbers is :  [2, 4, 6, 8, 0]\n",
      "The list of odd numbers is :  [1, 3, 5, 7, 9]\n"
     ]
    }
   ],
   "source": [
    "list_1 = [1,2,3,4,5,6,7,8,9,0]\n",
    "\n",
    "new_list = list(filter(lambda x: (x%2 == 0), list_1))\n",
    "new_list1 = list(filter(lambda x: (x%2 != 0), list_1))\n",
    "print(\"The list of even numbers is : \", new_list)\n",
    "print(\"The list of odd numbers is : \",new_list1)"
   ]
  },
  {
   "cell_type": "markdown",
   "metadata": {},
   "source": [
    "### WAP to append elements of various datatypes (total 3 elements i.e 1 integer, 1 float and 1 string)"
   ]
  },
  {
   "cell_type": "code",
   "execution_count": 34,
   "metadata": {},
   "outputs": [
    {
     "name": "stdout",
     "output_type": "stream",
     "text": [
      "[2, 3.4, 'Pooja']\n"
     ]
    }
   ],
   "source": [
    "list1 = []\n",
    "list1.append(2)\n",
    "list1.append(3.4)\n",
    "list1.append('Pooja')\n",
    "print(list1)"
   ]
  },
  {
   "cell_type": "markdown",
   "metadata": {},
   "source": [
    "### Write a program to illustrate the difference between append and extend functions in list."
   ]
  },
  {
   "cell_type": "code",
   "execution_count": null,
   "metadata": {},
   "outputs": [],
   "source": []
  }
 ],
 "metadata": {
  "kernelspec": {
   "display_name": "Python 3",
   "language": "python",
   "name": "python3"
  },
  "language_info": {
   "codemirror_mode": {
    "name": "ipython",
    "version": 3
   },
   "file_extension": ".py",
   "mimetype": "text/x-python",
   "name": "python",
   "nbconvert_exporter": "python",
   "pygments_lexer": "ipython3",
   "version": "3.7.3"
  }
 },
 "nbformat": 4,
 "nbformat_minor": 2
}
