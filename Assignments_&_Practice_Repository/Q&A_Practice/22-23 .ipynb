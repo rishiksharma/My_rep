{
 "cells": [
  {
   "cell_type": "code",
   "execution_count": 10,
   "metadata": {},
   "outputs": [
    {
     "name": "stdout",
     "output_type": "stream",
     "text": [
      "A \n",
      "A B \n",
      "A B C \n",
      "A B C D \n",
      "A B C D E \n",
      "A B C D E F \n",
      "A B C D E F G \n"
     ]
    }
   ],
   "source": [
    "k=65 \n",
    "for i in range(1,8):\n",
    "    for j in range(k,k+i):\n",
    "        g=chr(j)\n",
    "        print(g,end=\" \")\n",
    "    print()"
   ]
  },
  {
   "cell_type": "code",
   "execution_count": 17,
   "metadata": {},
   "outputs": [
    {
     "name": "stdout",
     "output_type": "stream",
     "text": [
      "A \n",
      "B B \n",
      "C C C \n",
      "D D D D \n",
      "E E E E E \n",
      "F F F F F F \n",
      "G G G G G G G \n"
     ]
    }
   ],
   "source": [
    "k=65 \n",
    "for i in range(1,8):\n",
    "    for j in range(i):\n",
    "        g=chr(k)\n",
    "        print(g,end=\" \")\n",
    "    k=k+1\n",
    "    print()"
   ]
  },
  {
   "cell_type": "code",
   "execution_count": 18,
   "metadata": {},
   "outputs": [
    {
     "name": "stdout",
     "output_type": "stream",
     "text": [
      "A A A A A A A \n",
      "B B B B B B \n",
      "C C C C C \n",
      "D D D D \n",
      "E E E \n",
      "F F \n",
      "G \n"
     ]
    }
   ],
   "source": [
    "n=8\n",
    "k=65 \n",
    "for i in range(1,8):\n",
    "    for j in range(8-i):\n",
    "        g=chr(k)\n",
    "        print(g,end=\" \")\n",
    "    k=k+1\n",
    "    print()"
   ]
  },
  {
   "cell_type": "code",
   "execution_count": 22,
   "metadata": {},
   "outputs": [
    {
     "name": "stdout",
     "output_type": "stream",
     "text": [
      "* * * * * * * \n",
      " * * * * * * * \n",
      "  * * * * * * * \n",
      "   * * * * * * * \n",
      "    * * * * * * * \n",
      "     * * * * * * * \n",
      "      * * * * * * * \n"
     ]
    }
   ],
   "source": [
    "n=8 \n",
    "for i in range(1,n):\n",
    "    for j in range(1,i):\n",
    "        print(\" \",end=\"\")\n",
    "    for j in range(1,n):\n",
    "        print(\"*\",end=\" \")\n",
    "    print()"
   ]
  },
  {
   "cell_type": "code",
   "execution_count": 28,
   "metadata": {},
   "outputs": [
    {
     "name": "stdout",
     "output_type": "stream",
     "text": [
      "GCD is : 10\n"
     ]
    }
   ],
   "source": [
    "#  Write a program to find GCD.\n",
    "\n",
    "x=70\n",
    "y=80\n",
    "if x>y:\n",
    "    c=x\n",
    "else:\n",
    "    c=y\n",
    "for i in range(1,c):\n",
    "    if x%i==0 and y%i==0:\n",
    "        g=i\n",
    "        print(end=\"\")\n",
    "print(\"GCD is :\",g)"
   ]
  },
  {
   "cell_type": "code",
   "execution_count": 29,
   "metadata": {},
   "outputs": [
    {
     "name": "stdout",
     "output_type": "stream",
     "text": [
      "Enter Student Name: Shyam\n",
      "\n",
      "Enter History Marks: 70\n",
      "Enter Geography Marks: 80\n",
      "Enter Civics Marks: 90\n",
      "Enter SST Marks: 60\n",
      "Enter Science Marks:50\n",
      "\n",
      "Name is:  Shyam\n",
      "\n",
      "Marks of History  70\n",
      "Marks of Geography  80\n",
      "Marks of Civics  90\n",
      "Marks of SST  60\n",
      "Marks of Science  50\n",
      "\n",
      "Sum  350\n",
      "Average  16.0\n"
     ]
    }
   ],
   "source": [
    "# Write a Python function that accepts student names and marks (store in list). Calculate the total marks \n",
    "# and average based on the input. Display student names and marks, total and average.\n",
    "s_name=input(\"Enter Student Name: \")\n",
    "his=int(input(\"\\nEnter History Marks: \"))\n",
    "geo=int(input(\"Enter Geography Marks: \"))\n",
    "civ=int(input(\"Enter Civics Marks: \"))\n",
    "sst=int(input(\"Enter SST Marks: \"))\n",
    "sci=int(input(\"Enter Science Marks:\"))\n",
    "li=list(s_name)\n",
    "li_m=list([his,geo,civ,sst,sci])\n",
    "\n",
    "s=sum(li_m)\n",
    "avg=c/5\n",
    "\n",
    "print(\"\\nName is: \",s_name)\n",
    "print(\"\\nMarks of History \",his)\n",
    "print(\"Marks of Geography \",geo)\n",
    "print(\"Marks of Civics \",civ)\n",
    "print(\"Marks of SST \",sst)\n",
    "print(\"Marks of Science \",sci)\n",
    "\n",
    "print(\"\\nSum \",s)\n",
    "print(\"Average \",avg)"
   ]
  },
  {
   "cell_type": "code",
   "execution_count": 30,
   "metadata": {},
   "outputs": [
    {
     "name": "stdout",
     "output_type": "stream",
     "text": [
      "g           s \n",
      " e         k  \n",
      "  e       e   \n",
      "   k     e    \n",
      "    s   g     \n",
      "     f r      \n",
      "      o       \n",
      "     f r      \n",
      "    s   g     \n",
      "   k     e    \n",
      "  e       e   \n",
      " e         k  \n",
      "g           s \n"
     ]
    }
   ],
   "source": [
    "#  Print string of odd length in the string X format.\n",
    "def pattern(str, len): \n",
    "    for i in range(0, len): \n",
    "        j = len -1 - i \n",
    "        for k in range(0, len): \n",
    "            if (k == i or k == j): \n",
    "                print(str[k],end = \"\") \n",
    "            else: \n",
    "                print(end = \" \") \n",
    "\n",
    "        print(\" \") \n",
    "str = \"geeksforgeeks\"\n",
    "len = len(str) \n",
    "pattern(str, len) "
   ]
  },
  {
   "cell_type": "code",
   "execution_count": 1,
   "metadata": {},
   "outputs": [
    {
     "name": "stdout",
     "output_type": "stream",
     "text": [
      "Enter Input 12345\n",
      "1   5 \n",
      " 2 4  \n",
      "  3   \n",
      " 2 4  \n",
      "1   5 \n"
     ]
    }
   ],
   "source": [
    "def pattern(num, len1): \n",
    "    for i in range(0, len1): \n",
    "        j = len1 -1 - i \n",
    "        for k in range(0, len1): \n",
    "            if (k == i or k == j): \n",
    "                print(num[k],end = \"\") \n",
    "            else: \n",
    "                print(end = \" \") \n",
    "\n",
    "        print(\" \") \n",
    "num = input(\"Enter Input \")\n",
    "len1 = len(num) \n",
    "pattern(num, len1) "
   ]
  },
  {
   "cell_type": "code",
   "execution_count": null,
   "metadata": {},
   "outputs": [],
   "source": []
  }
 ],
 "metadata": {
  "kernelspec": {
   "display_name": "Python 3",
   "language": "python",
   "name": "python3"
  },
  "language_info": {
   "codemirror_mode": {
    "name": "ipython",
    "version": 3
   },
   "file_extension": ".py",
   "mimetype": "text/x-python",
   "name": "python",
   "nbconvert_exporter": "python",
   "pygments_lexer": "ipython3",
   "version": "3.7.3"
  }
 },
 "nbformat": 4,
 "nbformat_minor": 2
}
