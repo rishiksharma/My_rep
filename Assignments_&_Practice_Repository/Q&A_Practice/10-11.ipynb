{
 "cells": [
  {
   "cell_type": "markdown",
   "metadata": {},
   "source": [
    "## 1\n",
    "##  Write a Python program which accepts a sequence of comma-separated numbers from user and generate a list and a tuple with those numbers.\n"
   ]
  },
  {
   "cell_type": "code",
   "execution_count": null,
   "metadata": {},
   "outputs": [],
   "source": [
    "a=input(\"Enter a sequence of comma-separated number:\\t\")\n",
    "lst=a.split()\n",
    "tup=tuple(lst)\n",
    "print(\"The list is:\\t\",lst)\n",
    "print(\"The tuple is:\\t\",tup)"
   ]
  },
  {
   "cell_type": "markdown",
   "metadata": {},
   "source": [
    "## 2\n",
    "## Write a Python program that accepts an integer (n) and computes the value of n+nn+nnn."
   ]
  },
  {
   "cell_type": "code",
   "execution_count": null,
   "metadata": {},
   "outputs": [],
   "source": [
    "n=int(input(\"Enter a integer:\\t\"))\n",
    "print(\"The value of n+nn+nnn is:\\t\",(n+(n**2)+(n**3)))"
   ]
  },
  {
   "cell_type": "markdown",
   "metadata": {},
   "source": [
    "## 3\n",
    "##  Write a Python program to get the difference between a given number and 17, if the number is greater than 17 return double the absolute difference.\n"
   ]
  },
  {
   "cell_type": "code",
   "execution_count": null,
   "metadata": {},
   "outputs": [],
   "source": [
    "n=int(input(\"Enter Your Number:\\t\"))\n",
    "if n>17:\n",
    "    print(\"The Double absolute difference is:\\t\",((n-17)**2))\n",
    "else:\n",
    "    print(\"The Difference is:\\t\",abs(n-17))\n",
    "    "
   ]
  },
  {
   "cell_type": "markdown",
   "metadata": {},
   "source": [
    "## 4\n",
    "##  Write a Python program to test whether a number is within 100 of 1000 or 2000"
   ]
  },
  {
   "cell_type": "code",
   "execution_count": null,
   "metadata": {},
   "outputs": [],
   "source": [
    "n=float(input(\"Enter a number:\\t\"))\n",
    "if n in range(100,1001):\n",
    "    print(n,\" is within 100 of 1000.\")\n",
    "elif n in range(100,2001):\n",
    "    print(n,\"is within 100 of 2001.\")"
   ]
  },
  {
   "cell_type": "code",
   "execution_count": null,
   "metadata": {},
   "outputs": [],
   "source": [
    "n=float(input(\"Enter a number:\\t\"))\n",
    "if (100<=n<=2000) or (100<=n<=1000):\n",
    "    print(n,\" is within 100 of 1000.\")\n",
    "    print(n,\" is within 100 of 2000.\")\n",
    "elif 100<=n<=1000:\n",
    "    print(n,\" is within 100 of 1000.\")\n",
    "else:\n",
    "    print(\"The number is out of range.\")\n",
    "    "
   ]
  },
  {
   "cell_type": "markdown",
   "metadata": {},
   "source": [
    "## 5\n",
    "## Write a Python program to calculate the sum of three given numbers, if the values are equal then return three times of their sum.\n"
   ]
  },
  {
   "cell_type": "code",
   "execution_count": null,
   "metadata": {},
   "outputs": [],
   "source": [
    "no1=int(input(\"1st number:\\t\"))\n",
    "no2=int(input(\"2nd number:\\t\"))\n",
    "no3=int(input(\"3rd number:\\t\"))\n",
    "if no1==no2==no3:\n",
    "    print(\"The three times of sum of three number is:\\t\",((no1+no2+no3)*3))\n",
    "else:\n",
    "    print(\"The sum of three number is:\\t\",(no1+no2+no3))\n",
    "    "
   ]
  },
  {
   "cell_type": "markdown",
   "metadata": {},
   "source": [
    "## 10.1\n",
    "## Write a program to swap two numbers using functions."
   ]
  },
  {
   "cell_type": "code",
   "execution_count": null,
   "metadata": {},
   "outputs": [],
   "source": [
    "def swap(x,y):\n",
    "    return(y,x)\n",
    "x=int(input('enter 1st number:\\t'))\n",
    "y=int(input('enter 2nd number:\\t'))\n",
    "print(swap(x,y))"
   ]
  },
  {
   "cell_type": "markdown",
   "metadata": {},
   "source": [
    "## 10.2\n",
    "## Write a program to show use of break statement.\n"
   ]
  },
  {
   "cell_type": "code",
   "execution_count": 1,
   "metadata": {},
   "outputs": [
    {
     "name": "stdout",
     "output_type": "stream",
     "text": [
      "s\n",
      "a\n",
      "u\n",
      "r\n",
      "break\n"
     ]
    }
   ],
   "source": [
    "for i in 'saurabh':\n",
    "    print(i)\n",
    "    if i=='r':\n",
    "        print('break')\n",
    "        break"
   ]
  },
  {
   "cell_type": "markdown",
   "metadata": {},
   "source": [
    "## 10.3\n",
    "## Write a program to evaluate equation y=x^n when n is a non-negative integer."
   ]
  },
  {
   "cell_type": "code",
   "execution_count": null,
   "metadata": {},
   "outputs": [],
   "source": [
    "x=int(input('Enter x value:\\t'))\n",
    "n=int(input('Enter n value:\\t'))\n",
    "def eq(x,n):\n",
    "    return(x**n)\n",
    "if n>=0:\n",
    "    print('Y=',eq(x,n))\n",
    "else:\n",
    "    print('Please enter a non-negative integer.')"
   ]
  },
  {
   "cell_type": "markdown",
   "metadata": {},
   "source": [
    "## 10.4\n",
    "##  Write a program to show use of List Comprehension."
   ]
  },
  {
   "cell_type": "code",
   "execution_count": 2,
   "metadata": {},
   "outputs": [
    {
     "name": "stdout",
     "output_type": "stream",
     "text": [
      "[0, 1, 4, 9, 16, 25, 36, 49, 64, 81, 100]\n"
     ]
    }
   ],
   "source": [
    "def sq(x):\n",
    "    return(x*x)\n",
    "print([sq(x) for x in range(0,11)])"
   ]
  },
  {
   "cell_type": "markdown",
   "metadata": {},
   "source": [
    "## 10.5\n",
    "## Write a program to show use of lambda function."
   ]
  },
  {
   "cell_type": "code",
   "execution_count": 3,
   "metadata": {},
   "outputs": [
    {
     "name": "stdout",
     "output_type": "stream",
     "text": [
      "Enter number\t4\n",
      "2.0\n"
     ]
    }
   ],
   "source": [
    "x=int(input(\"Enter number\\t\"))\n",
    "if x>=0:\n",
    "    print((lambda x: x**0.5)(x))\n",
    "else:\n",
    "    print(\"Please Enter a non-negative integer.\")"
   ]
  },
  {
   "cell_type": "markdown",
   "metadata": {},
   "source": [
    "## 10.6\n",
    "##  Write a program to calculate factorial of a number using functions."
   ]
  },
  {
   "cell_type": "code",
   "execution_count": null,
   "metadata": {},
   "outputs": [],
   "source": [
    "def fat(n):\n",
    "    tmp=1\n",
    "    for i in range(1,n+1):\n",
    "        tmp=tmp*i\n",
    "    return(tmp)\n",
    "n=int(input('Enter Number:\\t'))\n",
    "if n<0:\n",
    "    print('Please Enter a non-negative integer.')\n",
    "elif n==0:\n",
    "    print(n,' Factorial is 1')\n",
    "else:\n",
    "    print(n,' Factorial is ',fat(n))"
   ]
  },
  {
   "cell_type": "markdown",
   "metadata": {},
   "source": [
    "## 10.7\n",
    "##  Write a program to show table of a number using functions."
   ]
  },
  {
   "cell_type": "code",
   "execution_count": 4,
   "metadata": {},
   "outputs": [
    {
     "name": "stdout",
     "output_type": "stream",
     "text": [
      "Enter number:\t6\n",
      "\t\t\t\t\t\t 6 X 1 = 6\n",
      "\t\t\t\t\t\t 6 X 2 = 12\n",
      "\t\t\t\t\t\t 6 X 3 = 18\n",
      "\t\t\t\t\t\t 6 X 4 = 24\n",
      "\t\t\t\t\t\t 6 X 5 = 30\n",
      "\t\t\t\t\t\t 6 X 6 = 36\n",
      "\t\t\t\t\t\t 6 X 7 = 42\n",
      "\t\t\t\t\t\t 6 X 8 = 48\n",
      "\t\t\t\t\t\t 6 X 9 = 54\n",
      "\t\t\t\t\t\t 6 X 10 = 60\n",
      " \n"
     ]
    }
   ],
   "source": [
    "def tab(n):\n",
    "    for i in range(1,11):\n",
    "        print('\\t\\t\\t\\t\\t\\t',n,'X',i,'=',n*i)\n",
    "    return(print(' '))\n",
    "n=int(input('Enter number:\\t'))\n",
    "tab(n)\n"
   ]
  },
  {
   "cell_type": "markdown",
   "metadata": {},
   "source": [
    "## 10.8\n",
    "## Given below is the list of marks obtained by a class of 50 students in an annual examination. 43 65 51 27 79 11 56 61 82 09 25 36 07 49 55 63 74 81 49 37 40 49 16 75 87 91 33 24 58 78 65 56 76 67 45 54 36 63 12 21 73 49 51 19 39 49 68 93 85 59 Write a program to count the number of students belonging to each of following groups of marks: 0-9, 10-19, 20-29,.....,100.\n"
   ]
  },
  {
   "cell_type": "code",
   "execution_count": null,
   "metadata": {},
   "outputs": [],
   "source": [
    "print('Following are the marks obtained by a class of 50 student:-  43 65 51 27 79 11 56 61 82 09 25 36 07 49 55 63 74 81 49 37 40 49 16 75 87 91 33 24 58 78 65 56 76 67 45 54 36 63 12 21 73 49 51 19 39 49 68 93 85 59')\n",
    "lst1=[43,65,51,27,79,11,56,61,82,9,25,36,7,49,55,63,74,81,49,37,40,49,16,75,87,91,33,24,58,78,65,56,76,67,45,54,36,63,12,21,73,49,51,19,39,49,68,93,85,59]\n",
    "#print('Group\\t\\t\\t\\t\\t\\t\\tRange\\t\\t\\t\\t\\t\\t\\t Frequency')\n",
    "t,t1,t2,t3,t4,t5,t6,t7,t8,t9=0,0,0,0,0,0,0,0,0,0\n",
    "\n",
    "for i in range(10):\n",
    "    t=t+lst1.count(i)\n",
    "print('Student Belonging to group of 0-9 marks is: ',t)\n",
    "for i in range(10,20):\n",
    "    t1=t1+lst1.count(i)\n",
    "print('Student Belonging to group of 10-19 marks is: ',t1)\n",
    "for i in range(20,30):\n",
    "    t2=t2+lst1.count(i)\n",
    "print('Student Belonging to group of 20-29 marks is: ',t2)\n",
    "for i in range(30,40):\n",
    "    t3=t3+lst1.count(i)\n",
    "print('Student Belonging to group of 30-39 marks is: ',t3)\n",
    "for i in range(40,50):\n",
    "    t4=t4+lst1.count(i)\n",
    "print('Student Belonging to group of 40-49 marks is: ',t4)\n",
    "for i in range(50,60):\n",
    "    t5=t5+lst1.count(i)\n",
    "print('Student Belonging to group of 50-59 marks is: ',t5)\n",
    "for i in range(60,70):\n",
    "    t6=t6+lst1.count(i)\n",
    "print('Student Belonging to group of 60-69 marks is: ',t6)\n",
    "for i in range(70,80):\n",
    "    t7=t7+lst1.count(i)\n",
    "print('Student Belonging to group of 70-79 marks is: ',t7)\n",
    "for i in range(80,90):\n",
    "    t8=t8+lst1.count(i)\n",
    "print('Student Belonging to group of 80-89 marks is: ',t8)\n",
    "for i in range(0):\n",
    "    t9=t9+lst1.count(i)\n",
    "print('Student Belonging to group of 90-100 marks is: ',t9)"
   ]
  },
  {
   "cell_type": "markdown",
   "metadata": {},
   "source": [
    "## 10.9\n",
    "## Write a program to sort a list and then find the median from it"
   ]
  },
  {
   "cell_type": "code",
   "execution_count": null,
   "metadata": {},
   "outputs": [],
   "source": [
    "l1=[2,8,9,15,70]\n",
    "le=len(l1)\n",
    "l1.sort()\n",
    "print(l1)\n",
    "if le%2==0:\n",
    "    m1=l1[le//2]\n",
    "    m2=l1[le//2-1]\n",
    "    m=(m1+m2)/2\n",
    "    print(m)\n",
    "else:\n",
    "    om=l1[le//2]\n",
    "    print('The median is:\\t',om)"
   ]
  },
  {
   "cell_type": "markdown",
   "metadata": {},
   "source": [
    "## 10.10\n",
    "## Write a program to find the second highest value from the list."
   ]
  },
  {
   "cell_type": "code",
   "execution_count": null,
   "metadata": {},
   "outputs": [],
   "source": [
    "l1=[2,8,9,15,70,200,150,199,198]\n",
    "l1.sort()\n",
    "sec=l1[-2]\n",
    "sec"
   ]
  },
  {
   "cell_type": "markdown",
   "metadata": {},
   "source": [
    "## 10.11\n",
    "## Write a program to find second smallest value from the list."
   ]
  },
  {
   "cell_type": "code",
   "execution_count": null,
   "metadata": {},
   "outputs": [],
   "source": [
    "l1=[-2,-1,2,8,4,9,15,70,200,150,199,198]\n",
    "l1.sort()\n",
    "sec=l1[1]\n",
    "sec"
   ]
  },
  {
   "cell_type": "markdown",
   "metadata": {},
   "source": [
    "## 10.12\n",
    "##  Write a program for removing the duplicate element in the list."
   ]
  },
  {
   "cell_type": "code",
   "execution_count": null,
   "metadata": {},
   "outputs": [],
   "source": [
    "l1=['a','b',1,2,3,5,'we','we',1]\n",
    "l2=[]\n",
    "for i in l1:\n",
    "    if i not in l2:\n",
    "        l2.append(i)\n",
    "print('The updated list is:\\t',l2)\n",
    "        "
   ]
  },
  {
   "cell_type": "markdown",
   "metadata": {},
   "source": [
    "## 10.13\n",
    "##  Write a program to evaluate the series 1/(1-x)=1+x+x2+x3+x4+…+xn.\n"
   ]
  },
  {
   "cell_type": "code",
   "execution_count": null,
   "metadata": {},
   "outputs": [],
   "source": [
    "n=int(input(\"Enter n value:\\t\"))\n",
    "x=int(input(\"Enter x value:\\t\"))\n",
    "tmp=1\n",
    "for i in range(1,n+1):\n",
    "    tmp=tmp+(x**i)\n",
    "print('1/(1-{0})=1+{0}+{0}^2+{0}^3+..+{0}^{1}'.format(x,n))"
   ]
  },
  {
   "cell_type": "markdown",
   "metadata": {},
   "source": [
    "## 10.14\n",
    "## Write a program to show use of continue statement."
   ]
  },
  {
   "cell_type": "code",
   "execution_count": 5,
   "metadata": {},
   "outputs": [
    {
     "name": "stdout",
     "output_type": "stream",
     "text": [
      "1\n",
      "2\n",
      "3\n",
      "5\n",
      "6\n",
      "7\n",
      "8\n",
      "9\n",
      "10\n"
     ]
    }
   ],
   "source": [
    "for i in range(1,11):\n",
    "    if i==4:\n",
    "        continue\n",
    "    print(i)"
   ]
  },
  {
   "cell_type": "markdown",
   "metadata": {},
   "source": [
    "## 10.15\n",
    "## Take three list from user first list is of gender second list of height and third list of weight for 15 students and then perform following things:-  \n",
    "1. Calculate number of male and female\n",
    "3. Find out students with gender=male and height above 5 feet.\n",
    "4. Find out students with gender =male, height >=5 feet and weight above 70 kg\n",
    "5. Find out students with gender = female, height >=4.8 feet. </pre>\n"
   ]
  },
  {
   "cell_type": "code",
   "execution_count": 55,
   "metadata": {},
   "outputs": [
    {
     "name": "stdout",
     "output_type": "stream",
     "text": [
      "enter Genders of 15 Students:\t12\n",
      "Invalid Input\n",
      "Number of male is:\t 0\n",
      "Number of female is:\t 0\n",
      "Number of male and height above 5 feet:\t 0\n",
      "Number of male and height greater or equal to 5 feet and weight above 70 kg:\t 0\n",
      "Number of female and height greater than or equal to 4.8 feet:\t 0\n"
     ]
    }
   ],
   "source": [
    "l1=[]\n",
    "l2=[]\n",
    "l3=[]\n",
    "l4=[]\n",
    "l5=[]\n",
    "def case0(gender):\n",
    "    if gender=='male' or gender=='Male':\n",
    "        l1.append('male')\n",
    "    return(len(l1))\n",
    "\n",
    "def case1(gender):\n",
    "    if gender=='female' or gender=='Female':\n",
    "        l2.append('female')\n",
    "    return(len(l2))\n",
    "\n",
    "def case2(gender,height):\n",
    "    if (gender=='male' or gender=='Male') and height>5:\n",
    "        l3.append('MH>5')\n",
    "    return(len(l3))\n",
    "\n",
    "def case3(gender,height,weight):\n",
    "    if (gender=='male' or gender=='Male') and height>=5 and weight>70:\n",
    "        l4.append('MH>=5W>70')\n",
    "    return(len(l4))\n",
    "\n",
    "def case4(gender,height):\n",
    "    if (gender=='female' or gender=='Female') and height>=4.8:\n",
    "        l5.append('FH>=4.8')\n",
    "    return(len(l5))\n",
    "\n",
    "for i in range(1,16):\n",
    "    gender=input(\"enter Genders of 15 Students:\\t\")\n",
    "    if gender=='male' or gender=='Male' or gender=='Female' or gender=='female':\n",
    "        height=float(input(\"enter Height of 15 Students:\\t\"))\n",
    "        if height<=0 or height>=10:\n",
    "            print('Invalid Input.')\n",
    "            break\n",
    "        weight=float(input(\"enter Weight of 15 Students:\\t\"))\n",
    "        if weight<=0 or weight>=200:\n",
    "            print('Invalid Input.')\n",
    "            break\n",
    "    else:\n",
    "        print('Invalid Input')\n",
    "        break\n",
    "    \n",
    "    case0(gender)\n",
    "    case1(gender)\n",
    "    case2(gender,height)\n",
    "    case3(gender,height,weight)\n",
    "    case4(gender,height)\n",
    "\n",
    "print('Number of male is:\\t',len(l1))\n",
    "print('Number of female is:\\t',len(l2))\n",
    "print('Number of male and height above 5 feet:\\t',len(l3))\n",
    "print('Number of male and height greater or equal to 5 feet and weight above 70 kg:\\t',len(l4))\n",
    "print('Number of female and height greater than or equal to 4.8 feet:\\t',len(l5))"
   ]
  },
  {
   "cell_type": "markdown",
   "metadata": {},
   "source": [
    "## 11.1\n",
    "## Write a program to read a sentence from the user in any case and convert it into upper case.\n"
   ]
  },
  {
   "cell_type": "code",
   "execution_count": 36,
   "metadata": {},
   "outputs": [
    {
     "name": "stdout",
     "output_type": "stream",
     "text": [
      "Enter your sentence:\tHello Honey Bunny\n",
      "HELLO HONEY BUNNY\n"
     ]
    }
   ],
   "source": [
    "sen=input('Enter your sentence:\\t')\n",
    "print(sen.upper())"
   ]
  },
  {
   "cell_type": "markdown",
   "metadata": {},
   "source": [
    "## 11.2\n",
    "## Write a program to read a sentence from the user in any case and convert it into lower case.\n"
   ]
  },
  {
   "cell_type": "code",
   "execution_count": 37,
   "metadata": {},
   "outputs": [
    {
     "name": "stdout",
     "output_type": "stream",
     "text": [
      "Enter your sentence:\tHELLO HONEY BUNNY\n",
      "hello honey bunny\n"
     ]
    }
   ],
   "source": [
    "sen=input('Enter your sentence:\\t')\n",
    "print(sen.lower())"
   ]
  },
  {
   "cell_type": "markdown",
   "metadata": {},
   "source": [
    "## 11.3\n",
    "## Program to convert days to months and days."
   ]
  },
  {
   "cell_type": "code",
   "execution_count": 48,
   "metadata": {},
   "outputs": [
    {
     "name": "stdout",
     "output_type": "stream",
     "text": [
      "Enter number of days:\t67\n",
      "Month:  2.0  and  7\n"
     ]
    }
   ],
   "source": [
    "n=int(input('Enter number of days:\\t'))\n",
    "if n<0:\n",
    "    print('Please Enter non-negative integer.')\n",
    "else:\n",
    "    day=n%30\n",
    "    mnth=(n-day)/30\n",
    "    print('Month: ',mnth,' and ',day)"
   ]
  },
  {
   "cell_type": "markdown",
   "metadata": {},
   "source": [
    "## 11.4\n",
    "##  A computer manufacturing company has the following monthly compensation policy to their salespersons: Minimum base salary : 1500.00 Bonus for every computer sold : 200.00 Commission on the total monthly sales : 2 per cent Since the prices of computers are changing, the sa les price of each computer is fixed at the beginning of every month.\n"
   ]
  },
  {
   "cell_type": "code",
   "execution_count": null,
   "metadata": {},
   "outputs": [],
   "source": []
  },
  {
   "cell_type": "markdown",
   "metadata": {},
   "source": [
    "## 11.5\n",
    "## Write a program to show the use of multiple for loop.\n"
   ]
  },
  {
   "cell_type": "code",
   "execution_count": 68,
   "metadata": {},
   "outputs": [
    {
     "name": "stdout",
     "output_type": "stream",
     "text": [
      "enter n value greater than 105\n",
      "I loop Started\n",
      "I loop Started\n",
      "I loop Started\n",
      "I loop Started\n",
      "J loop started\n",
      "J loop started\n",
      "J loop started\n",
      "J loop started\n",
      "K loop Started\n",
      "K loop Started\n",
      "K loop Started\n",
      "K loop Started\n",
      "K loop Started\n",
      "The End\n"
     ]
    }
   ],
   "source": [
    "n=int(input('enter n value:'))\n",
    "for i in range(n):\n",
    "    if i==4:\n",
    "        for j in range(i+1):\n",
    "            if j==4:\n",
    "                for k in range(j+1):\n",
    "                    print('K loop Started')\n",
    "                print('The End')\n",
    "            else:\n",
    "                print(\"J loop started\")\n",
    "    else:\n",
    "        print('I loop Started')"
   ]
  },
  {
   "cell_type": "markdown",
   "metadata": {},
   "source": [
    "## 11.6\n",
    "## Write a program to show the use of if elif and else statement."
   ]
  },
  {
   "cell_type": "code",
   "execution_count": 71,
   "metadata": {},
   "outputs": [
    {
     "name": "stdout",
     "output_type": "stream",
     "text": [
      "enter 1st number: 50\n",
      "enter 2nd number: 50\n",
      "enter 3rd number: 50\n",
      "all numbers are equal.\n"
     ]
    }
   ],
   "source": [
    "a=int(input('enter 1st number: '))\n",
    "b=int(input('enter 2nd number: '))\n",
    "c=int(input('enter 3rd number: '))\n",
    "if a>b and a>c:\n",
    "    print(a,' is the Hightest number.')\n",
    "elif b>a and b>c:\n",
    "    print(b,' is the Hightest number.')\n",
    "elif c>b and c>a:\n",
    "    print(c,' is the Hightest number.')\n",
    "else:\n",
    "    print('all numbers are equal.')"
   ]
  },
  {
   "cell_type": "markdown",
   "metadata": {},
   "source": [
    "## 11.7\n",
    "##  Write a program to show the use of if else statement."
   ]
  },
  {
   "cell_type": "code",
   "execution_count": 75,
   "metadata": {},
   "outputs": [
    {
     "name": "stdout",
     "output_type": "stream",
     "text": [
      "Enter Your Number:\t15\n",
      "The Difference is:\t 2\n"
     ]
    }
   ],
   "source": [
    "n=int(input(\"Enter Your Number:\\t\"))\n",
    "if n>17:\n",
    "    print(\"The Double absolute difference is:\\t\",((n-17)**2))\n",
    "else:\n",
    "    print(\"The Difference is:\\t\",abs(n-17))\n",
    "    "
   ]
  },
  {
   "cell_type": "markdown",
   "metadata": {},
   "source": [
    "## 11.8\n",
    "## Write a program to show the use of if statement."
   ]
  },
  {
   "cell_type": "code",
   "execution_count": 78,
   "metadata": {},
   "outputs": [
    {
     "name": "stdout",
     "output_type": "stream",
     "text": [
      "1\n",
      "2\n",
      "3\n",
      "5\n",
      "6\n",
      "7\n",
      "8\n",
      "9\n",
      "10\n"
     ]
    }
   ],
   "source": [
    "for i in range(1,11):\n",
    "    if i==4:\n",
    "        continue\n",
    "    print(i)"
   ]
  },
  {
   "cell_type": "markdown",
   "metadata": {},
   "source": [
    "## 11.9\n",
    "## Write a program to evaluate the equation s=sqrt(a()+b()) using functions(Where a() and b() are function which perform some task )"
   ]
  },
  {
   "cell_type": "code",
   "execution_count": 86,
   "metadata": {},
   "outputs": [
    {
     "name": "stdout",
     "output_type": "stream",
     "text": [
      "first value: 5\n",
      "second value: 5\n",
      "addition of two number is: 10\n",
      "subraction of two number is: 0\n",
      "S=sqrt(a()+b())\n",
      "S= 3.1622776601683795\n"
     ]
    }
   ],
   "source": [
    "def add(a,b):\n",
    "    return(a+b)\n",
    "def sub(a,b):\n",
    "    return(a-b)\n",
    "def sqrt(x):\n",
    "    return(x**0.5)\n",
    "a=int(input('first value: '))\n",
    "b=int(input('second value: '))\n",
    "x=add(a,b)+sub(a,b)\n",
    "print('addition of two number is:',add(a,b))\n",
    "print('subraction of two number is:',sub(a,b))\n",
    "print('S=sqrt(a()+b())\\nS=',sqrt(x))"
   ]
  },
  {
   "cell_type": "markdown",
   "metadata": {},
   "source": [
    "## 11.10\n",
    "## Write a program to show use of functions with and without arguments."
   ]
  },
  {
   "cell_type": "code",
   "execution_count": 88,
   "metadata": {},
   "outputs": [
    {
     "name": "stdout",
     "output_type": "stream",
     "text": [
      "first value: 5\n",
      "second value: 5\n",
      "(function with arg)Addition of two number is:  10\n",
      "1\n",
      "2\n",
      "3\n",
      "4\n",
      "5\n",
      "6\n",
      "7\n",
      "8\n",
      "9\n",
      "10\n",
      "(function without arf)The numbers are:  10\n"
     ]
    }
   ],
   "source": [
    "def add(a,b):\n",
    "    return(a+b)\n",
    "def loo():\n",
    "    for i in range(1,11):\n",
    "        print(i)\n",
    "    return(i)\n",
    "a=int(input('first value: '))\n",
    "b=int(input('second value: '))\n",
    "print('(function with arg)Addition of two number is: ',add(a,b))\n",
    "print('(function without arf)The numbers are: ',loo())"
   ]
  },
  {
   "cell_type": "markdown",
   "metadata": {},
   "source": [
    "## 11.11\n",
    "## Write a program to take a sentence from the user and then find count of elements in the sentence. (hint: that is calculate how many alphabets how many whitespaces etc.are present)"
   ]
  },
  {
   "cell_type": "code",
   "execution_count": 193,
   "metadata": {},
   "outputs": [
    {
     "name": "stdout",
     "output_type": "stream",
     "text": [
      "Enter a sentence: SAUEsajdas123   !#@!$\n",
      "Alphabets in Lowercase:  6\n",
      "Alphabets in Uppercase:  4\n",
      "Integer 3\n",
      "Special Character 5\n",
      "Whitespaces 3\n"
     ]
    }
   ],
   "source": [
    "sen=input('Enter a sentence: ')\n",
    "str1='qwertyuiopasdfghjklzxcvbnm'\n",
    "str2=str1.upper()\n",
    "str3='1234567890'\n",
    "str4='~!@#$%^&*()_+.,?\\<>'\n",
    "str5=' '\n",
    "tmp=0\n",
    "tmp1=0\n",
    "tmp2=0\n",
    "tmp3=0\n",
    "tmp4=0\n",
    "for i in sen:\n",
    "    if i in str1:\n",
    "        tmp=tmp+1\n",
    "    elif i in str2:\n",
    "        tmp1=tmp1+1\n",
    "    elif i in str3:\n",
    "        tmp2=tmp2+1\n",
    "    elif i in str4:\n",
    "        tmp3=tmp3+1\n",
    "    elif i in str5:\n",
    "        tmp4=tmp4+1\n",
    "print('Alphabets in Lowercase: ',tmp)\n",
    "print('Alphabets in Uppercase: ',tmp1)\n",
    "print('Integer',tmp2)\n",
    "print('Special Character',tmp3)\n",
    "print('Whitespaces',tmp4)"
   ]
  },
  {
   "cell_type": "markdown",
   "metadata": {},
   "source": [
    "## 11.12\n",
    "## Write a program to take 5 names in the list and sort that list in ascending and descending orders and store the output in two different list"
   ]
  },
  {
   "cell_type": "code",
   "execution_count": 4,
   "metadata": {},
   "outputs": [
    {
     "name": "stdout",
     "output_type": "stream",
     "text": [
      "Enter word: saurabh \n",
      "Enter word: vikram\n",
      "Enter word: pooj\n",
      "Enter word: nibbi\n",
      "Enter word: rohan\n",
      "The Ascending order is:  ['nibbi', 'pooj', 'rohan', 'saurabh ', 'vikram']\n",
      "The Descending order is:  ['vikram', 'saurabh ', 'rohan', 'pooj', 'nibbi']\n"
     ]
    }
   ],
   "source": [
    "l1=[]\n",
    "for i in range(1,6):\n",
    "    a=input('Enter word: ')\n",
    "    l1.append(a)\n",
    "l1.sort()\n",
    "l2=l1\n",
    "print('The Ascending order is: ',l2)\n",
    "l2.reverse()\n",
    "l3=l2\n",
    "print('The Descending order is: ',l3)"
   ]
  },
  {
   "cell_type": "markdown",
   "metadata": {},
   "source": [
    "## 11.13\n",
    "##  Write a program to illustrate various inbuilt functions in Dictionaries."
   ]
  },
  {
   "cell_type": "code",
   "execution_count": 3,
   "metadata": {},
   "outputs": [
    {
     "name": "stdout",
     "output_type": "stream",
     "text": [
      "s\n"
     ]
    }
   ],
   "source": [
    "str2='asdasd'\n",
    "str1=str2.isalpha()\n",
    "str1\n",
    "if str1==True:\n",
    "    print('s')"
   ]
  },
  {
   "cell_type": "code",
   "execution_count": null,
   "metadata": {},
   "outputs": [],
   "source": []
  }
 ],
 "metadata": {
  "kernelspec": {
   "display_name": "Python 3",
   "language": "python",
   "name": "python3"
  },
  "language_info": {
   "codemirror_mode": {
    "name": "ipython",
    "version": 3
   },
   "file_extension": ".py",
   "mimetype": "text/x-python",
   "name": "python",
   "nbconvert_exporter": "python",
   "pygments_lexer": "ipython3",
   "version": "3.7.3"
  }
 },
 "nbformat": 4,
 "nbformat_minor": 2
}
