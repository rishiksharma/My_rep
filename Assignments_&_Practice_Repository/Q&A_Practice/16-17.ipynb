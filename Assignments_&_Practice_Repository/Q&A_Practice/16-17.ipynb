{
 "cells": [
  {
   "cell_type": "code",
   "execution_count": 1,
   "metadata": {},
   "outputs": [
    {
     "name": "stdout",
     "output_type": "stream",
     "text": [
      "        * \n",
      "      * * \n",
      "    * * * \n",
      "  * * * * \n",
      "* * * * * \n"
     ]
    }
   ],
   "source": [
    "k=8\n",
    "for i in range(0,5):\n",
    "    for j in range(0,k):\n",
    "        print(end=\" \")\n",
    "    k=k-2\n",
    "    for j in range(0, i+1):\n",
    "        print(\"* \", end=\"\") ##Give space after *\n",
    "    print()"
   ]
  },
  {
   "cell_type": "code",
   "execution_count": 84,
   "metadata": {},
   "outputs": [
    {
     "name": "stdout",
     "output_type": "stream",
     "text": [
      "     *     \n",
      "    * *    \n",
      "   *   *   \n",
      "  *     *  \n",
      " *       * \n",
      "*         *\n",
      "***********\n"
     ]
    }
   ],
   "source": [
    "for row in range(1,8):\n",
    "    for col in range (1,12):\n",
    "        if row==7 or row+col==7 or col-row==5:\n",
    "            print(\"*\", end=\"\")\n",
    "        else:\n",
    "            print(end=\" \")\n",
    "    print()"
   ]
  },
  {
   "cell_type": "code",
   "execution_count": 81,
   "metadata": {},
   "outputs": [
    {
     "name": "stdout",
     "output_type": "stream",
     "text": [
      "     *     \n",
      "    * *    \n",
      "   *   *   \n",
      "  *     *  \n",
      " *       * \n",
      "*         *\n",
      " *       * \n",
      "  *     *  \n",
      "   *   *   \n",
      "    * *    \n",
      "     *     \n"
     ]
    }
   ],
   "source": [
    "for row in range(11):\n",
    "    for col in range(11):\n",
    "        if row+col==5 or col-row==5 or row-col==5 or row+col==15:\n",
    "            print(\"*\", end=\"\")\n",
    "        else:\n",
    "            print(end=\" \")\n",
    "    print()"
   ]
  },
  {
   "cell_type": "code",
   "execution_count": 62,
   "metadata": {},
   "outputs": [
    {
     "name": "stdout",
     "output_type": "stream",
     "text": [
      "A \n",
      "B B \n",
      "C C C \n",
      "D D D D \n",
      "E E E E E \n",
      "F F F F F F \n"
     ]
    }
   ],
   "source": [
    "val = 65\n",
    "for i in range(0, 6):\n",
    "    for j in range(0, i+1):\n",
    "        ch = chr(val)\n",
    "        print(ch, end=\" \")\n",
    "    val = val + 1\n",
    "    print()"
   ]
  },
  {
   "cell_type": "code",
   "execution_count": 61,
   "metadata": {},
   "outputs": [
    {
     "name": "stdout",
     "output_type": "stream",
     "text": [
      "1                   1\n",
      "12                 21\n",
      "123               321\n",
      "1234             4321\n",
      "12345           54321\n",
      "123456         654321\n",
      "1234567       7654321\n",
      "12345678     87654321\n",
      "123456789   987654321\n",
      "123456789 10987654321\n"
     ]
    }
   ],
   "source": [
    "## Correction: In last line 10 should be printed 2 times. \n",
    "\n",
    "for i in range(10): #loop for no. of rows\n",
    "    for col_1 in range(1,i+2): #loop for no. of col.\n",
    "        if(col_1==10): #skip one five\n",
    "            continue\n",
    "        print(col_1,end=\"\")\n",
    "    for col_2 in range(19-i*2): #loop for space\n",
    "        print(\" \",end=\"\")\n",
    "    for col_2 in range(3+i-2,0,-1): #loop for right column\n",
    "        print(col_2,end=\"\")\n",
    "    print(\"\") #new line"
   ]
  },
  {
   "cell_type": "code",
   "execution_count": null,
   "metadata": {
    "scrolled": true
   },
   "outputs": [],
   "source": [
    "\n"
   ]
  },
  {
   "cell_type": "code",
   "execution_count": null,
   "metadata": {},
   "outputs": [],
   "source": []
  },
  {
   "cell_type": "code",
   "execution_count": null,
   "metadata": {},
   "outputs": [],
   "source": []
  }
 ],
 "metadata": {
  "kernelspec": {
   "display_name": "Python 3",
   "language": "python",
   "name": "python3"
  },
  "language_info": {
   "codemirror_mode": {
    "name": "ipython",
    "version": 3
   },
   "file_extension": ".py",
   "mimetype": "text/x-python",
   "name": "python",
   "nbconvert_exporter": "python",
   "pygments_lexer": "ipython3",
   "version": "3.7.3"
  }
 },
 "nbformat": 4,
 "nbformat_minor": 2
}
