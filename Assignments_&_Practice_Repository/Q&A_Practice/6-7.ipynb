{
 "cells": [
  {
   "cell_type": "markdown",
   "metadata": {},
   "source": [
    "### PAGE 7"
   ]
  },
  {
   "cell_type": "markdown",
   "metadata": {},
   "source": [
    "### WAP to find the Second Largest Number in a List"
   ]
  },
  {
   "cell_type": "code",
   "execution_count": 6,
   "metadata": {},
   "outputs": [
    {
     "name": "stdout",
     "output_type": "stream",
     "text": [
      "[12, 31, 34, 56, 76, 76, 86]\n",
      "The Second largest no is: 76\n"
     ]
    }
   ],
   "source": [
    "a=[12,34,56,76,31,86,76]\n",
    "a.sort()\n",
    "print(a)\n",
    "print(\"The Second largest no is:\",a[-2])"
   ]
  },
  {
   "cell_type": "markdown",
   "metadata": {},
   "source": [
    "### WAP to Swap the first and last value of a List"
   ]
  },
  {
   "cell_type": "code",
   "execution_count": 1,
   "metadata": {},
   "outputs": [
    {
     "name": "stdout",
     "output_type": "stream",
     "text": [
      "Enter the number of elements in list:4\n",
      "Enter element 1:4\n",
      "Enter element 2:5\n",
      "Enter element 3:4\n",
      "Enter element 4:3\n",
      "Current List is:\n",
      "[4, 5, 4, 3]\n",
      "New list is:\n",
      "[3, 5, 4, 4]\n"
     ]
    }
   ],
   "source": [
    "a=[]\n",
    "n= int(input(\"Enter the number of elements in list:\"))\n",
    "for x in range(0,n):\n",
    "    element=int(input(\"Enter element \" + str(x+1) + \":\"))\n",
    "    a.append(element)\n",
    "print(\"Current List is:\")\n",
    "print(a)\n",
    "temp=a[0]\n",
    "a[0]=a[n-1]\n",
    "a[n-1]=temp\n",
    "print(\"New list is:\")\n",
    "print(a)\n"
   ]
  },
  {
   "cell_type": "markdown",
   "metadata": {},
   "source": [
    "### Write a program to count the number of Vowels in a String"
   ]
  },
  {
   "cell_type": "code",
   "execution_count": null,
   "metadata": {},
   "outputs": [],
   "source": [
    "#Write a program to count the number of Vowels in a String\n",
    "s=input(\"Enter string:\")\n",
    "v=0\n",
    "for i in s:\n",
    "      if(i=='a' or i=='e' or i=='i' or i=='o' or i=='u' \n",
    "         or i=='A' or i=='E' or i=='I' or i=='O' or i=='U'):\n",
    "            v=v+1\n",
    "print(\"Number of vowels are:\")\n",
    "print(v)"
   ]
  },
  {
   "cell_type": "markdown",
   "metadata": {},
   "source": [
    "### Write a program to check common letters in two input String"
   ]
  },
  {
   "cell_type": "code",
   "execution_count": 2,
   "metadata": {},
   "outputs": [
    {
     "name": "stdout",
     "output_type": "stream",
     "text": [
      "Enter first string:abcdefg\n",
      "Enter second string:fgvjkei\n",
      "['g', 'f', 'e']\n",
      "The common letters are:\n",
      "g\n",
      "f\n",
      "e\n"
     ]
    }
   ],
   "source": [
    "s1=input(\"Enter first string:\")\n",
    "s2=input(\"Enter second string:\")\n",
    "a=list(set(s1)&set(s2))\n",
    "print(a)\n",
    "print(\"The common letters are:\")\n",
    "for i in a:\n",
    "    print(i)\n"
   ]
  },
  {
   "cell_type": "markdown",
   "metadata": {},
   "source": [
    "### Write a program to check if a number is an Armstrong Number"
   ]
  },
  {
   "cell_type": "code",
   "execution_count": 11,
   "metadata": {},
   "outputs": [
    {
     "name": "stdout",
     "output_type": "stream",
     "text": [
      "Enter a Number: 8208\n",
      "8208 is an Armstrong number\n"
     ]
    }
   ],
   "source": [
    "num = int(input(\"Enter a Number: \")) # user input\n",
    "n= len(str(num))                    # no. of digits\n",
    "sum = 0                             # empty bin\n",
    "temp = num                          # to find sum of qube of each digit\n",
    "while (temp > 0):\n",
    "    digit = temp % 10\n",
    "    sum = sum+digit ** n            # to add qubes of each digit\n",
    "    temp =temp// 10\n",
    "if num == sum:                      # check if sum equals original num\n",
    "    print(num,\"is an Armstrong number\")\n",
    "else:\n",
    "    print(num,\"is not an Armstrong number\")"
   ]
  },
  {
   "cell_type": "code",
   "execution_count": 4,
   "metadata": {},
   "outputs": [
    {
     "name": "stdout",
     "output_type": "stream",
     "text": [
      "Enter a number: 153\n",
      "153 is an Armstrong number\n"
     ]
    }
   ],
   "source": [
    "# Python program to check if the number is an Armstrong number or not\n",
    "# take input from the user\n",
    "num = int(input(\"Enter a number: \"))\n",
    "# initialize sum\n",
    "sum = 0\n",
    "# find the sum of the cube of each digit\n",
    "temp = num\n",
    "while temp > 0:\n",
    "   digit = temp % 10\n",
    "   sum += digit ** 3\n",
    "   temp //= 10\n",
    "# display the result\n",
    "if num == sum:\n",
    "   print(num,\"is an Armstrong number\")\n",
    "else:\n",
    "   print(num,\"is not an Armstrong number\")"
   ]
  },
  {
   "cell_type": "markdown",
   "metadata": {},
   "source": [
    "### Write a program to print Table of given number"
   ]
  },
  {
   "cell_type": "code",
   "execution_count": 12,
   "metadata": {},
   "outputs": [
    {
     "name": "stdout",
     "output_type": "stream",
     "text": [
      "Enter the no:1\n",
      "\t\t 1 * 1 = 1\n",
      "\t\t 1 * 2 = 2\n",
      "\t\t 1 * 3 = 3\n",
      "\t\t 1 * 4 = 4\n",
      "\t\t 1 * 5 = 5\n",
      "\t\t 1 * 6 = 6\n",
      "\t\t 1 * 7 = 7\n",
      "\t\t 1 * 8 = 8\n",
      "\t\t 1 * 9 = 9\n",
      "\t\t 1 * 10 = 10\n"
     ]
    }
   ],
   "source": [
    "s=int(input(\"Enter the no:\"))\n",
    "for i in range(1,11):\n",
    "  print(\"\\t\\t\",s,\"*\",i,\"=\",s*i)\n",
    "    "
   ]
  },
  {
   "cell_type": "markdown",
   "metadata": {},
   "source": [
    "### Write a program to count the number of Digits in a number"
   ]
  },
  {
   "cell_type": "code",
   "execution_count": null,
   "metadata": {},
   "outputs": [],
   "source": [
    "n=int(input(\"Enter number:\"))\n",
    "count=0\n",
    "while(n>0):\n",
    "    count+=1\n",
    "    n//=10\n",
    "    print(count,n)#just for understanding\n",
    "print(\"The number of digits in the number are:\",count)\n"
   ]
  },
  {
   "cell_type": "markdown",
   "metadata": {},
   "source": [
    "### Write a program to find sum of the digits of a number in python"
   ]
  },
  {
   "cell_type": "code",
   "execution_count": null,
   "metadata": {},
   "outputs": [],
   "source": [
    "n=int(input(\"Enter a number:\"))\n",
    "tot=0\n",
    "while(n>0):\n",
    "    dig=n%10\n",
    "    tot=tot+dig\n",
    "    n=n//10\n",
    "    print(dig,n,tot)\n",
    "print(\"The total sum of digits is:\",tot)"
   ]
  },
  {
   "cell_type": "markdown",
   "metadata": {},
   "source": [
    "### Write a Python program to find those numbers which are divisible by 7 and multiple of 5, between 1500 and 2700 (both included)."
   ]
  },
  {
   "cell_type": "code",
   "execution_count": null,
   "metadata": {},
   "outputs": [],
   "source": [
    "u=[]\n",
    "for i in range(1500,2701):\n",
    "    if(i%7)==0 and (i%5)==0:\n",
    "        u.append(i)\n",
    "print(\"The Numbers are:\",u) "
   ]
  },
  {
   "cell_type": "markdown",
   "metadata": {},
   "source": [
    "### #Write a Python program to convert temperatures to and from celsius, fahrenheit.[ Formula : c/5 = f-32/9 [where c = temperature in celsius and f = temperature in fahrenheit]"
   ]
  },
  {
   "cell_type": "code",
   "execution_count": null,
   "metadata": {},
   "outputs": [],
   "source": [
    "val=float(input(\"Enter the temp.\"))\n",
    "h=input('What value ?(Is it C OR F):')\n",
    "if h=='C' or h=='c':\n",
    "   g=(9/5)*val+32\n",
    "   print(\"Fahrenheit:\",g)\n",
    "elif h=='F' or h=='f':\n",
    "   y=5/9*(val-32)\n",
    "   print(\"Celcius:\",y)\n",
    "else:\n",
    "    print(\"Invalid\")"
   ]
  },
  {
   "cell_type": "markdown",
   "metadata": {},
   "source": [
    "### Write a Python program that accepts a word from the user and reverse it."
   ]
  },
  {
   "cell_type": "code",
   "execution_count": null,
   "metadata": {},
   "outputs": [],
   "source": [
    "s1=input(\"Enter a word: \")\n",
    "print(s1[::-1])"
   ]
  },
  {
   "cell_type": "markdown",
   "metadata": {},
   "source": [
    "### Program to find the square root"
   ]
  },
  {
   "cell_type": "code",
   "execution_count": null,
   "metadata": {},
   "outputs": [],
   "source": [
    "import math\n",
    "n=int(input(\"Enter a Number: \"))\n",
    "print(math.sqrt(n))"
   ]
  },
  {
   "cell_type": "markdown",
   "metadata": {},
   "source": [
    "### Program to calculate area of triangle"
   ]
  },
  {
   "cell_type": "code",
   "execution_count": null,
   "metadata": {},
   "outputs": [],
   "source": [
    "base=int(input(\"Enter the base: \"))\n",
    "height=int(input(\"Enter the height: \"))\n",
    "area_triangle=0.5*base*height\n",
    "print('The area of triagle is: ',area_triangle)"
   ]
  },
  {
   "cell_type": "markdown",
   "metadata": {},
   "source": [
    "### Program to solve Quadratic Equation"
   ]
  },
  {
   "cell_type": "code",
   "execution_count": null,
   "metadata": {},
   "outputs": [],
   "source": [
    "import cmath  \n",
    "a = float(input('Enter a: '))  \n",
    "b = float(input('Enter b: '))  \n",
    "c = float(input('Enter c: '))  \n",
    "# calculate the discriminant  \n",
    "d = (b**2) - (4*a*c)    \n",
    "# find two solutions  \n",
    "sol1 = (-b-cmath.sqrt(d))/(2*a)  \n",
    "sol2 = (-b+cmath.sqrt(d))/(2*a)  \n",
    "print('The solution are {0} and {1}'.format(sol1,sol2))  "
   ]
  },
  {
   "cell_type": "markdown",
   "metadata": {},
   "source": [
    "### Program to swap Two Variables."
   ]
  },
  {
   "cell_type": "code",
   "execution_count": null,
   "metadata": {},
   "outputs": [],
   "source": [
    "a=int(input(\"Enter a no. to swap(a): \"))\n",
    "b=int(input(\"Enter another no. to swap(b):\"))\n",
    "temp=a\n",
    "a=b\n",
    "b=temp\n",
    "print(\"The value of a: \",a)\n",
    "print(\"The value of b: \",b)"
   ]
  },
  {
   "cell_type": "markdown",
   "metadata": {},
   "source": [
    "### Program to generate a random number"
   ]
  },
  {
   "cell_type": "code",
   "execution_count": null,
   "metadata": {},
   "outputs": [],
   "source": [
    "import random\n",
    "a=int(input(\"Enter the lower value for range: \"))\n",
    "b=int(input(\"Enter the upper value for range: \"))\n",
    "print(random.randint(a,b))"
   ]
  },
  {
   "cell_type": "markdown",
   "metadata": {},
   "source": [
    "### Program to convert kilometers to Miles"
   ]
  },
  {
   "cell_type": "code",
   "execution_count": null,
   "metadata": {},
   "outputs": [],
   "source": [
    "k=int(input(\"Enter the kilometers: \"))\n",
    "m=k*0.621371\n",
    "print(\"The miles are: \",m)"
   ]
  },
  {
   "cell_type": "markdown",
   "metadata": {},
   "source": [
    "### Program to find the largest among three numbers"
   ]
  },
  {
   "cell_type": "code",
   "execution_count": null,
   "metadata": {},
   "outputs": [],
   "source": [
    "a=int(input(\"Enter 1st Number:\"))\n",
    "b=int(input(\"Enter 2nd Number:\"))\n",
    "c=int(input(\"Enter 3rd Number:\"))\n",
    "if a>b and a>c:\n",
    "   print(\"A is greater\")\n",
    "elif b>a and b>c:\n",
    "   print(\"B is greater\")\n",
    "else:\n",
    "   print(\"C is greater\")"
   ]
  },
  {
   "cell_type": "markdown",
   "metadata": {},
   "source": [
    "### PAGE 6"
   ]
  },
  {
   "cell_type": "code",
   "execution_count": null,
   "metadata": {},
   "outputs": [],
   "source": [
    "#Write a program to append elements of various datatypes (total three elements 1 integer, \n",
    "#1 float and 1 string)\n",
    "L=[]\n",
    "a=int(input(\"Enter a Integer Value: \"))\n",
    "L.append(a)\n",
    "b=float(input(\"Enter a Float Value: \"))\n",
    "L.append(b)\n",
    "c=str(input(\"Enter a String Value: \"))\n",
    "L.append(c)\n",
    "print(\"The list\",L)"
   ]
  },
  {
   "cell_type": "code",
   "execution_count": null,
   "metadata": {},
   "outputs": [],
   "source": [
    "#Write a program to illustrate the difference between append and extend functions in list.\n",
    "L1=[1,2,3]\n",
    "L2=[3,4,5]\n",
    "L1.append('Element') #Adds this string in L1 as one whole element\n",
    "L2.extend('Element') #Adds indiviual characters as different elements in the list L2\n",
    "print(L1)\n",
    "print(L2)"
   ]
  },
  {
   "cell_type": "code",
   "execution_count": null,
   "metadata": {},
   "outputs": [],
   "source": [
    "#Write a program to reverse a string input should be taken from the user\n",
    "a=input(\"Enter a string: \")\n",
    "print(\"Reverse of this is: \",a[::-1])"
   ]
  },
  {
   "cell_type": "code",
   "execution_count": null,
   "metadata": {},
   "outputs": [],
   "source": [
    "#Write a program to reverse a number input should be taken from the user.\n",
    "a=input(\"Enter a Number:\")\n",
    "print(\"Reverse of this Number is:\",a[::-1])"
   ]
  },
  {
   "cell_type": "code",
   "execution_count": null,
   "metadata": {},
   "outputs": [],
   "source": [
    "#Write a program using functions to create a calculator (only +, -, * and /) \n",
    "#operations should be performed\n",
    "def add(a,b):\n",
    "    return(a+b)\n",
    "def sub(a,b):\n",
    "    return(a-b)\n",
    "def mul(a,b):\n",
    "    return(a*b)\n",
    "def div(a,b):\n",
    "    return(a/b)\n",
    "z=input('''Enter the operation to be performed:\\n(1)For Addition \\n(2)For Subtraction \\n(3)For Multiplication \\n(4)For Division: \\n''')\n",
    "if z=='1':\n",
    "    a=int(input(\"Enter Value 1:\"))\n",
    "    b=int(input(\"Enter Value 2:\"))\n",
    "    print(\"The sum is :\",add(a,b))\n",
    "elif z=='2':\n",
    "    a=int(input(\"Enter Value 1:\"))\n",
    "    b=int(input(\"Enter Value 2:\"))\n",
    "    print(\"The subtraction is :\",sub(a,b))\n",
    "elif z=='3':\n",
    "    a=int(input(\"Enter Value 1:\"))\n",
    "    b=int(input(\"Enter Value 2:\"))\n",
    "    print(\"The multiplication is :\",mul(a,b))\n",
    "elif z=='4':\n",
    "    a=int(input(\"Enter Value 1:\"))\n",
    "    b=int(input(\"Enter Value 2:\"))\n",
    "    print(\"The division is :\",div(a,b))\n",
    "else:\n",
    "    print(\"Wrong Input\")"
   ]
  },
  {
   "cell_type": "code",
   "execution_count": null,
   "metadata": {},
   "outputs": [],
   "source": [
    "#Write a program to add all the elements in the list without using inbuilt function\n",
    "sum=0\n",
    "L2=[10,25,15,35,10,5]\n",
    "for i in range(0,len(L2)):\n",
    "    sum+=L2[i]\n",
    "print(\"The sum of all elements in the list is:\", sum)"
   ]
  },
  {
   "cell_type": "code",
   "execution_count": null,
   "metadata": {},
   "outputs": [],
   "source": [
    "#Write a program to take two lists from the user and add the element \n",
    "#present at same index from two list and create a third list. \n",
    "#for e.g. element at index 1 of list 1 should get added with \n",
    "#element at index 1 of list2 and so on.\n",
    "l=[]\n",
    "m=[]\n",
    "k=[]\n",
    "c=0\n",
    "for i in range(0,5):\n",
    "    a=int(input(\"Enter the values for 1st List:\"))\n",
    "    l.append(a)\n",
    "print(l)\n",
    "for j in range(0,5):\n",
    "    b=int(input(\"Enter the values for 2nd List:\"))\n",
    "    m.append(b)\n",
    "print(m)\n",
    "for g in range(0,5):\n",
    "    c=l[g]+m[g]\n",
    "    k.append(c)\n",
    "print(\"The new list is:\",k)"
   ]
  },
  {
   "cell_type": "code",
   "execution_count": null,
   "metadata": {},
   "outputs": [],
   "source": [
    "#Write a program to get whether the element is prime or no.\n",
    "a=int(input(\"Enter a no.: \"))\n",
    "if a>1:\n",
    "    for i in range(2,a):\n",
    "        if a%i==0:\n",
    "            print(a,\"is not a prime no.:\")\n",
    "            break\n",
    "    else:\n",
    "        print(a,\"is a prime no.\")\n",
    "else:\n",
    "    print(a,\"is not a prime no.:\")"
   ]
  },
  {
   "cell_type": "code",
   "execution_count": null,
   "metadata": {},
   "outputs": [],
   "source": [
    "#Write a program to get the prime no up to n. n should be taken from the user.\n",
    "N=int(input(\"Enter the upper range (0 is the starting range)\"))\n",
    "a=[]\n",
    "for i in range(2,N+1):\n",
    "    tmp=0\n",
    "    for j in range(2,i//2+1):\n",
    "        if (i%j==0):\n",
    "            tmp+=1\n",
    "    if tmp<=0:\n",
    "        a.append(i)\n",
    "print(a)"
   ]
  },
  {
   "cell_type": "code",
   "execution_count": null,
   "metadata": {},
   "outputs": [],
   "source": [
    "#Write a program to find sum of first 10 natural no.\n",
    "i=10\n",
    "add=0\n",
    "while(i>0):\n",
    "    add+=i\n",
    "    i-=1\n",
    "print(\"The first 10 natural nos.\",add)"
   ]
  },
  {
   "cell_type": "code",
   "execution_count": null,
   "metadata": {},
   "outputs": [],
   "source": [
    "#Write a program to find sum of first n natural no value of n should be taken from the user.\n",
    "k=int(input(\"Enter the upper limit required for the natural numbers:\"))\n",
    "add=0\n",
    "i=k\n",
    "while(i>0):\n",
    "    add+=i\n",
    "    i-=1\n",
    "print(\"The first\",k,\"natural numbers are:\",add)"
   ]
  },
  {
   "cell_type": "code",
   "execution_count": null,
   "metadata": {},
   "outputs": [],
   "source": [
    "#Write a program to calculate area of various shapes like circle, rectangle and square using function.\n",
    "def square(a):\n",
    "    return(a*a)\n",
    "def rectangle(a,b):\n",
    "    return(a*b)\n",
    "def circle(a):\n",
    "    return(3.14*a*a)\n",
    "def triangle(a,b):\n",
    "    return(0.5*a*b)\n",
    "z=input(\"Enter the operation to be performed:\\n(1)Area of Square \\n(2)Area of Rectangle \\n(3)Area of Circle \\n(4)Area of Triangle: \\n\" )\n",
    "if z=='1':\n",
    "    a=int(input(\"Enter Value 1:\"))\n",
    "    print(\"The Area of square is :\",square(a))\n",
    "elif z=='2':\n",
    "    a=int(input(\"Enter Value 1:\"))\n",
    "    b=int(input(\"Enter Value 2:\"))\n",
    "    print(\"The Area of rectangle is :\",rectangle(a,b))\n",
    "elif z=='3':\n",
    "    a=int(input(\"Enter Value 1:\"))\n",
    "    print(\"The Area of Circle is :\",circle(a))\n",
    "elif z=='4':\n",
    "    a=int(input(\"Enter Value 1:\"))\n",
    "    b=int(input(\"Enter Value 2:\"))\n",
    "    print(\"The Area of Triangle is :\",triangle(a,b))\n",
    "else:\n",
    "    print(\"Wrong Input\")\n",
    "    "
   ]
  },
  {
   "cell_type": "code",
   "execution_count": null,
   "metadata": {},
   "outputs": [],
   "source": [
    "#Write a program to calculate Simple Interest using function. Take the values from the user for P, N, and R\n",
    "def simple_int(p,r,t):\n",
    "    return(p*r*t/100)\n",
    "p=int(input(\"Enter the Principal amount: \"))\n",
    "r=int(input(\"Enter the Rate of Interest: \"))\n",
    "t=int(input(\"Enter the Time period: \"))\n",
    "print(\"The Simple Interest is: \",simple_int(p,r,t))"
   ]
  },
  {
   "cell_type": "code",
   "execution_count": null,
   "metadata": {},
   "outputs": [],
   "source": [
    "#Write a program to calculate Compound Interest using function. Take the required parameter from the user.\n",
    "def compound_int(p,r,t):\n",
    "    return(p*(1+r/100)**t)\n",
    "p=float(input(\"Enter the Principal amount: \"))\n",
    "r=float(input(\"Enter the Rate of Interest: \"))\n",
    "t=float(input(\"Enter the Time period: \"))\n",
    "print(\"The Compound Interest is:\",compound_int(p,r,t))"
   ]
  },
  {
   "cell_type": "code",
   "execution_count": null,
   "metadata": {},
   "outputs": [],
   "source": [
    "#Write a program to take the paise value from the user and convert it into rupee\n",
    "p=int(input(\"Enter the amount in paise: \"))\n",
    "ru=p/100\n",
    "print(\"The amount in Rupee(₹) is:\",ru)"
   ]
  },
  {
   "cell_type": "code",
   "execution_count": null,
   "metadata": {},
   "outputs": [],
   "source": [
    "#Write a program to convert temperature in degree to Celsius and vice-versa.\n",
    "val=float(input(\"Enter the temp.\"))\n",
    "h=input('What value ?(Is it C OR F):')\n",
    "if h=='C' or h=='c':\n",
    "   g=(9/5)*val+32\n",
    "   print(\"Fahrenheit:\",g)\n",
    "elif h=='F' or h=='f':\n",
    "   y=5/9*(val-32)\n",
    "   print(\"Celcius:\",y)\n",
    "else:\n",
    "    print(\"Invalid\")"
   ]
  },
  {
   "cell_type": "code",
   "execution_count": null,
   "metadata": {},
   "outputs": [],
   "source": [
    "#Write a program to take a list from the user and find the cube and square root of every number in it\n",
    "import math\n",
    "l=[]\n",
    "m=[]\n",
    "k=[]\n",
    "le=int(input(\"Enter the size of the list: \"))\n",
    "for i in range(0,le):\n",
    "    a=int(input(\"Enter the values in the list: \"))\n",
    "    l.append(a)\n",
    "print(\"Original list:\",l)\n",
    "for i in l:\n",
    "    b=math.sqrt(i)\n",
    "    m.append(b)\n",
    "print(\"The square roots are: \", m)  \n",
    "for i in l:\n",
    "    c=i**(1./3.)\n",
    "    k.append(c)\n",
    "print(\"The cube roots are\", k)"
   ]
  },
  {
   "cell_type": "code",
   "execution_count": null,
   "metadata": {},
   "outputs": [],
   "source": [
    "x = int(raw_input(\"Enter an integer: \"))\n",
    "for ans in range(0, abs(x) + 1):\n",
    "    if ans ** 3 == abs(x):\n",
    "        break\n",
    "if ans ** 3 != abs(x):\n",
    "    print x, 'is not a perfect cube!'\n",
    "else:\n",
    "    if x < 0:\n",
    "        ans = -ans\n",
    "    print 'Cube root of ' + str(x) + ' is ' + str(ans)"
   ]
  }
 ],
 "metadata": {
  "kernelspec": {
   "display_name": "Python 3",
   "language": "python",
   "name": "python3"
  },
  "language_info": {
   "codemirror_mode": {
    "name": "ipython",
    "version": 3
   },
   "file_extension": ".py",
   "mimetype": "text/x-python",
   "name": "python",
   "nbconvert_exporter": "python",
   "pygments_lexer": "ipython3",
   "version": "3.7.3"
  }
 },
 "nbformat": 4,
 "nbformat_minor": 2
}
