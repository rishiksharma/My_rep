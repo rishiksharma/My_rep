{
 "cells": [
  {
   "cell_type": "markdown",
   "metadata": {},
   "source": [
    "### Pg 1"
   ]
  },
  {
   "cell_type": "code",
   "execution_count": 11,
   "metadata": {},
   "outputs": [
    {
     "name": "stdout",
     "output_type": "stream",
     "text": [
      "Contents of the list seperated by comma:1,2,3,4,5\n",
      "['1', '2', '3', '4', '5']\n",
      "('1', '2', '3', '4', '5')\n",
      "5\n",
      "5\n"
     ]
    }
   ],
   "source": [
    "###  Write a Python program which accepts a sequence of comma-separated numbers from user and\n",
    "##generate a list and a tuple with those numbers.\n",
    "str1=input(\"Contents of the list seperated by comma:\")\n",
    "li=list(str1.split(\",\"))\n",
    "print(li)\n",
    "tup1=tuple(str1.split(\",\"))\n",
    "print(tup1)\n",
    "print(len(li)) ## not needed\n",
    "print(len(tup1)) ##not needed"
   ]
  },
  {
   "cell_type": "code",
   "execution_count": 1,
   "metadata": {},
   "outputs": [
    {
     "name": "stdout",
     "output_type": "stream",
     "text": [
      "number 1:2\n",
      "number 2:5\n",
      "2\n",
      "2\n",
      "22\n",
      "24\n",
      "222\n",
      "246\n",
      "2222\n",
      "2468\n",
      "22222\n",
      "24690\n",
      "24690\n"
     ]
    }
   ],
   "source": [
    "# Python program to sum the given series \n",
    "# Returns sum of n + nn + nnn + .... (m times) \n",
    "def Series(n, m): \n",
    "  \n",
    "    # Converting the number to string \n",
    "    str_n = str(n) \n",
    "  \n",
    "    # Initializing result as number and string \n",
    "    sums = n \n",
    "    sum_str = str(n) \n",
    "    print(sums)\n",
    "    print(sum_str)\n",
    "  \n",
    "    # Adding remaining terms \n",
    "    for i in range(1, m): \n",
    "         \n",
    "        # Concatenating the string making n, nn, nnn... \n",
    "        sum_str = sum_str + str_n \n",
    "        print(sum_str)\n",
    "          \n",
    "        # Before adding converting back to integer \n",
    "        sums = sums + int(sum_str) \n",
    "        print(sums)\n",
    "  \n",
    "    return sums \n",
    "n =int(input(\"number 1:\"))\n",
    "m = int(input(\"number 2:\"))\n",
    "total = Series(n, m) \n",
    "print(total) "
   ]
  },
  {
   "cell_type": "code",
   "execution_count": 17,
   "metadata": {},
   "outputs": [
    {
     "name": "stdout",
     "output_type": "stream",
     "text": [
      "number:4\n",
      "13\n"
     ]
    }
   ],
   "source": [
    "\"\"\"1. Write a Python program to get the difference between a given number and 17, if the number is greater\n",
    "than 17 return double the absolute difference.\"\"\"\n",
    "\n",
    "a=int(input(\"number:\"))\n",
    "if (a<17):\n",
    "    print(17-a)\n",
    "else:\n",
    "    print((a-17)*2)"
   ]
  },
  {
   "cell_type": "code",
   "execution_count": 18,
   "metadata": {},
   "outputs": [
    {
     "name": "stdout",
     "output_type": "stream",
     "text": [
      "enter number1100\n",
      "True\n"
     ]
    }
   ],
   "source": [
    "''' Write a Python program to test whether a number is within 100 of 1000 or 2000.'''\n",
    "### this program will print True if number is within 100 positions from any value of 1000 else it will give false\n",
    "num=int(input(\"enter number\"))\n",
    "b=abs(1000-num)\n",
    "c=abs(2000-num)\n",
    "d=abs(3000-num) ##not needed as per question\n",
    "if b<=100 or c<=100 or d<=100: ### d is not needed as per question just an extra condition\n",
    "    nearthousand=True\n",
    "    print(nearthousand)\n",
    "else:\n",
    "    nearthousand=False\n",
    "    print(nearthousand)"
   ]
  },
  {
   "cell_type": "code",
   "execution_count": 19,
   "metadata": {},
   "outputs": [
    {
     "name": "stdout",
     "output_type": "stream",
     "text": [
      "Enter number 1:4\n",
      "Enter number 2:4\n",
      "Enter number 3:4\n",
      "36\n"
     ]
    }
   ],
   "source": [
    "''' Write a Python program to calculate the sum of three given numbers, if the values are equal then return\n",
    "three times of their sum.'''\n",
    "\n",
    "a=int(input(\"Enter number 1:\"))\n",
    "b=int(input(\"Enter number 2:\"))\n",
    "c=int(input(\"Enter number 3:\"))\n",
    "if(a==b)and(b==c):\n",
    "    p=(a+b+c)*3\n",
    "    print(p)\n",
    "else:\n",
    "    p=a+b+c\n",
    "    print(p)"
   ]
  },
  {
   "cell_type": "code",
   "execution_count": 20,
   "metadata": {},
   "outputs": [
    {
     "name": "stdout",
     "output_type": "stream",
     "text": [
      "enter string:unnati\n",
      "Isunnati\n"
     ]
    }
   ],
   "source": [
    "''' Write a Python program to get a new string from a given string where \"Is\" has been added to the front. If\n",
    "the given string already begins with \"Is\" then return the string unchanged'''\n",
    "strings=input(\"enter string:\")\n",
    "if(strings.startswith('Is')):\n",
    "    print(strings)\n",
    "else:\n",
    "    str2='Is'\n",
    "    newstr=str2+strings\n",
    "    print(newstr)"
   ]
  },
  {
   "cell_type": "code",
   "execution_count": 21,
   "metadata": {},
   "outputs": [
    {
     "name": "stdout",
     "output_type": "stream",
     "text": [
      "Enter number:31\n",
      "The number is odd\n"
     ]
    }
   ],
   "source": [
    "'''Write a Python program to find whether a given number (accept from the user) is even or odd, print out\n",
    "an appropriate message to the user.'''\n",
    "e=int(input(\"Enter number:\"))\n",
    "if e%2==0:\n",
    "    print(\"The number is even\")\n",
    "else:\n",
    "    print(\"The number is odd\")"
   ]
  },
  {
   "cell_type": "code",
   "execution_count": 22,
   "metadata": {
    "scrolled": true
   },
   "outputs": [
    {
     "name": "stdout",
     "output_type": "stream",
     "text": [
      "Input length of list:4\n",
      "1\n",
      "3\n",
      "4\n",
      "2\n",
      "['1', '3', '4', '2']\n",
      "Here is the string: 1342\n"
     ]
    }
   ],
   "source": [
    "'''Write a Python program to concatenate all elements in a list into a string and return it.'''\n",
    "def concat(p):\n",
    "    opstring=''\n",
    "    for e in p:\n",
    "        opstring= opstring+str(e)\n",
    "    print(\"Here is the string:\",opstring)\n",
    "p=[ ]\n",
    "n=int(input(\"Input length of list:\"))\n",
    "for i in range(0,n):\n",
    "    el=input()\n",
    "    p.append(el)\n",
    "print(p)\n",
    "concat(p)\n",
    "    "
   ]
  },
  {
   "cell_type": "code",
   "execution_count": null,
   "metadata": {},
   "outputs": [],
   "source": []
  },
  {
   "cell_type": "code",
   "execution_count": 23,
   "metadata": {},
   "outputs": [
    {
     "name": "stdout",
     "output_type": "stream",
     "text": [
      "number 1:3\n",
      "number 2:4\n",
      "gcd is: 1\n"
     ]
    }
   ],
   "source": [
    "''' Write a Python program to compute the greatest common divisor (GCD) of two positive integers'''\n",
    "def gcd(x, y):\n",
    "    if x > y:\n",
    "        smaller = y\n",
    "    else:\n",
    "        smaller = x\n",
    "    for i in range(1, smaller+1):\n",
    "        if((x % i == 0) and (y % i == 0)):\n",
    "            gcd = i\n",
    "    print(\"gcd is:\",gcd)\n",
    "x=int(input(\"number 1:\"))\n",
    "y=int(input(\"number 2:\"))\n",
    "gcd(x,y)"
   ]
  },
  {
   "cell_type": "code",
   "execution_count": 9,
   "metadata": {},
   "outputs": [
    {
     "name": "stdout",
     "output_type": "stream",
     "text": [
      "number 1:7\n",
      "number 2:4\n",
      "lcm is: 28\n"
     ]
    }
   ],
   "source": [
    "'''Write a Python program to get the least common multiple (LCM) of two positive integers.'''\n",
    "def lcm(x,y):\n",
    "    if x > y:\n",
    "        greater = x\n",
    "    else:\n",
    "        greater = y\n",
    "    while(True):\n",
    "        if((greater % x == 0) and (greater % y == 0)):\n",
    "            lcm = greater\n",
    "            break\n",
    "        greater = greater + 1\n",
    "    print(\"lcm is:\",lcm)\n",
    "x=int(input(\"number 1:\"))\n",
    "y=int(input(\"number 2:\"))\n",
    "lcm(x,y)"
   ]
  },
  {
   "cell_type": "code",
   "execution_count": 25,
   "metadata": {},
   "outputs": [
    {
     "name": "stdout",
     "output_type": "stream",
     "text": [
      "Enter 1st number:12\n",
      "Enter 2nd number:4\n",
      "The sum is:20\n"
     ]
    }
   ],
   "source": [
    "''' Write a Python program to sum of two given integers. However, if the sum is between 15 to 20 it will\n",
    "return 20'''\n",
    "n=int(input(\"Enter 1st number:\"))\n",
    "p=int(input(\"Enter 2nd number:\"))\n",
    "q=n+p\n",
    "if 15<=q<=20:\n",
    "    print(\"The sum is:20\")\n",
    "else:\n",
    "    print(\"The sum is:\",q)"
   ]
  },
  {
   "cell_type": "code",
   "execution_count": 26,
   "metadata": {},
   "outputs": [
    {
     "name": "stdout",
     "output_type": "stream",
     "text": [
      "1st number10\n",
      "2nd number5\n",
      "True\n"
     ]
    }
   ],
   "source": [
    "'''Write a Python program that will return true if the two given integer values are equal or their sum or\n",
    "difference is 5'''\n",
    "a=int(input(\"1st number\"))\n",
    "b=int(input(\"2nd number\"))\n",
    "c=a+b\n",
    "d=a-b\n",
    "e=b-a\n",
    "if c==5 or d==5 or e==5:\n",
    "    o=True\n",
    "    print(o)\n",
    "elif a==b: \n",
    "    o=True\n",
    "    print(o)\n",
    "else:\n",
    "    o=False\n",
    "    print(o)"
   ]
  },
  {
   "cell_type": "code",
   "execution_count": 27,
   "metadata": {},
   "outputs": [
    {
     "name": "stdout",
     "output_type": "stream",
     "text": [
      "enter number of students:3\n",
      "Enter name:abc\n",
      "Enter age:23\n",
      "Address:pqr\n",
      "---------------------------\n",
      "Name: abc\n",
      "Age: 23\n",
      "Address: pqr\n",
      "Enter name:xyz\n",
      "Enter age:21\n",
      "Address:fgh\n",
      "---------------------------\n",
      "Name: xyz\n",
      "Age: 21\n",
      "Address: fgh\n",
      "Enter name:qwerty\n",
      "Enter age:20\n",
      "Address:erws\n",
      "---------------------------\n",
      "Name: qwerty\n",
      "Age: 20\n",
      "Address: erws\n"
     ]
    }
   ],
   "source": [
    "'''Write a Python program to take the user information for n students details like name, age, address and\n",
    "print them on different lines.'''\n",
    "\n",
    "n=int(input(\"enter number of students:\"))\n",
    "for i in range(0,n):\n",
    "    name=input(\"Enter name:\")\n",
    "    age=int(input(\"Enter age:\"))\n",
    "    add=input(\"Address:\")\n",
    "    print(\"---------------------------\")\n",
    "    print(\"Name: {}\\nAge: {}\\nAddress: {}\".format(name, age, add))"
   ]
  },
  {
   "cell_type": "code",
   "execution_count": 28,
   "metadata": {},
   "outputs": [
    {
     "name": "stdout",
     "output_type": "stream",
     "text": [
      "Enter number of elements in list3\n",
      "1\n",
      "3\n",
      "4\n",
      "['1', '3', '4']\n",
      "The list of strings converted to integers: [1, 3, 4]\n",
      "Sum of all elements in list is: 8\n"
     ]
    }
   ],
   "source": [
    "n=int(input(\"Enter number of elements in list\"))\n",
    "l1=[]\n",
    "sumoflist=0\n",
    "for i in range(0,n):\n",
    "    l2=input()\n",
    "    l1.append(l2)\n",
    "print(l1)\n",
    "l1 = [int(i) for i in l1]\n",
    "print(\"The list of strings converted to integers:\",l1)\n",
    "for e in range(0,len(l1)):\n",
    "    sumoflist+=l1[e]\n",
    "print(\"Sum of all elements in list is:\",sumoflist)"
   ]
  },
  {
   "cell_type": "code",
   "execution_count": 10,
   "metadata": {},
   "outputs": [
    {
     "name": "stdout",
     "output_type": "stream",
     "text": [
      "Welcome\n",
      "Enter account number:12345\n",
      "Enter password:abc\n",
      "Hello Alice, How may we help you?\n",
      "Choose operations \n",
      " Check balance-C \n",
      " Deposit-D \n",
      " Withdrawal-W\n",
      "W\n",
      "Enter amount to withdraw5001\n",
      "Insufficient balance, cannot withdraw amount 5001\n"
     ]
    }
   ],
   "source": [
    "'''Write a Python program to imitate bank transactions like deposit, withdrawal and check balance.'''\n",
    "c=10000\n",
    "print(\"Welcome\")\n",
    "a=int(input(\"Enter account number:\"))\n",
    "b=input(\"Enter password:\")\n",
    "if a==12345 and b=='abc':\n",
    "    print(\"Hello Alice, How may we help you?\")\n",
    "    def deposit(c,am):\n",
    "        n=c+am\n",
    "        print(\"Amount deposited:\",am)\n",
    "        print(\"Current balance is:\",n)\n",
    "    def withdrawal(c,w):\n",
    "        n=c-w\n",
    "        if n>5000:\n",
    "            print(\"Amount withdrawn:\",w)\n",
    "            print(\"Current balance is:\",n)\n",
    "        if n<=5000:\n",
    "            print(\"Insufficient balance, cannot withdraw amount\",w)\n",
    "    def check(c):\n",
    "        print(\"current balance is\",c)\n",
    "    o=input(\"Choose operations \\n Check balance-C \\n Deposit-D \\n Withdrawal-W\\n\")\n",
    "    if o=='C' or o=='c':\n",
    "        check(c)\n",
    "    elif o=='D' or o=='d':\n",
    "        am=int(input(\"Enter amount to deposit:\"))\n",
    "        deposit(c,am)\n",
    "    elif o=='W' or o=='w':\n",
    "        w=int(input(\"Enter amount to withdraw\"))\n",
    "        withdrawal(c,w)\n",
    "else:\n",
    "    print(\"Unauthorized access\")"
   ]
  },
  {
   "cell_type": "code",
   "execution_count": null,
   "metadata": {},
   "outputs": [],
   "source": []
  }
 ],
 "metadata": {
  "kernelspec": {
   "display_name": "Python 3",
   "language": "python",
   "name": "python3"
  },
  "language_info": {
   "codemirror_mode": {
    "name": "ipython",
    "version": 3
   },
   "file_extension": ".py",
   "mimetype": "text/x-python",
   "name": "python",
   "nbconvert_exporter": "python",
   "pygments_lexer": "ipython3",
   "version": "3.7.3"
  }
 },
 "nbformat": 4,
 "nbformat_minor": 2
}
