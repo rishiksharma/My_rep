{
 "cells": [
  {
   "cell_type": "markdown",
   "metadata": {},
   "source": [
    "## page 18-19"
   ]
  },
  {
   "cell_type": "code",
   "execution_count": 72,
   "metadata": {},
   "outputs": [
    {
     "name": "stdout",
     "output_type": "stream",
     "text": [
      "number:5\n",
      "        1 \n",
      "      1 2 3 \n",
      "    1 2 3 4 5 \n",
      "  1 2 3 4 5 6 7 \n",
      "1 2 3 4 5 6 7 8 9 \n",
      "  1 2 3 4 5 6 7 \n",
      "    1 2 3 4 5 \n",
      "      1 2 3 \n",
      "        1 \n",
      "          \n"
     ]
    }
   ],
   "source": [
    "size = int(input(\"number:\"))\n",
    "k=0\n",
    "for i in range(0, size):\n",
    "    for j in range(0,size-i-1):\n",
    "        print(end=\"  \")\n",
    "    for j in range(1,k+2):\n",
    "        print(j, end=' ')\n",
    "    k=k+2\n",
    "    print()\n",
    "for i in range(size,0,-1):  ##reverse\n",
    "    for j in range(0,size-i+1):  ##dont forget +1 instead of -1\n",
    "        print(end=\"  \")\n",
    "    for j in range(1,k-2):\n",
    "        print(j, end=' ')\n",
    "    k=k-2\n",
    "    print()"
   ]
  },
  {
   "cell_type": "code",
   "execution_count": 30,
   "metadata": {},
   "outputs": [
    {
     "name": "stdout",
     "output_type": "stream",
     "text": [
      "Enter the number of rows : 4\n",
      "      1 \n",
      "    2 3 2 \n",
      "  3 4 5 4 3 \n",
      "4 5 6 7 6 5 4 \n"
     ]
    }
   ],
   "source": [
    "##From pooja's program, this is repeated I didn't understand this please explain\n",
    "n = int(input(\"Enter the number of rows : \"))\n",
    "num = 1\n",
    "gap = n - 1\n",
    "for j in range(1, n+1):\n",
    "    num = j\n",
    "    for i in range(1, gap+1):\n",
    "        print(\" \", end=\" \")\n",
    "    gap = gap - 1\n",
    "\n",
    "    for i in range(1, j+1):\n",
    "        print(num, end=\" \")\n",
    "        num = num + 1\n",
    "\n",
    "    num = num - 2\n",
    "\n",
    "    for i in range(1, j):\n",
    "        print(num, end=\" \")\n",
    "        num = num - 1\n",
    "\n",
    "    print()"
   ]
  },
  {
   "cell_type": "code",
   "execution_count": 2,
   "metadata": {},
   "outputs": [
    {
     "name": "stdout",
     "output_type": "stream",
     "text": [
      "Enter max star to be display on single line5\n",
      "\n",
      "\n",
      "1 \n",
      "\n",
      "1 2 \n",
      "\n",
      "1 2 3 \n",
      "\n",
      "1 2 3 4 \n",
      "\n",
      "1 2 3 4 5 \n",
      "\n",
      "1 2 3 4 \n",
      "\n",
      "1 2 3 \n",
      "\n",
      "1 2 \n",
      "\n",
      "1 \n",
      "\n",
      "\n",
      "\n",
      "\n",
      "\n"
     ]
    }
   ],
   "source": [
    "rows = input(\"Enter max star to be display on single line\")\n",
    "rows = int (rows)\n",
    "for i in range (0, rows+1):\n",
    "    for j in range(1, i + 1):\n",
    "        print(j, end=' ')\n",
    "    print(\"\\n\")\n",
    "\n",
    "for i in range (rows+1, 0, -1):\n",
    "    for j in range(1, i -1):\n",
    "        print(j, end=' ')\n",
    "    print(\"\\n\")"
   ]
  },
  {
   "cell_type": "code",
   "execution_count": 52,
   "metadata": {},
   "outputs": [
    {
     "name": "stdout",
     "output_type": "stream",
     "text": [
      "The number of rows in integers:6\n",
      "123456\n",
      "12345\n",
      "1234\n",
      "123\n",
      "12\n",
      "1\n",
      "\n",
      "1\n",
      "12\n",
      "123\n",
      "1234\n",
      "12345\n",
      "123456\n"
     ]
    }
   ],
   "source": [
    "n=int(input(\"The number of rows in integers:\"))\n",
    "for i in range(n,0,-1): ##reverse but only n will come not n+1\n",
    "    for j in range(1,i+1):\n",
    "        print(j,end=\"\")\n",
    "    print()\n",
    "for i in range(0,n+1): ##straight dont forget n+1\n",
    "    for j in range(1,i+1):\n",
    "        print(j,end=\"\")\n",
    "    print()"
   ]
  }
 ],
 "metadata": {
  "kernelspec": {
   "display_name": "Python 3",
   "language": "python",
   "name": "python3"
  },
  "language_info": {
   "codemirror_mode": {
    "name": "ipython",
    "version": 3
   },
   "file_extension": ".py",
   "mimetype": "text/x-python",
   "name": "python",
   "nbconvert_exporter": "python",
   "pygments_lexer": "ipython3",
   "version": "3.7.3"
  }
 },
 "nbformat": 4,
 "nbformat_minor": 2
}
