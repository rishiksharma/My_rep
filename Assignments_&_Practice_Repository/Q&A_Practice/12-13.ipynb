{
 "cells": [
  {
   "cell_type": "code",
   "execution_count": 10,
   "metadata": {},
   "outputs": [
    {
     "name": "stdout",
     "output_type": "stream",
     "text": [
      "        A \n",
      "      C B \n",
      "    F E D \n",
      "  J I H G \n",
      "O N M L K \n"
     ]
    }
   ],
   "source": [
    "#Q1\n",
    "n = 5\n",
    "chr_int = 64\n",
    "for i in range(1, n+1):\n",
    "    for j in range(1, n-i+1):\n",
    "        print(\" \", end = \" \")\n",
    "    chr_int += i\n",
    "    for k in range(1, i+1):\n",
    "        print(chr(chr_int), end = \" \")\n",
    "    \n",
    "        chr_int -= 1\n",
    "    chr_int += i\n",
    "    print()"
   ]
  },
  {
   "cell_type": "code",
   "execution_count": 19,
   "metadata": {},
   "outputs": [
    {
     "name": "stdout",
     "output_type": "stream",
     "text": [
      "A \n",
      "B C D \n",
      "E F G H I \n",
      "J K L M N O P \n",
      "Q R S T U V W X Y \n"
     ]
    }
   ],
   "source": [
    "#Q2\n",
    "incr = 1\n",
    "val = 65\n",
    "for i in range(0, 5):\n",
    "    for j in range(0, incr):\n",
    "        ch = chr(val)\n",
    "        print(ch, end=\" \")\n",
    "        val = val + 1\n",
    "    incr = incr + 2\n",
    "    print()"
   ]
  },
  {
   "cell_type": "code",
   "execution_count": 9,
   "metadata": {},
   "outputs": [
    {
     "name": "stdout",
     "output_type": "stream",
     "text": [
      "\t\t\t\t1\t\n",
      "\t\t\t3\t2\t\n",
      "\t\t6\t5\t4\t\n",
      "\t10\t9\t8\t7\t\n",
      "15\t14\t13\t12\t11\t\n"
     ]
    }
   ],
   "source": [
    "#Q3\n",
    "n = 5\n",
    "num = 0\n",
    "for i in range(1, n+1):\n",
    "    for j in range(1, n -i+1):\n",
    "        print(\" \", end = \"\\t\")\n",
    "    num += i\n",
    "    for k in range(1, i+1):\n",
    "        print(num, end = \"\\t\")\n",
    "        num -= 1\n",
    "    num += i\n",
    "    print()\n",
    "\n"
   ]
  },
  {
   "cell_type": "code",
   "execution_count": 13,
   "metadata": {},
   "outputs": [
    {
     "name": "stdout",
     "output_type": "stream",
     "text": [
      "1 \n",
      "2 3 4 \n",
      "5 6 7 8 9 \n",
      "10 11 12 13 14 15 16 \n",
      "17 18 19 20 21 22 23 24 25 \n"
     ]
    }
   ],
   "source": [
    "#Q4\n",
    "num = 1\n",
    "incr = 1\n",
    "for i in range(0, 5):\n",
    "    for j in range(0, incr):\n",
    "        print(num, end=\" \")\n",
    "        num = num + 1\n",
    "    print()\n",
    "    incr = incr + 2\n",
    "    "
   ]
  },
  {
   "cell_type": "markdown",
   "metadata": {},
   "source": [
    "### write a program to illustrate various inbuilt functions in lists."
   ]
  },
  {
   "cell_type": "code",
   "execution_count": 12,
   "metadata": {},
   "outputs": [
    {
     "name": "stdout",
     "output_type": "stream",
     "text": [
      "\n",
      "########################################################\n",
      "\n",
      "len : 6\n",
      "max [integer]: Yellow\n",
      "max [string]: 5000\n",
      "min [integer]: Blue\n",
      "min [string]: 1000\n",
      "append:  ['India', 'Germany', 251, 4000, 'Australia', 5478, 'Japan']\n",
      "insert:  ['India', 'Germany', 251, 'China', 4000, 'Australia', 5478, 'Japan']\n",
      "insert:  ['Pakistan', 'India', 'Germany', 251, 'China', 4000, 'Australia', 5478, 'Japan']\n",
      "reverse:  ['Japan', 5478, 'Australia', 4000, 'China', 251, 'Germany', 'India', 'Pakistan']\n",
      "count:  1\n",
      "count:  0\n",
      "count:  1\n",
      "count:  0\n",
      "index:  3\n",
      "index:  3\n",
      "index:  0\n",
      "pop:  ['Japan', 5478, 'Australia', 4000, 'China', 251, 'Germany', 'India']\n",
      "pop:  ['Japan', 5478, 'Australia', 4000, 'China', 251, 'Germany']\n",
      "sort:  ['Blue', 'Green', 'Red', 'Yellow']\n",
      "sort:  [1000, 2000, 3000, 4000, 5000]\n",
      "extend:  [1000, 2000, 3000, 4000, 5000, 'Blue', 'Green', 'Red', 'Yellow']\n",
      "list:  ['India', 'Germany', 5000, 1000, 'Japan']\n"
     ]
    }
   ],
   "source": [
    "def mylist():\n",
    "    print('\\n########################################################\\n')\n",
    " \n",
    "    list1 = ['India', 'Germany', 251, 4000, 'Australia', 5478]\n",
    "    list2 = [1000, 2000, 3000, 4000, 5000]\n",
    "    list3 = [\"Yellow\", \"Blue\", \"Green\", \"Red\"]\n",
    " \n",
    "    print(\"len :\", len(list1))\n",
    " \n",
    "\n",
    "    \n",
    "    print(\"max [integer]:\", max(list3))\n",
    "    print(\"max [string]:\", max(list2)) \n",
    "   \n",
    "    print(\"min [integer]:\", min(list3))\n",
    "    print(\"min [string]:\", min(list2))  \n",
    "    \n",
    "    list1.append('Japan')\n",
    "    print(\"append: \", list1)\n",
    "\n",
    "    list1.insert(3, 'China')\n",
    "    print(\"insert: \", list1)\n",
    "    list1.insert(0, 'Pakistan')\n",
    "    print(\"insert: \", list1)\n",
    " \n",
    "\n",
    "    list1.reverse()\n",
    "    print(\"reverse: \", list1)\n",
    " \n",
    "\n",
    "    print(\"count: \", list1.count('China'))\n",
    "    print(\"count: \", list1.count('pakistan'))\n",
    "    print(\"count: \", list1.count(4000))\n",
    "    print(\"count: \", list1.count('4000'))\n",
    " \n",
    " \n",
    "    print(\"index: \", list1.index(4000))\n",
    "    print(\"index: \", list3.index(\"Red\"))\n",
    "    print(\"index: \", list3.index(\"Yellow\"))\n",
    " \n",
    "\n",
    "    list1.pop()\n",
    "    print(\"pop: \", list1)\n",
    "    list1.pop()\n",
    "    print(\"pop: \", list1)\n",
    " \n",
    "  \n",
    "    list3.sort()\n",
    "    print(\"sort: \", list3)\n",
    "    list2.sort()\n",
    "    print(\"sort: \", list2)\n",
    " \n",
    "   \n",
    "    list2.extend(list3)\n",
    "    print(\"extend: \", list2)\n",
    " \n",
    "    \n",
    "    tup1 = ('India', 'Germany', 5000, 1000, 'Japan')\n",
    "    list4 = list(tup1)\n",
    "    print(\"list: \", list4)\n",
    " \n",
    "mylist()"
   ]
  },
  {
   "cell_type": "markdown",
   "metadata": {},
   "source": [
    "### Write a program to copy one string into another and count the number of characters copied"
   ]
  },
  {
   "cell_type": "code",
   "execution_count": 11,
   "metadata": {},
   "outputs": [
    {
     "name": "stdout",
     "output_type": "stream",
     "text": [
      "Enter any string to copy: hello\n",
      "String 2 after successfully copied = hello\n",
      "String 1 = hello \n",
      "String 2 = hello\n",
      "Count of the characters copied : 5\n"
     ]
    }
   ],
   "source": [
    "string = input(\"Enter any string to copy: \")\n",
    "cstring = string\n",
    "print(\"String 2 after successfully copied =\",cstring)\n",
    "print(\"String 1 =\",string,\"\\nString 2 =\",cstring)\n",
    "print(\"Count of the characters copied :\",len(string))"
   ]
  },
  {
   "cell_type": "markdown",
   "metadata": {},
   "source": [
    "### Write a program to identify the profit and loss in an organization assume your own suitable data."
   ]
  },
  {
   "cell_type": "code",
   "execution_count": 10,
   "metadata": {},
   "outputs": [
    {
     "name": "stdout",
     "output_type": "stream",
     "text": [
      " Please Enter the Actual Product Price: 1000\n",
      " Please Enter the Sales Amount: 500\n",
      "Total Loss Amount = 500.0\n"
     ]
    }
   ],
   "source": [
    "actual_cost = float(input(\" Please Enter the Actual Product Price: \"))\n",
    "sale_amount = float(input(\" Please Enter the Sales Amount: \"))\n",
    " \n",
    "if(actual_cost > sale_amount):\n",
    "    amount = actual_cost - sale_amount\n",
    "    print(\"Total Loss Amount = {0}\".format(amount))\n",
    "elif(sale_amount > actual_cost):\n",
    "    amount = sale_amount - actual_cost\n",
    "    print(\"Total Profit = {0}\".format(amount))\n",
    "else:\n",
    "    print(\"No Profit No Loss!!!\")"
   ]
  },
  {
   "cell_type": "markdown",
   "metadata": {},
   "source": [
    "### Write a program which take a string from the user and decrypt it using shift by 3 method (hint: if user enters the value C it should be encrypted as A and so on.)"
   ]
  },
  {
   "cell_type": "code",
   "execution_count": 9,
   "metadata": {},
   "outputs": [
    {
     "name": "stdout",
     "output_type": "stream",
     "text": [
      "Enter the string to encrypt :cC\n",
      "Text  : cC\n",
      "Shift : 3\n",
      "Cipher: aA\n"
     ]
    }
   ],
   "source": [
    "def encrypt(text,s): \n",
    "    result = \"\" \n",
    "    for i in range(len(text)): \n",
    "        char = text[i] \n",
    "        if (char.isupper()): \n",
    "            result += chr((ord(char) - s-64) % 26 + 65) \n",
    "        else: \n",
    "            result += chr((ord(char) - s - 96) % 26 + 97) \n",
    "  \n",
    "    return result \n",
    "  \n",
    " \n",
    "text =input(\"Enter the string to encrypt :\")\n",
    "s = 3\n",
    "print (\"Text  : \" + text) \n",
    "print (\"Shift : \" + str(s)) \n",
    "print (\"Cipher: \" + encrypt(text,s)) "
   ]
  },
  {
   "cell_type": "markdown",
   "metadata": {},
   "source": [
    "### Write a python program to evaluate the following series"
   ]
  },
  {
   "cell_type": "code",
   "execution_count": null,
   "metadata": {},
   "outputs": [],
   "source": [
    "#no series given "
   ]
  },
  {
   "cell_type": "markdown",
   "metadata": {},
   "source": [
    "### Write a program to calculate standard deviation and variance. Assume the data in the list."
   ]
  },
  {
   "cell_type": "code",
   "execution_count": 11,
   "metadata": {},
   "outputs": [
    {
     "name": "stdout",
     "output_type": "stream",
     "text": [
      "Variance of the sample is % s 2.5\n",
      "Standard Deviation of sample is % s  1.5811388300841898\n"
     ]
    }
   ],
   "source": [
    "import statistics \n",
    "sample = [1, 2, 3, 4, 5] \n",
    "  \n",
    "print(\"Variance of the sample is % s\" ,(statistics.variance(sample)))\n",
    "\n",
    "print(\"Standard Deviation of sample is % s \" ,(statistics.stdev(sample)))"
   ]
  },
  {
   "cell_type": "code",
   "execution_count": 6,
   "metadata": {},
   "outputs": [
    {
     "name": "stdout",
     "output_type": "stream",
     "text": [
      "Help on class dict in module builtins:\n",
      "\n",
      "class dict(object)\n",
      " |  dict() -> new empty dictionary\n",
      " |  dict(mapping) -> new dictionary initialized from a mapping object's\n",
      " |      (key, value) pairs\n",
      " |  dict(iterable) -> new dictionary initialized as if via:\n",
      " |      d = {}\n",
      " |      for k, v in iterable:\n",
      " |          d[k] = v\n",
      " |  dict(**kwargs) -> new dictionary initialized with the name=value pairs\n",
      " |      in the keyword argument list.  For example:  dict(one=1, two=2)\n",
      " |  \n",
      " |  Methods defined here:\n",
      " |  \n",
      " |  __contains__(self, key, /)\n",
      " |      True if the dictionary has the specified key, else False.\n",
      " |  \n",
      " |  __delitem__(self, key, /)\n",
      " |      Delete self[key].\n",
      " |  \n",
      " |  __eq__(self, value, /)\n",
      " |      Return self==value.\n",
      " |  \n",
      " |  __ge__(self, value, /)\n",
      " |      Return self>=value.\n",
      " |  \n",
      " |  __getattribute__(self, name, /)\n",
      " |      Return getattr(self, name).\n",
      " |  \n",
      " |  __getitem__(...)\n",
      " |      x.__getitem__(y) <==> x[y]\n",
      " |  \n",
      " |  __gt__(self, value, /)\n",
      " |      Return self>value.\n",
      " |  \n",
      " |  __init__(self, /, *args, **kwargs)\n",
      " |      Initialize self.  See help(type(self)) for accurate signature.\n",
      " |  \n",
      " |  __iter__(self, /)\n",
      " |      Implement iter(self).\n",
      " |  \n",
      " |  __le__(self, value, /)\n",
      " |      Return self<=value.\n",
      " |  \n",
      " |  __len__(self, /)\n",
      " |      Return len(self).\n",
      " |  \n",
      " |  __lt__(self, value, /)\n",
      " |      Return self<value.\n",
      " |  \n",
      " |  __ne__(self, value, /)\n",
      " |      Return self!=value.\n",
      " |  \n",
      " |  __repr__(self, /)\n",
      " |      Return repr(self).\n",
      " |  \n",
      " |  __setitem__(self, key, value, /)\n",
      " |      Set self[key] to value.\n",
      " |  \n",
      " |  __sizeof__(...)\n",
      " |      D.__sizeof__() -> size of D in memory, in bytes\n",
      " |  \n",
      " |  clear(...)\n",
      " |      D.clear() -> None.  Remove all items from D.\n",
      " |  \n",
      " |  copy(...)\n",
      " |      D.copy() -> a shallow copy of D\n",
      " |  \n",
      " |  get(self, key, default=None, /)\n",
      " |      Return the value for key if key is in the dictionary, else default.\n",
      " |  \n",
      " |  items(...)\n",
      " |      D.items() -> a set-like object providing a view on D's items\n",
      " |  \n",
      " |  keys(...)\n",
      " |      D.keys() -> a set-like object providing a view on D's keys\n",
      " |  \n",
      " |  pop(...)\n",
      " |      D.pop(k[,d]) -> v, remove specified key and return the corresponding value.\n",
      " |      If key is not found, d is returned if given, otherwise KeyError is raised\n",
      " |  \n",
      " |  popitem(...)\n",
      " |      D.popitem() -> (k, v), remove and return some (key, value) pair as a\n",
      " |      2-tuple; but raise KeyError if D is empty.\n",
      " |  \n",
      " |  setdefault(self, key, default=None, /)\n",
      " |      Insert key with a value of default if key is not in the dictionary.\n",
      " |      \n",
      " |      Return the value for key if key is in the dictionary, else default.\n",
      " |  \n",
      " |  update(...)\n",
      " |      D.update([E, ]**F) -> None.  Update D from dict/iterable E and F.\n",
      " |      If E is present and has a .keys() method, then does:  for k in E: D[k] = E[k]\n",
      " |      If E is present and lacks a .keys() method, then does:  for k, v in E: D[k] = v\n",
      " |      In either case, this is followed by: for k in F:  D[k] = F[k]\n",
      " |  \n",
      " |  values(...)\n",
      " |      D.values() -> an object providing a view on D's values\n",
      " |  \n",
      " |  ----------------------------------------------------------------------\n",
      " |  Class methods defined here:\n",
      " |  \n",
      " |  fromkeys(iterable, value=None, /) from builtins.type\n",
      " |      Create a new dictionary with keys from iterable and values set to value.\n",
      " |  \n",
      " |  ----------------------------------------------------------------------\n",
      " |  Static methods defined here:\n",
      " |  \n",
      " |  __new__(*args, **kwargs) from builtins.type\n",
      " |      Create and return a new object.  See help(type) for accurate signature.\n",
      " |  \n",
      " |  ----------------------------------------------------------------------\n",
      " |  Data and other attributes defined here:\n",
      " |  \n",
      " |  __hash__ = None\n",
      "\n"
     ]
    }
   ],
   "source": [
    "help(dict)"
   ]
  },
  {
   "cell_type": "markdown",
   "metadata": {},
   "source": [
    "### Find the output :\n"
   ]
  },
  {
   "cell_type": "code",
   "execution_count": 3,
   "metadata": {},
   "outputs": [
    {
     "data": {
      "text/plain": [
       "[3, 5, 6, 7, 32, 54, 87]"
      ]
     },
     "execution_count": 3,
     "metadata": {},
     "output_type": "execute_result"
    }
   ],
   "source": [
    "def bs(a):\n",
    "    b=len(a)-1\n",
    "    for x in range(b):\n",
    "        for y in range(b-x): \n",
    "            if a[y]>a[y+1]:                      #comparing two nos.\n",
    "                a[y],a[y+1]=a[y+1],a[y]\n",
    "    return (a)\n",
    "a=[32,5,3,6,7,54,87]                         \n",
    "bs(a) "
   ]
  },
  {
   "cell_type": "code",
   "execution_count": 1,
   "metadata": {},
   "outputs": [
    {
     "name": "stdout",
     "output_type": "stream",
     "text": [
      "\n",
      "\n",
      "\n",
      "\n",
      "\n",
      "\n",
      "\n",
      "\n",
      "\n"
     ]
    }
   ],
   "source": [
    "#program for spacing in pattern\n",
    "def pyfunc(r):\n",
    "    for x in range(r):\n",
    "        print(''*(r-x-1)+''*(2*x+1))   #in question multiplication is not given\n",
    "pyfunc(9)                              #output will show the blank space"
   ]
  },
  {
   "cell_type": "code",
   "execution_count": 2,
   "metadata": {},
   "outputs": [
    {
     "name": "stdout",
     "output_type": "stream",
     "text": [
      "Enter the terms: 8\n",
      "0 1 1 2 3 5 8 13 "
     ]
    }
   ],
   "source": [
    "# Enter number of terms needed                   #0,1,1,2,3,5....\n",
    "a=int(input(\"Enter the terms: \"))\n",
    "f=0                                         #first element of series\n",
    "s=1                                         #second element of series\n",
    "if a<=0:\n",
    "    print(\"The requested series is\",f)\n",
    "else:\n",
    "    print(f,s,end=\" \")\n",
    "    for x in range(2,a):\n",
    "        next=f+s                           \n",
    "        print(next,end=\" \")\n",
    "        f=s\n",
    "        s=next"
   ]
  }
 ],
 "metadata": {
  "kernelspec": {
   "display_name": "Python 3",
   "language": "python",
   "name": "python3"
  },
  "language_info": {
   "codemirror_mode": {
    "name": "ipython",
    "version": 3
   },
   "file_extension": ".py",
   "mimetype": "text/x-python",
   "name": "python",
   "nbconvert_exporter": "python",
   "pygments_lexer": "ipython3",
   "version": "3.7.3"
  }
 },
 "nbformat": 4,
 "nbformat_minor": 2
}
