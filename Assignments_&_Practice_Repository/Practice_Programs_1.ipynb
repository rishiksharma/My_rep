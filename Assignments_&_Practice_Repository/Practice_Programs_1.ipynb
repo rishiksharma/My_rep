{
 "cells": [
  {
   "cell_type": "code",
   "execution_count": 1,
   "metadata": {},
   "outputs": [],
   "source": [
    "import numpy as np\n",
    "import pandas as pd"
   ]
  },
  {
   "cell_type": "code",
   "execution_count": 2,
   "metadata": {},
   "outputs": [
    {
     "data": {
      "text/plain": [
       "2000-01-01    7\n",
       "2000-01-08    4\n",
       "2000-01-15    9\n",
       "2000-01-22    3\n",
       "2000-01-29    1\n",
       "2000-02-05    2\n",
       "2000-02-12    9\n",
       "2000-02-19    1\n",
       "2000-02-26    5\n",
       "2000-03-04    5\n",
       "Freq: W-SAT, dtype: int32"
      ]
     },
     "execution_count": 2,
     "metadata": {},
     "output_type": "execute_result"
    }
   ],
   "source": [
    "# create a TimeSeries starting ‘2000-01-01’ and 10 weekends (saturdays) after that having\n",
    "# random numbers as values?\n",
    "dates = pd.Series(np.random.randint(1,10,10), pd.date_range('2000-01-01', periods=10, freq='W-SAT'))\n",
    "dates"
   ]
  },
  {
   "cell_type": "code",
   "execution_count": 3,
   "metadata": {},
   "outputs": [
    {
     "name": "stdout",
     "output_type": "stream",
     "text": [
      "   Manufacturer    Model     Type\n",
      "0         Acura  Integra    Small\n",
      "20     Chrysler  LeBaron  Compact\n",
      "40        Honda  Prelude   Sporty\n",
      "60      Mercury   Cougar  Midsize\n",
      "80       Subaru   Loyale    Small\n"
     ]
    }
   ],
   "source": [
    "# How to filter every nth row in a dataframe?\n",
    "df = pd.read_csv('https://raw.githubusercontent.com/selva86/datasets/master/Cars93_miss.csv')\n",
    "print(df.iloc[::20, :][['Manufacturer', 'Model', 'Type']])"
   ]
  },
  {
   "cell_type": "code",
   "execution_count": 4,
   "metadata": {},
   "outputs": [
    {
     "name": "stdout",
     "output_type": "stream",
     "text": [
      "The reverse of given array is:  [10  9  8  7  6  5  4  3  2]\n"
     ]
    }
   ],
   "source": [
    "# Write a NumPy program to reverse an array (first element becomes last).\n",
    "a=np.arange(2,11)\n",
    "print(\"The reverse of given array is: \",a[::-1])"
   ]
  },
  {
   "cell_type": "code",
   "execution_count": 5,
   "metadata": {},
   "outputs": [
    {
     "name": "stdout",
     "output_type": "stream",
     "text": [
      "0 STD            City    State\n",
      "1  33   Kolkata    West Bengal\n",
      "2  44    Chennai    Tamil Nadu\n",
      "3  40   Hyderabad    Telengana\n",
      "4  80   Bangalore    Karnataka\n"
     ]
    }
   ],
   "source": [
    "# How to split a text column into two separate columns?\n",
    "df = pd.DataFrame([\"STD, City    State\",\n",
    "\"33, Kolkata    West Bengal\",\n",
    "\"44, Chennai    Tamil Nadu\",\n",
    "\"40, Hyderabad    Telengana\",\n",
    "\"80, Bangalore    Karnataka\"], columns=['row'])\n",
    "\n",
    "# Solution\n",
    "df_out = df.row.str.split(',|\\t', expand=True)\n",
    "\n",
    "# Make first row as header\n",
    "new_header = df_out.iloc[0]\n",
    "df_out = df_out[1:]\n",
    "df_out.columns = new_header\n",
    "print(df_out)"
   ]
  },
  {
   "cell_type": "code",
   "execution_count": 6,
   "metadata": {},
   "outputs": [
    {
     "name": "stdout",
     "output_type": "stream",
     "text": [
      "Original array:\n",
      "[[0. 0. 0. 0. 0.]\n",
      " [0. 0. 0. 0. 0.]\n",
      " [0. 0. 0. 0. 0.]\n",
      " [0. 0. 0. 0. 0.]\n",
      " [0. 0. 0. 0. 0.]]\n",
      "1 on the border and 0 inside in the array\n",
      "[[0. 0. 0. 0. 0.]\n",
      " [0. 1. 1. 1. 0.]\n",
      " [0. 1. 1. 1. 0.]\n",
      " [0. 1. 1. 1. 0.]\n",
      " [0. 0. 0. 0. 0.]]\n"
     ]
    }
   ],
   "source": [
    "# Write a NumPy program to add a border (filled with 0's) around an existing array. \n",
    "\n",
    "import numpy as np\n",
    "x = np.zeros((5,5))\n",
    "print(\"Original array:\")\n",
    "print(x)\n",
    "print(\"1 on the border and 0 inside in the array\")\n",
    "x[1:-1,1:-1] = 1\n",
    "print(x)\n"
   ]
  },
  {
   "cell_type": "code",
   "execution_count": 7,
   "metadata": {},
   "outputs": [
    {
     "name": "stdout",
     "output_type": "stream",
     "text": [
      "The set difference between : [ 0 10 20 40 60 80] and [10, 30, 40, 50, 70] is: \n",
      " [ 0 20 60 80]\n"
     ]
    }
   ],
   "source": [
    "# Write a NumPy program to find the set difference of two arrays. \n",
    "#The set difference will return the sorted, unique values in array1 that are not in array2. \n",
    "\n",
    "import numpy as np\n",
    "a = np.array([0, 10, 20, 40, 60, 80])\n",
    "b = [10, 30, 40, 50, 70]\n",
    "print(\"The set difference between :\",a, \"and\",b,\"is: \\n\",np.setdiff1d(a,b))\n"
   ]
  },
  {
   "cell_type": "code",
   "execution_count": 8,
   "metadata": {},
   "outputs": [
    {
     "name": "stdout",
     "output_type": "stream",
     "text": [
      "The matrix after multiplication is:  [  0  20  60 120 200 300 420]\n"
     ]
    }
   ],
   "source": [
    "#  Write a NumPy program to compute the multiplication of two given matrixes\n",
    "\n",
    "a=np.array([0,10,20,30,40,50,60])\n",
    "b=np.array([1,2,3,4,5,6,7])\n",
    "c=[]\n",
    "for i in range(max(len(a),len(b))):\n",
    "    c.append(a[i]*b[i])\n",
    "print(\"The matrix after multiplication is: \",np.array(c))"
   ]
  },
  {
   "cell_type": "code",
   "execution_count": 9,
   "metadata": {},
   "outputs": [
    {
     "name": "stdout",
     "output_type": "stream",
     "text": [
      "class      First    Second     Third\n",
      "sex                                 \n",
      "female  0.968085  0.921053  0.500000\n",
      "male    0.368852  0.157407  0.135447\n"
     ]
    }
   ],
   "source": [
    "# Write a Pandas program to create a Pivot table and find survival rate by gender on various classes\n",
    "\n",
    "df = pd.read_csv('titanic.csv')\n",
    "result = df.pivot_table('survived', index='sex', columns='class')\n",
    "print(result)"
   ]
  },
  {
   "cell_type": "code",
   "execution_count": 10,
   "metadata": {
    "scrolled": true
   },
   "outputs": [
    {
     "name": "stdout",
     "output_type": "stream",
     "text": [
      "pclass              1     2      3\n",
      "sex    age                        \n",
      "female (0, 10]    1.0   8.0   22.0\n",
      "       (10, 30]  34.0  36.0   57.0\n",
      "       (30, 60]  48.0  30.0   22.0\n",
      "       (60, 80]   2.0   NaN    1.0\n",
      "male   (0, 10]    2.0   9.0   22.0\n",
      "       (10, 30]  24.0  43.0  151.0\n",
      "       (30, 60]  63.0  44.0   76.0\n",
      "       (60, 80]  12.0   3.0    4.0\n"
     ]
    }
   ],
   "source": [
    "# Write a Pandas program to create a Pivot table and count survival by gender, categories wise age of various classes. \n",
    "\n",
    "age = pd.cut(df['age'], [0, 10, 30, 60, 80])\n",
    "result = df.pivot_table('survived', index=['sex',age], columns='pclass', aggfunc='count')\n",
    "print(result)"
   ]
  },
  {
   "cell_type": "code",
   "execution_count": 11,
   "metadata": {},
   "outputs": [
    {
     "name": "stdout",
     "output_type": "stream",
     "text": [
      "[ 1  2  3  4  5  6  7  8  9 10]\n"
     ]
    }
   ],
   "source": [
    "# Write a NumPy program to convert a list of numeric value into a one-dimensional NumPy array\n",
    "\n",
    "a=[1,2,3,4,5,6,7,8,9,10]\n",
    "b=np.array(a)\n",
    "print(b)"
   ]
  },
  {
   "cell_type": "code",
   "execution_count": 12,
   "metadata": {},
   "outputs": [
    {
     "name": "stdout",
     "output_type": "stream",
     "text": [
      "              fare                       survived             \n",
      "class        First     Second      Third    First Second Third\n",
      "sex                                                           \n",
      "female  106.125798  21.970121  16.118810       91     70    72\n",
      "male     67.226127  19.741782  12.661633       45     17    47\n"
     ]
    }
   ],
   "source": [
    "# Write a Pandas program to create a Pivot table and find number of survivors and average rate grouped by gender and class.\n",
    "\n",
    "result = df.pivot_table(index='sex', columns='class', aggfunc={'survived':sum, 'fare':'mean'})\n",
    "print(result)"
   ]
  },
  {
   "cell_type": "code",
   "execution_count": 13,
   "metadata": {},
   "outputs": [
    {
     "name": "stdout",
     "output_type": "stream",
     "text": [
      "class            First    Second     Third\n",
      "sex    alone                              \n",
      "female False  0.966667  0.931818  0.416667\n",
      "       True   0.970588  0.906250  0.616667\n",
      "male   False  0.425532  0.277778  0.180723\n",
      "       True   0.333333  0.097222  0.121212\n"
     ]
    }
   ],
   "source": [
    "#  Write a Pandas program to create a Pivot table and separate the gender according to whether they traveled alone \n",
    "# or not to get the probability of survival.\n",
    "\n",
    "result = df.pivot_table( 'survived' , [ 'sex' , 'alone' ] , 'class' )\n",
    "print(result)"
   ]
  },
  {
   "cell_type": "code",
   "execution_count": 14,
   "metadata": {},
   "outputs": [
    {
     "name": "stdout",
     "output_type": "stream",
     "text": [
      "embark_town  Cherbourg                     Queenstown                   \\\n",
      "class            First    Second     Third      First Second     Third   \n",
      "sex    alone                                                             \n",
      "female False  1.000000  1.000000  0.611111        1.0    NaN  0.625000   \n",
      "       True   0.944444  1.000000  0.800000        NaN    1.0  0.760000   \n",
      "male   False  0.473684  0.166667  0.500000        0.0    NaN  0.100000   \n",
      "       True   0.347826  0.250000  0.151515        NaN    0.0  0.068966   \n",
      "\n",
      "embark_town  Southampton                      \n",
      "class              First    Second     Third  \n",
      "sex    alone                                  \n",
      "female False    0.941176  0.923077  0.327586  \n",
      "       True     1.000000  0.892857  0.466667  \n",
      "male   False    0.407407  0.300000  0.142857  \n",
      "       True     0.326923  0.089552  0.123762  \n"
     ]
    }
   ],
   "source": [
    "# Write a Pandas program to create a Pivot table and \n",
    "# find the probability of survival by class, gender, solo boarding and port of embarkation.\n",
    "\n",
    "result = df.pivot_table('survived', ['sex' , 'alone' ], [ 'embark_town', 'class' ])\n",
    "print(result)"
   ]
  },
  {
   "cell_type": "code",
   "execution_count": 15,
   "metadata": {},
   "outputs": [
    {
     "name": "stdout",
     "output_type": "stream",
     "text": [
      "survived        0\n",
      "pclass          0\n",
      "sex             0\n",
      "age             0\n",
      "sibsp           0\n",
      "parch           0\n",
      "fare            0\n",
      "embarked        0\n",
      "class           0\n",
      "who             0\n",
      "adult_male      0\n",
      "deck           70\n",
      "embark_town     0\n",
      "alive           0\n",
      "alone           0\n",
      "Unnamed: 15    83\n",
      "dtype: int64\n"
     ]
    }
   ],
   "source": [
    "# Write a Pandas program to create a Pivot table and check missing values of children.\n",
    "\n",
    "result = df.loc[df['who']=='child'].isnull().sum()\n",
    "print(result)"
   ]
  }
 ],
 "metadata": {
  "kernelspec": {
   "display_name": "Python 3",
   "language": "python",
   "name": "python3"
  },
  "language_info": {
   "codemirror_mode": {
    "name": "ipython",
    "version": 3
   },
   "file_extension": ".py",
   "mimetype": "text/x-python",
   "name": "python",
   "nbconvert_exporter": "python",
   "pygments_lexer": "ipython3",
   "version": "3.8.3"
  }
 },
 "nbformat": 4,
 "nbformat_minor": 2
}
