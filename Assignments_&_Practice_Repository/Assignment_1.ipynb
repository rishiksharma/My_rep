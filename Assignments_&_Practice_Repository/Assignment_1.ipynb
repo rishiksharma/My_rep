{
 "cells": [
  {
   "cell_type": "markdown",
   "metadata": {},
   "source": [
    "# Assignment_1"
   ]
  },
  {
   "cell_type": "markdown",
   "metadata": {},
   "source": [
    "### Q1. Write a function that takes as input a sentence and a word, from the user and counts the occurrences of the word in the sentence. For example: “I felt happy because I saw that others were happy and because I knew I should feel happy, but I wasn’t really happy.” and count the occurrence of the word ‘I’. Also, replace the word ‘I’ with ‘WE’ and print the sentence."
   ]
  },
  {
   "cell_type": "code",
   "execution_count": 14,
   "metadata": {},
   "outputs": [
    {
     "name": "stdout",
     "output_type": "stream",
     "text": [
      "enter your sentence without any punctuation : I felt happy because I saw that others were happy and because I knew I should feel happy but I was not really happy\n",
      "enter the word to be counted : happy\n",
      "the no. of occurence of  happy is 4\n"
     ]
    }
   ],
   "source": [
    "def wordcount():\n",
    "    sent = input(\"enter your sentence without any punctuation : \")\n",
    "    word = input(\"enter the word to be counted : \")\n",
    "    x= sent.split(\" \")\n",
    "    c=0\n",
    "    for i in range(len(x)):\n",
    "        if x[i]==word:\n",
    "            c=c+1\n",
    "        else:\n",
    "            pass\n",
    "    return(print(\"the no. of occurence of \",word,\"is\",c))\n",
    "wordcount()"
   ]
  },
  {
   "cell_type": "code",
   "execution_count": 10,
   "metadata": {},
   "outputs": [
    {
     "name": "stdout",
     "output_type": "stream",
     "text": [
      "enter your sentence : I felt happy because I saw that others were happy and because I knew I should feel happy, but I wasn’t really happy.\n",
      "enter the word to be replaced : I\n",
      "enter the word by which you wand to replace : We\n",
      "We felt happy because We saw that others were happy and because We knew We should feel happy, but We wasn’t really happy.\n"
     ]
    }
   ],
   "source": [
    "def wordreplacer():\n",
    "    sent = input(\"enter your sentence : \")\n",
    "    word = input(\"enter the word to be replaced : \")\n",
    "    replacer = input(\"enter the word by which you wand to replace : \")\n",
    "    x= list(sent)\n",
    "    y= []\n",
    "    for i in x:\n",
    "        if i == word:\n",
    "            i = replacer\n",
    "        y.append(i)\n",
    "    return(print(\"\".join(y)))\n",
    "wordreplacer()"
   ]
  },
  {
   "cell_type": "code",
   "execution_count": 4,
   "metadata": {},
   "outputs": [
    {
     "name": "stdout",
     "output_type": "stream",
     "text": [
      "enter your sentence : I felt happy because I saw that others were happy and because I knew I should feel happy, but I wasn’t really happy.\n",
      "enter the word to be replaced : I\n",
      "enter the word by which you wand to replace : We\n",
      "We felt happy because We saw that others were happy and because We knew We should feel happy, but We wasn’t really happy.\n"
     ]
    }
   ],
   "source": [
    "def wordreplace():\n",
    "    sent = input(\"enter your sentence : \")\n",
    "    word = input(\"enter the word to be replaced : \")\n",
    "    replacer = input(\"enter the word by which you wand to replace : \")\n",
    "    return(print(sent.replace(word,replacer)))\n",
    "wordreplace()"
   ]
  },
  {
   "cell_type": "markdown",
   "metadata": {},
   "source": [
    "### Q2. Write a Python program that accepts from the user a value for the number of days and subtracts it from the current date and displays the result.\n"
   ]
  },
  {
   "cell_type": "code",
   "execution_count": 16,
   "metadata": {},
   "outputs": [
    {
     "name": "stdout",
     "output_type": "stream",
     "text": [
      "enter no. of days to go back : 10\n",
      "Todays Date : 2020-01-04\n",
      "The date 10 days before was :  2019-12-25\n"
     ]
    }
   ],
   "source": [
    "def backdate():\n",
    "    a=int(input(\"enter no. of days to go back : \"))\n",
    "    from datetime import date,timedelta\n",
    "    dt = date.today() - timedelta(a)\n",
    "    print('Todays Date :',date.today())\n",
    "    return(print(\"The date\",a,\"days before was : \",dt))\n",
    "backdate()"
   ]
  },
  {
   "cell_type": "markdown",
   "metadata": {},
   "source": [
    "### Q3. Write a Python program to find the numbers which are divisible by 7 and are multiples of 5, between 2100 and 3500 (both included)"
   ]
  },
  {
   "cell_type": "code",
   "execution_count": 20,
   "metadata": {},
   "outputs": [
    {
     "name": "stdout",
     "output_type": "stream",
     "text": [
      "2100\n",
      "2135\n",
      "2170\n",
      "2205\n",
      "2240\n",
      "2275\n",
      "2310\n",
      "2345\n",
      "2380\n",
      "2415\n",
      "2450\n",
      "2485\n",
      "2520\n",
      "2555\n",
      "2590\n",
      "2625\n",
      "2660\n",
      "2695\n",
      "2730\n",
      "2765\n",
      "2800\n",
      "2835\n",
      "2870\n",
      "2905\n",
      "2940\n",
      "2975\n",
      "3010\n",
      "3045\n",
      "3080\n",
      "3115\n",
      "3150\n",
      "3185\n",
      "3220\n",
      "3255\n",
      "3290\n",
      "3325\n",
      "3360\n",
      "3395\n",
      "3430\n",
      "3465\n",
      "3500\n"
     ]
    }
   ],
   "source": [
    "def prog(a,b):\n",
    "    for i in range(a,b+1):\n",
    "        if i%7==0 and i%5==0:\n",
    "            print(i)\n",
    "   # return(print(i))\n",
    "prog(2100,3500)"
   ]
  },
  {
   "cell_type": "markdown",
   "metadata": {},
   "source": [
    "### Q4. Write a Python function to check whether a given number is a prime number or not. Accept the number from the user."
   ]
  },
  {
   "cell_type": "code",
   "execution_count": 31,
   "metadata": {
    "scrolled": true
   },
   "outputs": [
    {
     "name": "stdout",
     "output_type": "stream",
     "text": [
      "Enter test number : 97\n",
      "97 is a prime number\n"
     ]
    }
   ],
   "source": [
    "def isprime():\n",
    "    a=int(input(\"Enter test number : \"))\n",
    "    if (a <= 1) : \n",
    "        return(print(n,\"is not a prime number.\"))\n",
    "    if (a <= 3) : \n",
    "        return(print(n,\"is a prime number.\"))\n",
    "    for i in range(2,a//2):\n",
    "        if (a % i) == 0:\n",
    "            return(print(a,\"is not a prime number\"))\n",
    "            break\n",
    "    else:\n",
    "            return(print(a,\"is a prime number\"))\n",
    "isprime()"
   ]
  },
  {
   "cell_type": "markdown",
   "metadata": {},
   "source": [
    "### Q5. Write a Python program to construct the following pattern. Accept the number of lines of the pattern to be printed from the user. For example, the pattern with 6 lines is as follows:\n",
    "         *\n",
    "        ***\n",
    "       *****\n",
    "      *******\n",
    "     *********\n",
    "    ***********"
   ]
  },
  {
   "cell_type": "code",
   "execution_count": 34,
   "metadata": {},
   "outputs": [
    {
     "name": "stdout",
     "output_type": "stream",
     "text": [
      "enter no. of rows = 6\n",
      "     * \n",
      "    * * \n",
      "   * * * \n",
      "  * * * * \n",
      " * * * * * \n",
      "* * * * * * \n"
     ]
    }
   ],
   "source": [
    "def pyramid():\n",
    "    a=int(input(\"enter no. of rows = \"))\n",
    "    for i in range(0,a):\n",
    "        for j in range(0,a-i-1): # helps to add spaces and reach mid value\n",
    "            print(end = \" \")\n",
    "        for k in range(i+1):\n",
    "            print(\"*\",end=\" \")\n",
    "        print()\n",
    "pyramid()"
   ]
  },
  {
   "cell_type": "markdown",
   "metadata": {},
   "source": [
    "### Q6. You are given the following list: names = [‘Vipin’, 'Sanath', 'Priya', 'Sudhish', 'Akshay', 'Suraj']\n",
    "### Using a lambda function, filter those names that start with ‘S’."
   ]
  },
  {
   "cell_type": "code",
   "execution_count": 51,
   "metadata": {},
   "outputs": [
    {
     "name": "stdout",
     "output_type": "stream",
     "text": [
      "['Sanath', 'Sudhish', 'Suraj']\n"
     ]
    }
   ],
   "source": [
    "names = ['Vipin', 'Sanath', 'Priya', 'Sudhish', 'Akshay', 'Suraj']\n",
    "# fl=[]\n",
    "# for i in range(0,len(names)):\n",
    "#    fl.append(names[i][0])\n",
    "# print(fl)\n",
    "filtlist = list(filter(lambda i: \"S\" in i,names))\n",
    "print(filtlist)"
   ]
  },
  {
   "cell_type": "markdown",
   "metadata": {},
   "source": [
    "### Q7. Write a function that accepts a positive single digit integer (n) from the user and computes the value of n+nn+nnn. For example: if n=5, 5+55+555 = 615 should be displayed."
   ]
  },
  {
   "cell_type": "code",
   "execution_count": 53,
   "metadata": {},
   "outputs": [
    {
     "name": "stdout",
     "output_type": "stream",
     "text": [
      "Enter integer : 5\n",
      "615\n"
     ]
    }
   ],
   "source": [
    "def nnn():\n",
    "    n=(int(input(\"Enter integer : \")))\n",
    "    a=n\n",
    "    b=n*11\n",
    "    c=n*111\n",
    "    return(print(a+b+c))\n",
    "nnn()"
   ]
  },
  {
   "cell_type": "markdown",
   "metadata": {},
   "source": [
    "### Q8. Write a Python function that takes as input an email address from the user and returns the domain as result."
   ]
  },
  {
   "cell_type": "code",
   "execution_count": 59,
   "metadata": {},
   "outputs": [
    {
     "name": "stdout",
     "output_type": "stream",
     "text": [
      "enter email id : 123@123.com\n",
      "123.com\n"
     ]
    }
   ],
   "source": [
    "def checkdomain():\n",
    "    a=input(\"enter email id : \")\n",
    "    b=a.split(\"@\")\n",
    "    return(print(b[1]))\n",
    "checkdomain()"
   ]
  },
  {
   "cell_type": "markdown",
   "metadata": {},
   "source": [
    "### Q9. Write a Python program to get a string made of the first two and the last two characters from a given string. Other conditions as per the sample:\n",
    "Sample String: 'w3resource’\n",
    "Expected Result: 'w3ce’\n",
    "Sample String: 'w3’\n",
    "Expected Result: 'w3w3’\n",
    "Sample String: 'w’\n",
    "Expected Result: Empty String"
   ]
  },
  {
   "cell_type": "code",
   "execution_count": 6,
   "metadata": {
    "scrolled": true
   },
   "outputs": [
    {
     "name": "stdout",
     "output_type": "stream",
     "text": [
      "enter the string : w3resource\n",
      "w3ce\n",
      "enter the string : w3\n",
      "w3w3\n",
      "enter the string : w\n",
      "\n",
      "enter the string : abcdef\n",
      "abef\n"
     ]
    }
   ],
   "source": [
    "def fnl2():\n",
    "    a = input(\"enter the string : \")\n",
    "    if len(a)<2:\n",
    "        return(print(\"\"))\n",
    "    else:\n",
    "        b= a[0:2]\n",
    "        c= a[-2:]\n",
    "        d= b+c\n",
    "        return(print(d))\n",
    "fnl2()\n",
    "fnl2()\n",
    "fnl2()\n",
    "fnl2()"
   ]
  },
  {
   "cell_type": "markdown",
   "metadata": {},
   "source": [
    "### Q10. Write a Python program to add 'ing' at the end of a given string (length of input string should be at least 3). If the given string already ends with 'ing' then add 'ly' instead. If the string length of the given string is less than 3, leave it unchanged:\n",
    "Sample String: 'abc'\n",
    "Expected Result: 'abcing'\n",
    "Sample String: 'string'\n",
    "Expected Result: 'stringly'"
   ]
  },
  {
   "cell_type": "code",
   "execution_count": 11,
   "metadata": {},
   "outputs": [
    {
     "name": "stdout",
     "output_type": "stream",
     "text": [
      "enter your string(of atleast 3 characters) : a\n",
      "Invalid entry : enter a string having atleast 3 characters \n",
      "enter your string(of atleast 3 characters) : add\n",
      "adding\n",
      "enter your string(of atleast 3 characters) : surprising\n",
      "surprisingly\n"
     ]
    }
   ],
   "source": [
    "def ingly():\n",
    "    a = input(\"enter your string(of atleast 3 characters) : \")\n",
    "    if len(a)<3:\n",
    "        print(\"Invalid entry : enter a string having atleast 3 characters \")\n",
    "    else:\n",
    "        b = a[-3:]\n",
    "        if b==\"ing\":\n",
    "                  return(print(a+\"ly\"))\n",
    "        else:\n",
    "                  return(print(a+\"ing\"))\n",
    "ingly()\n",
    "ingly()\n",
    "ingly()"
   ]
  }
 ],
 "metadata": {
  "kernelspec": {
   "display_name": "Python 3",
   "language": "python",
   "name": "python3"
  },
  "language_info": {
   "codemirror_mode": {
    "name": "ipython",
    "version": 3
   },
   "file_extension": ".py",
   "mimetype": "text/x-python",
   "name": "python",
   "nbconvert_exporter": "python",
   "pygments_lexer": "ipython3",
   "version": "3.8.3"
  }
 },
 "nbformat": 4,
 "nbformat_minor": 2
}
