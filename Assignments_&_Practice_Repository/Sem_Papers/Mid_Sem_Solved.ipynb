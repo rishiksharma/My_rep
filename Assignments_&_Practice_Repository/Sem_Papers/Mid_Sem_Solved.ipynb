{
 "cells": [
  {
   "cell_type": "markdown",
   "metadata": {},
   "source": [
    "# A1) program to find square root of given num without using inbuilt function"
   ]
  },
  {
   "cell_type": "code",
   "execution_count": 10,
   "metadata": {},
   "outputs": [
    {
     "name": "stdout",
     "output_type": "stream",
     "text": [
      "enter your number : 16\n",
      "The square root of 16 is 4.0\n"
     ]
    }
   ],
   "source": [
    "# taking input from user\n",
    "z = int(input(\"enter your number : \"))\n",
    "\n",
    "# defining function name and arguments\n",
    "def sqrt1(z):\n",
    "    return(print(\"The square root of\",z,\"is\",z**0.5)) # adding what computation is to be done by the function   \n",
    "\n",
    "# using the function\n",
    "sqrt1(z)"
   ]
  },
  {
   "cell_type": "markdown",
   "metadata": {},
   "source": [
    "# A2) function for average of given \"2\" numbers"
   ]
  },
  {
   "cell_type": "code",
   "execution_count": 3,
   "metadata": {},
   "outputs": [
    {
     "name": "stdout",
     "output_type": "stream",
     "text": [
      "Ether first no.: 5\n",
      "Ether second no.: 6\n",
      "The average of thr given numbers is 5.5\n"
     ]
    }
   ],
   "source": [
    "# taking input for first number\n",
    "a= int(input(\"Ether first no.: \")) \n",
    "\n",
    "# taking input for second number\n",
    "b= int(input(\"Ether second no.: \" ))\n",
    "\n",
    "# defining function name and arguments\n",
    "def average(a,b):\n",
    "    \n",
    "# adding what computation is to be done by the function    \n",
    "    return(print(\"The average of thr given numbers is\",(a+b)/2))\n",
    "\n",
    "# using the function\n",
    "average(a,b)"
   ]
  },
  {
   "cell_type": "markdown",
   "metadata": {},
   "source": [
    "# A3) funtion for square of sum of 2 numbers"
   ]
  },
  {
   "cell_type": "code",
   "execution_count": 9,
   "metadata": {},
   "outputs": [
    {
     "name": "stdout",
     "output_type": "stream",
     "text": [
      "enter num 1 : 4\n",
      "enter num 2 : 5\n",
      "81\n"
     ]
    }
   ],
   "source": [
    "# taking input for first number\n",
    "x = int(input(\"enter num 1 : \"))\n",
    "\n",
    "# taking input for second number\n",
    "y = int(input(\"enter num 2 : \"))\n",
    "\n",
    "# defining function name and arguments\n",
    "def sumsquare(x,y):\n",
    "    return(x**2+y**2+2*x*y)   # adding what computation is to be done by the function i.e. formula of (a+b)**2= a**2 + b**2 + 2ab\n",
    "\n",
    "# using the function\n",
    "print(sumsquare(x,y))"
   ]
  },
  {
   "cell_type": "markdown",
   "metadata": {},
   "source": [
    "# A4) shift input data by 2 to the left"
   ]
  },
  {
   "cell_type": "code",
   "execution_count": 39,
   "metadata": {},
   "outputs": [
    {
     "name": "stdout",
     "output_type": "stream",
     "text": [
      "enter the number: 7\n",
      "28\n"
     ]
    }
   ],
   "source": [
    "# taking the input as integer\n",
    "x=int(input(\"enter the number: \"))\n",
    "\n",
    "# defining function name and arguments\n",
    "def lshift(x):\n",
    "    y=x<<2      # adding what computation is to be done by the function (i have used left shift operator here)\n",
    "    return(print(y)) # adding the value to be returened\n",
    "lshift(x)"
   ]
  },
  {
   "cell_type": "markdown",
   "metadata": {},
   "source": [
    "# A5)  list of marks bin into classes of 0-9, 10-19,....90-100."
   ]
  },
  {
   "cell_type": "code",
   "execution_count": 53,
   "metadata": {},
   "outputs": [
    {
     "name": "stdout",
     "output_type": "stream",
     "text": [
      "class\t no. of students\n",
      "0-9\t\t 2\n",
      "10-19\t\t 4\n",
      "20-29\t\t 4\n",
      "30-39\t\t 4\n",
      "40-49\t\t 6\n",
      "50-59\t\t 8\n",
      "60-69\t\t 7\n",
      "70-79\t\t 6\n",
      "80-89\t\t 4\n",
      "90-100\t\t 2\n",
      "total\t\t 47\n"
     ]
    }
   ],
   "source": [
    "# taking input of marks as a list\n",
    "l1 = [43,65,51,27,79,11,56,61,82,9,25,36,7,49,55,63,74,81,49,16,75,87,91,33,24,58,78,65,56,76,67,45,54,36,63,21,12,73,49,51,19,39,49,68,93,85,59]\n",
    "\n",
    "# forming bins or counters\n",
    "c1=0\n",
    "c2=0\n",
    "c3=0\n",
    "c4=0\n",
    "c5=0\n",
    "c6=0\n",
    "c7=0\n",
    "c8=0\n",
    "c9=0\n",
    "c10=0\n",
    "\n",
    "# calculating number of elements in a defined range\n",
    "for i in range(10):\n",
    "    c1=c1+l1.count(i)\n",
    "for i in range(10,20):\n",
    "    c2=c2+l1.count(i)\n",
    "for i in range(20,30):\n",
    "    c3=c3+l1.count(i)\n",
    "for i in range(30,40):\n",
    "    c4=c4+l1.count(i)\n",
    "for i in range(40,50):\n",
    "    c5=c5+l1.count(i)\n",
    "for i in range(50,60):\n",
    "    c6=c6+l1.count(i)\n",
    "for i in range(60,70):\n",
    "    c7=c7+l1.count(i)\n",
    "for i in range(70,80):\n",
    "    c8=c8+l1.count(i)    \n",
    "for i in range(80,90):\n",
    "    c9=c9+l1.count(i)\n",
    "for i in range(90,101):\n",
    "    c10=c10+l1.count(i)\n",
    "sumx=c1+c2+c3+c4+c5+c6+c7+c8+c9+c10\n",
    "\n",
    "# printing in a tabular manner    \n",
    "print(\"class\\t\",\"no. of students\")\n",
    "print(\"0-9\\t\\t\",c1)\n",
    "print(\"10-19\\t\\t\",c2)\n",
    "print(\"20-29\\t\\t\",c3)\n",
    "print(\"30-39\\t\\t\",c4)\n",
    "print(\"40-49\\t\\t\",c5)\n",
    "print(\"50-59\\t\\t\",c6)\n",
    "print(\"60-69\\t\\t\",c7)\n",
    "print(\"70-79\\t\\t\",c8)\n",
    "print(\"80-89\\t\\t\",c9)\n",
    "print(\"90-100\\t\\t\",c10)\n",
    "print(\"total\\t\\t\",sumx)"
   ]
  },
  {
   "cell_type": "markdown",
   "metadata": {},
   "source": [
    "# A6) to type N with stars"
   ]
  },
  {
   "cell_type": "code",
   "execution_count": 52,
   "metadata": {},
   "outputs": [
    {
     "name": "stdout",
     "output_type": "stream",
     "text": [
      "enter the number of rows: 10\n",
      "*         *\n",
      "**        *\n",
      "* *       *\n",
      "*  *      *\n",
      "*   *     *\n",
      "*    *    *\n",
      "*     *   *\n",
      "*      *  *\n",
      "*       * *\n",
      "*        **\n",
      "*         *\n"
     ]
    }
   ],
   "source": [
    "# taking input for no of rowws and coulmns\n",
    "n=int(input(\"enter the number of rows: \"))\n",
    "\n",
    "# adding rows and columns \n",
    "for row in range(0,n+1):\n",
    "    for col in range(0,n+1):\n",
    "        if((col==0 or col==n) or (row==col)): # adding condition on where to print \"*\"\n",
    "            print(\"*\", end=\"\")\n",
    "        else:\n",
    "            print(end=\" \") # adding white space\n",
    "    print() # to change the line"
   ]
  },
  {
   "cell_type": "markdown",
   "metadata": {},
   "source": [
    "A7) printing hollow diamond pattern"
   ]
  },
  {
   "cell_type": "code",
   "execution_count": 60,
   "metadata": {},
   "outputs": [
    {
     "name": "stdout",
     "output_type": "stream",
     "text": [
      "enter the no. of rows : 14\n",
      "       *       \n",
      "      * *      \n",
      "     *   *     \n",
      "    *     *    \n",
      "   *       *   \n",
      "  *         *  \n",
      " *           * \n",
      "*             *\n",
      " *           * \n",
      "  *         *  \n",
      "   *       *   \n",
      "    *     *    \n",
      "     *   *     \n",
      "      * *      \n",
      "       *       \n"
     ]
    }
   ],
   "source": [
    "# taking input for no of rowws and coulmns\n",
    "n = int(input(\"enter the no. of rows : \"))\n",
    "\n",
    "# adding rows and columns\n",
    "for row in range(n+1):\n",
    "    for col in range(n+1):\n",
    "        if row+col==(n//2) or col-row==(n//2) or row-col==(n//2) or row+col==(n+n//2): # adding condition on where to print \"*\"\n",
    "            print(\"*\", end=\"\")\n",
    "        else:\n",
    "            print(end=\" \") # adding white space\n",
    "    print() # to change the line"
   ]
  }
 ],
 "metadata": {
  "kernelspec": {
   "display_name": "Python 3",
   "language": "python",
   "name": "python3"
  },
  "language_info": {
   "codemirror_mode": {
    "name": "ipython",
    "version": 3
   },
   "file_extension": ".py",
   "mimetype": "text/x-python",
   "name": "python",
   "nbconvert_exporter": "python",
   "pygments_lexer": "ipython3",
   "version": "3.8.3"
  }
 },
 "nbformat": 4,
 "nbformat_minor": 2
}
