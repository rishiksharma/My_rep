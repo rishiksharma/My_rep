{
 "cells": [
  {
   "cell_type": "markdown",
   "metadata": {},
   "source": [
    "##### 1. write a program that simulates drawing names out of a hat.in this drawing the number off hat entries each person gets may vary. allow the userto input a list of names and a list of how many entries each person has in drawing, and print out who winns the drawing,"
   ]
  },
  {
   "cell_type": "code",
   "execution_count": 1,
   "metadata": {},
   "outputs": [
    {
     "name": "stdout",
     "output_type": "stream",
     "text": [
      "Enter the no. of names to be added4\n",
      "enter the namerishik\n",
      "enter the no. of enteries for the name entered4\n",
      "enter the namejay\n",
      "enter the no. of enteries for the name entered6\n",
      "enter the namesarang\n",
      "enter the no. of enteries for the name entered7\n",
      "enter the namesajal\n",
      "enter the no. of enteries for the name entered3\n",
      "The winner of the Hat Draw is :  jay\n"
     ]
    }
   ],
   "source": [
    "def hat_draw():\n",
    "    n=int(input('Enter the no. of names to be added')) # taking input for no. of distinct entries\n",
    "    # empty lists to append inputs\n",
    "    l1=[] \n",
    "    l2=[]\n",
    "    l3=[] \n",
    "    # taking multiple inputs\n",
    "    for i in range(1,n+1):\n",
    "        name_i=input('enter the name') # input distinct names\n",
    "        l1.append(name_i)\n",
    "        entry_count=int(input('enter the no. of enteries for the name entered')) # input no. of entries per name\n",
    "        l2.append(entry_count)\n",
    "    # print(l1)\n",
    "    # print(l2)\n",
    "    # making a list with defind no. of entries for particular names \n",
    "    l3 = sum([[i] * j for i, j in zip(l1, l2)], [])#(function to be performed,[]to put into a list)\n",
    "    # print(l3)\n",
    "    # importing random library\n",
    "    import random\n",
    "    # selecting random element\n",
    "    winner=random.choice(l3)\n",
    "    # printing the name of the lucky draw\n",
    "    return(print('The winner of the Hat Draw is : ',winner))\n",
    "hat_draw()"
   ]
  },
  {
   "cell_type": "markdown",
   "metadata": {},
   "source": [
    "##### 2. write a simple quiz game 10 questions select 4 randomly ask questions take input evaluate answer and give scores"
   ]
  },
  {
   "cell_type": "code",
   "execution_count": 2,
   "metadata": {},
   "outputs": [
    {
     "name": "stdout",
     "output_type": "stream",
     "text": [
      "Select one answer and type it from the given list of possible answers.\n",
      "What is the capital of the United States of America?\n",
      "['Washington DC', 'New york', 'New Jersey', 'New Delhi']\n",
      "enter your answera\n",
      "Who is the current president of the United States of America? \n",
      "['President Donald Trump', 'Sam Allardyce', 'Derrick Johnson', 'Some other Idiot']\n",
      "enter your answers\n",
      "What is the capital of Nigeria? \n",
      "['Abuja', 'Kharbuja', 'Tarbuja', 'Ahuja']\n",
      "enter your answerd\n",
      "Muhammadu Buhari is the president of which country? \n",
      "['Nigeria', 'Antena', 'London', 'Liverpool']\n",
      "enter your answerf\n",
      "Your Score is :  0 out of 4!\n"
     ]
    }
   ],
   "source": [
    "def gk_quiz():\n",
    "    # defining questions, ansewrs & options in lists\n",
    "    Questions=['What is the capital of the United States of America?', 'Who is the current president of the United States of America? ','What is the capital of Nigeria? ','Muhammadu Buhari is the president of which country? ','Uhuru Kenyatta is the president of which country? ', 'What is the capital of France? ','Which state has only one neighbor? ', 'Where is Amsterdam located? ','Emmanuel Macron is the president of which country? ','Sir Alex Ferguson until his retirement coached which team?']\n",
    "    Answers=[ 'Washington DC','President Donald Trump','Abuja','Nigeria','Kenya','Paris','Maine','Netherland','France','Manchester United']\n",
    "    options=[ ['Washington DC','New york','New Jersey','New Delhi'], ['President Donald Trump','Sam Allardyce','Derrick Johnson','Some other Idiot'],['Abuja','Kharbuja','Tarbuja','Ahuja'], ['Nigeria','Antena','London','Liverpool'],['Kenya','Yemen','china','India'], ['Paris','munich','san francisco','jersey'],['Maine','mainz','martha','africa'],['Netherland','jeruselam','italy','germany',],['France','egypt','west indies','none of the above'],['Manchester United','liverpool','arsenal','leeds']]\n",
    "    print('Select one answer and type it from the given list of possible answers.')\n",
    "    # importing random library\n",
    "    import random\n",
    "    num_right= 0\n",
    "    # giving seed to obtain same values for samples of different lists\n",
    "    random.seed(random.randint(0,100)) # randomising seed\n",
    "    s = random.sample(Questions, 4)\n",
    "    a = random.sample(options,4)\n",
    "    # printing questions and options and taking input\n",
    "    for i in range(len(s)):\n",
    "        print(Questions[i])\n",
    "        print(options[i])\n",
    "        answer= input('enter your answer')\n",
    "    # matching the answers and counting correct anwsers\n",
    "    if answer.lower()==Answers[i].lower():\n",
    "        num_right+=1\n",
    "    else:\n",
    "        pass\n",
    "    # returning score for the particular game\n",
    "    return(print('Your Score is : ',num_right, 'out of 4!'))\n",
    "gk_quiz()"
   ]
  },
  {
   "cell_type": "markdown",
   "metadata": {},
   "source": [
    "###### write a program to take a list of 10 random numbers and then generate a new list from it in which every number is divided by its consecutive number and last number should be divided by first number"
   ]
  },
  {
   "cell_type": "code",
   "execution_count": 3,
   "metadata": {},
   "outputs": [
    {
     "name": "stdout",
     "output_type": "stream",
     "text": [
      "Enter no. of elements needed in the list : 10\n",
      "The first list is :  [18, 164, 153, 462, 689, 782, 863, 621, 2, 928]\n",
      "[0.10975609756097561, 1.0718954248366013, 0.33116883116883117, 0.6705370101596516, 0.881074168797954, 0.9061413673232909, 1.3896940418679549, 310.5, 0.0021551724137931034, 51.55555555555556]\n"
     ]
    }
   ],
   "source": [
    "def list_mapper():\n",
    "    # defining empty lists\n",
    "    list1=[]\n",
    "    list2=[]\n",
    "    # taking input for no. of elements in the first list\n",
    "    n=int(input('Enter no. of elements needed in the list : '))\n",
    "    # importing random\n",
    "    import random\n",
    "    # making a random list of n elements\n",
    "    for i in range(1,n+1):\n",
    "        list1.append(random.randint(1,1001))\n",
    "    print('The first list is : ',list1)\n",
    "    # mapping the given condition\n",
    "    for j in range(0,len(list1)):\n",
    "        if j < len(list1)-1:\n",
    "            a=list1[j]/list1[j+1]\n",
    "        else:\n",
    "            a=list1[j]/list1[0]\n",
    "        list2.append(a)\n",
    "    # returning the final list of required condition    \n",
    "    return(print(list2))\n",
    "list_mapper()"
   ]
  },
  {
   "cell_type": "markdown",
   "metadata": {},
   "source": [
    "##### Write a program using classes to represent the following relationship and perform various operation as per the scenario. "
   ]
  },
  {
   "cell_type": "code",
   "execution_count": 2,
   "metadata": {},
   "outputs": [
    {
     "ename": "AttributeError",
     "evalue": "'passenger' object has no attribute 'boarding'",
     "output_type": "error",
     "traceback": [
      "\u001b[1;31m---------------------------------------------------------------------------\u001b[0m",
      "\u001b[1;31mAttributeError\u001b[0m                            Traceback (most recent call last)",
      "\u001b[1;32m<ipython-input-2-bbd2e4193111>\u001b[0m in \u001b[0;36m<module>\u001b[1;34m\u001b[0m\n\u001b[0;32m     33\u001b[0m \u001b[0mb\u001b[0m\u001b[1;33m=\u001b[0m\u001b[0mrepresentative\u001b[0m\u001b[1;33m(\u001b[0m\u001b[1;33m)\u001b[0m\u001b[1;33m\u001b[0m\u001b[1;33m\u001b[0m\u001b[0m\n\u001b[0;32m     34\u001b[0m \u001b[1;33m\u001b[0m\u001b[0m\n\u001b[1;32m---> 35\u001b[1;33m \u001b[0mstat\u001b[0m \u001b[1;33m=\u001b[0m \u001b[0ma\u001b[0m\u001b[1;33m.\u001b[0m\u001b[0mboarding\u001b[0m\u001b[1;33m(\u001b[0m\u001b[1;33m)\u001b[0m\u001b[1;33m\u001b[0m\u001b[1;33m\u001b[0m\u001b[0m\n\u001b[0m\u001b[0;32m     36\u001b[0m \u001b[0mchecker\u001b[0m \u001b[1;33m=\u001b[0m \u001b[0ma\u001b[0m\u001b[1;33m.\u001b[0m\u001b[0mCheck_in\u001b[0m\u001b[1;33m(\u001b[0m\u001b[1;33m)\u001b[0m\u001b[1;33m\u001b[0m\u001b[1;33m\u001b[0m\u001b[0m\n\u001b[0;32m     37\u001b[0m \u001b[0mchecker_rep\u001b[0m \u001b[1;33m=\u001b[0m \u001b[0mb\u001b[0m\u001b[1;33m.\u001b[0m\u001b[0mCheck_in\u001b[0m\u001b[1;33m(\u001b[0m\u001b[1;33m)\u001b[0m\u001b[1;33m\u001b[0m\u001b[1;33m\u001b[0m\u001b[0m\n",
      "\u001b[1;31mAttributeError\u001b[0m: 'passenger' object has no attribute 'boarding'"
     ]
    }
   ],
   "source": [
    "# creating passenger class\n",
    "class passenger():\n",
    "    \"\"\" These are the services passenger can access \"\"\"\n",
    "    def Check_in(self):\n",
    "        a=input(\"has passenger checked in : y/n\")\n",
    "        if a=='y':\n",
    "            print('Passenger checked in')\n",
    "        else:\n",
    "            print('Passenger has not checked in')\n",
    "    def Automated_check_in(self):\n",
    "        timer=input('time elapsed y/n')\n",
    "        if timer=='y':\n",
    "            print('autochecked in')\n",
    "        else:\n",
    "            print('not chekced in')\n",
    "    def express_check_in(self):\n",
    "        type1=input('enter y if you are ready to pay for express check in : y/n?')\n",
    "        if type1 == 'y':\n",
    "            print('eligible rooms are as follows')\n",
    "        else:\n",
    "            print('not eligible for express')\n",
    "    def boarding(self):\n",
    "        station=input('enter your required boarding station')\n",
    "        return(station)\n",
    "\n",
    "# making new class and inheriting passenger class for check_in method \n",
    "class representative(passenger):\n",
    "    \"\"\" These are functionalities of representative \"\"\"\n",
    "    def others(self):\n",
    "        print('list of other functionalities')\n",
    "    \n",
    "a=passenger()\n",
    "b=representative()\n",
    "\n",
    "stat = a.boarding()\n",
    "checker = a.Check_in()                  \n",
    "checker_rep = b.Check_in()\n",
    "# this wont run even with inheritance\n",
    "rep_board= b.boarding()\n",
    "                  \n",
    "                  \n",
    "                  "
   ]
  },
  {
   "cell_type": "code",
   "execution_count": null,
   "metadata": {},
   "outputs": [],
   "source": []
  },
  {
   "cell_type": "code",
   "execution_count": null,
   "metadata": {},
   "outputs": [],
   "source": []
  },
  {
   "cell_type": "code",
   "execution_count": null,
   "metadata": {},
   "outputs": [],
   "source": []
  },
  {
   "cell_type": "code",
   "execution_count": null,
   "metadata": {},
   "outputs": [],
   "source": []
  }
 ],
 "metadata": {
  "kernelspec": {
   "display_name": "Python 3",
   "language": "python",
   "name": "python3"
  },
  "language_info": {
   "codemirror_mode": {
    "name": "ipython",
    "version": 3
   },
   "file_extension": ".py",
   "mimetype": "text/x-python",
   "name": "python",
   "nbconvert_exporter": "python",
   "pygments_lexer": "ipython3",
   "version": "3.8.3"
  }
 },
 "nbformat": 4,
 "nbformat_minor": 4
}
