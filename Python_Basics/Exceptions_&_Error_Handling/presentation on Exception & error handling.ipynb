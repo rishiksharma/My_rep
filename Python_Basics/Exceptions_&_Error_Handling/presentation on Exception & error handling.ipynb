{
 "cells": [
  {
   "cell_type": "markdown",
   "metadata": {},
   "source": [
    "# Exception"
   ]
  },
  {
   "cell_type": "markdown",
   "metadata": {},
   "source": [
    "## What is Exception?"
   ]
  },
  {
   "cell_type": "markdown",
   "metadata": {},
   "source": [
    "## An exception is an event, which occurs during the execution of a program, that disrupts the normal flow of the program's instructions"
   ]
  },
  {
   "cell_type": "markdown",
   "metadata": {},
   "source": [
    "## Why Exception occurs?"
   ]
  },
  {
   "cell_type": "markdown",
   "metadata": {},
   "source": [
    "## Exceptions can occur due to programming errors, user errors, or unexpected conditions like no internet access. Exceptions themselves are objects that contain information about what went wrong. Exceptions are usually defined by their type - which describes broadly the class of exception that occurred, and by a message - a string that says specifically what happened"
   ]
  },
  {
   "cell_type": "markdown",
   "metadata": {},
   "source": [
    "## What is the difference between Error and Exception?"
   ]
  },
  {
   "cell_type": "markdown",
   "metadata": {},
   "source": [
    "## An Error might indicate critical problems that a reasonable application should not try to catch, while an Exception might indicate conditions that an application should try to catch. Errors are a form of an unchecked exception and are irrecoverable like an OutOfMemoryError , which a programmer should not try to handle."
   ]
  },
  {
   "cell_type": "markdown",
   "metadata": {},
   "source": [
    "## Error occurs only at runtime. They are not known to the compiler"
   ]
  },
  {
   "cell_type": "markdown",
   "metadata": {},
   "source": [
    "## Exceptions are caused by the program or application itself while errors are caused by the environment in which the program runs."
   ]
  },
  {
   "cell_type": "markdown",
   "metadata": {},
   "source": [
    "## Error"
   ]
  },
  {
   "cell_type": "markdown",
   "metadata": {},
   "source": [
    "![](except.jpg)"
   ]
  },
  {
   "cell_type": "markdown",
   "metadata": {},
   "source": [
    "## Types of Exceptions"
   ]
  },
  {
   "cell_type": "markdown",
   "metadata": {},
   "source": [
    "## •\tSyntaxError: raised when the programmer has made a mistake typing Python code correctly.\n",
    "## •\tAttributeError: attempting to access an attribute on an object that does not exist\n",
    "## •\tKeyError: attempting to access a key in a dictionary that does not exist\n",
    "## •\tTypeError: raised when an argument to a function is not the right type (e.g. a str instead of int)\n",
    "## •\tValueError: when an argument to a function is the right type but not in the right domain (e.g. an empty string)\n",
    "## •\tImportError: raised when an import fails\n",
    "## •\tIOError: raised when Python cannot access a file correctly on disk\n"
   ]
  },
  {
   "cell_type": "code",
   "execution_count": null,
   "metadata": {},
   "outputs": [],
   "source": [
    "                    Exception                                        \tCause Of Error\n",
    "ArithmeticError                                             Raised when numerical computation fails.\n",
    "FloatingPointError\t                                          Raised when floating point calculation fails.\n",
    "AssertionError\t                                           Raised in case of failure of the Assert statement.\n",
    "ZeroDivisionError\t                                      Raised when division or modulo by zero takes place for all numerical values.\n",
    "OverflowError\t                                          Raised when result of an arithmetic operation is very large to be represented.\n",
    "IndexError\t                                                Raised when an index is not found in a sequence.\n",
    "ImportError\t                                                Raised when the imported module is not found.\n",
    "IndentationError\t                                       Raised when indentation is not specified properly.\n",
    "KeyboardInterrupt\t                                       Raised when the user hits interrupt key.\n",
    "RuntimeError\t\t                                       Raised when a generated error does not fall into any category.\n",
    "SyntaxError\t\t                                       Raised when there is an error in Python syntax.\n",
    "IOError\t\t                                       Raised when Python cannot access a file correctly on disk.\n",
    "KeyError\t\t                                       Raised when a key is not found in a dictionary.\n",
    "ValueError\t\t                                       Raised when an argument to a function is the right type but not in the right domain.\n",
    "NameError\t                                       Raised when an identifier is not found in the local or global namespace.\n",
    "TypeError\t                                       \n",
    "Raised when an argument to a function is not in the right type."
   ]
  },
  {
   "cell_type": "markdown",
   "metadata": {},
   "source": [
    "## Try, Except, Else and Finally"
   ]
  },
  {
   "cell_type": "markdown",
   "metadata": {},
   "source": [
    "![](exception1.png)"
   ]
  },
  {
   "cell_type": "markdown",
   "metadata": {},
   "source": [
    "## Handling Exception with and without using Try and Except."
   ]
  },
  {
   "cell_type": "code",
   "execution_count": null,
   "metadata": {},
   "outputs": [
    {
     "name": "stdout",
     "output_type": "stream",
     "text": [
      "Please enter an integer: a\n",
      "a is not an integer.\n"
     ]
    }
   ],
   "source": [
    "\n",
    "n = None\n",
    "while n is None:\n",
    "    s = input(\"Please enter an integer: \")\n",
    "    if s.lstrip('-').isdigit():\n",
    "        n = int(s)\n",
    "    else:\n",
    "        print(\"%s is not an integer.\" % s)\n",
    "\n",
    "# with exception handling\n",
    "\n",
    "n = None\n",
    "while n is None:\n",
    "    try:\n",
    "        s = input(\"Please enter: \")\n",
    "        n = int(s)\n",
    "    except ValueError:\n",
    "        print(\"%s is not an integer.\" % s)"
   ]
  },
  {
   "cell_type": "markdown",
   "metadata": {},
   "source": [
    "## Try,Except and Else"
   ]
  },
  {
   "cell_type": "code",
   "execution_count": 5,
   "metadata": {
    "scrolled": true
   },
   "outputs": [
    {
     "name": "stdout",
     "output_type": "stream",
     "text": [
      "Enter a:5\n",
      "Enter b:5\n",
      "a/b = 1\n",
      "Hi I am else block\n"
     ]
    }
   ],
   "source": [
    "try:  \n",
    "    a = int(input(\"Enter a:\"))  \n",
    "    b = int(input(\"Enter b:\"))  \n",
    "    c = a/b;  \n",
    "    print(\"a/b = %d\"%c)  \n",
    "except:  \n",
    "    print(\"can't divide by zero\")  \n",
    "else:  \n",
    "    print(\"Hi I am else block\")   "
   ]
  },
  {
   "cell_type": "code",
   "execution_count": null,
   "metadata": {},
   "outputs": [],
   "source": [
    "try:  \n",
    "    #this will throw an exception if the file doesn't exist.   \n",
    "    fileptr = open(\"file.txt\",\"r\")  \n",
    "except IOError:  \n",
    "    print(\"File not found\")  \n",
    "else:  \n",
    "    print(\"The file opened successfully\")  \n",
    "    fileptr.close()  "
   ]
  },
  {
   "cell_type": "code",
   "execution_count": null,
   "metadata": {},
   "outputs": [],
   "source": [
    "try:    \n",
    "    a=10/0;    \n",
    "except ArithmeticError or StandardError:\n",
    "    print(\"Arithmetic Exception\")   \n",
    "else:    \n",
    "    print(\"Successfully Done\") "
   ]
  },
  {
   "cell_type": "markdown",
   "metadata": {},
   "source": [
    "## Try,Except and Finally"
   ]
  },
  {
   "cell_type": "code",
   "execution_count": 6,
   "metadata": {
    "scrolled": true
   },
   "outputs": [
    {
     "name": "stdout",
     "output_type": "stream",
     "text": [
      "So, let us close the file\n"
     ]
    }
   ],
   "source": [
    "try:\n",
    "    fp=open(\"test.txt\", \"w\")\n",
    "except IOError:\n",
    "    print (\"Error: File not found\" )\n",
    "finally:\n",
    "    print(\"So, let us close the file\")\n",
    "    fp.close()\n"
   ]
  },
  {
   "cell_type": "markdown",
   "metadata": {},
   "source": [
    "## Try, Except, Else and Finally"
   ]
  },
  {
   "cell_type": "code",
   "execution_count": 7,
   "metadata": {},
   "outputs": [
    {
     "name": "stdout",
     "output_type": "stream",
     "text": [
      "Please enter your age: 5\n",
      "I see that you are 5 years old.\n",
      "It was really nice talking to you.  Goodbye!\n"
     ]
    }
   ],
   "source": [
    "try:\n",
    "    age = int(input(\"Please enter your age: \"))\n",
    "except ValueError:\n",
    "    print(\"Hey, that wasn't a number!\")\n",
    "else:\n",
    "    print(\"I see that you are %d years old.\" % age)\n",
    "finally:\n",
    "    print(\"It was really nice talking to you.  Goodbye!\")"
   ]
  },
  {
   "cell_type": "markdown",
   "metadata": {},
   "source": [
    "## Nested Try"
   ]
  },
  {
   "cell_type": "code",
   "execution_count": 8,
   "metadata": {},
   "outputs": [
    {
     "name": "stdout",
     "output_type": "stream",
     "text": [
      "Error\n"
     ]
    }
   ],
   "source": [
    "try:  \n",
    "    fileptr = open(\"file.txt\",\"r\")    \n",
    "    try:  \n",
    "        fileptr.write(\"Hi I am good\")  \n",
    "    finally:  \n",
    "        fileptr.close()  \n",
    "        print(\"file closed\")  \n",
    "except:  \n",
    "    print(\"Error\")  "
   ]
  },
  {
   "cell_type": "markdown",
   "metadata": {},
   "source": [
    "## Multiple Except clause"
   ]
  },
  {
   "cell_type": "code",
   "execution_count": 8,
   "metadata": {},
   "outputs": [],
   "source": [
    "try:\n",
    "   # do something\n",
    "   pass\n",
    "except ValueError:\n",
    "   # handle ValueError exception\n",
    "   pass\n",
    "except (TypeError, ZeroDivisionError):\n",
    "   # handle multiple exceptions\n",
    "   # TypeError and ZeroDivisionError\n",
    "    pass\n",
    "except:\n",
    "   # handle all other exceptions\n",
    "   pass"
   ]
  },
  {
   "cell_type": "markdown",
   "metadata": {},
   "source": [
    "## Exception using Raise"
   ]
  },
  {
   "cell_type": "code",
   "execution_count": 9,
   "metadata": {},
   "outputs": [
    {
     "name": "stdout",
     "output_type": "stream",
     "text": [
      "Enter a?10\n",
      "Enter b?0\n",
      "The value of b can't be 0\n"
     ]
    }
   ],
   "source": [
    "try:  \n",
    "    a = int(input(\"Enter a?\"))  \n",
    "    b = int(input(\"Enter b?\"))  \n",
    "    if b is 0:  \n",
    "        raise ArithmeticError;  \n",
    "    else:  \n",
    "        print(\"a/b = \",a/b)  \n",
    "except ArithmeticError:  \n",
    "    print(\"The value of b can't be 0\")  "
   ]
  },
  {
   "cell_type": "markdown",
   "metadata": {},
   "source": [
    "## Type of Errors"
   ]
  },
  {
   "cell_type": "code",
   "execution_count": null,
   "metadata": {},
   "outputs": [],
   "source": [
    "# import module sys to get the type of exception\n",
    "import sys\n",
    "\n",
    "randomList = ['a', 0, 2]\n",
    "\n",
    "for entry in randomList:\n",
    "    try:\n",
    "        print(\"The entry is\", entry)\n",
    "        r = 1/int(entry)\n",
    "        break\n",
    "    except:\n",
    "        print(\"Oops!\",sys.exc_info()[0],\"occured.\")\n",
    "        print(\"Next entry.\")\n",
    "        print()\n",
    "print(\"The reciprocal of\",entry,\"is\",r)"
   ]
  },
  {
   "cell_type": "markdown",
   "metadata": {},
   "source": [
    "## Try in Classes "
   ]
  },
  {
   "cell_type": "code",
   "execution_count": 10,
   "metadata": {},
   "outputs": [
    {
     "name": "stdout",
     "output_type": "stream",
     "text": [
      "Received error: 2000\n"
     ]
    }
   ],
   "source": [
    "class ErrorInCode(Exception):    \n",
    "    def __init__(self, data):    \n",
    "        self.data = data    \n",
    "    def __str__(self):    \n",
    "        return repr(self.data)    \n",
    "    \n",
    "try:    \n",
    "    raise ErrorInCode(2000)    \n",
    "except ErrorInCode as ae:    \n",
    "    print(\"Received error:\", ae.data)"
   ]
  },
  {
   "cell_type": "markdown",
   "metadata": {},
   "source": [
    "## User Defined Exceptions"
   ]
  },
  {
   "cell_type": "code",
   "execution_count": null,
   "metadata": {},
   "outputs": [],
   "source": [
    "# define Python user-defined exceptions\n",
    "class Error(Exception):\n",
    "    \"\"\"Base class for other exceptions\"\"\"\n",
    "    pass\n",
    "class ValueTooSmallError(Error):\n",
    "    \"\"\"Raised when the input value is too small\"\"\"\n",
    "    pass\n",
    "class ValueTooLargeError(Error):\n",
    "    \"\"\"Raised when the input value is too large\"\"\"\n",
    "    pass\n",
    "# our main program\n",
    "# user guesses a number until he/she gets it right\n",
    "# you need to guess this number\n",
    "number = 10\n",
    "while True:\n",
    "    try:\n",
    "        i_num = int(input(\"Enter a number: \"))\n",
    "        if i_num < number:\n",
    "            raise ValueTooSmallError\n",
    "        elif i_num > number:\n",
    "            raise ValueTooLargeError\n",
    "        break\n",
    "    except ValueTooSmallError:\n",
    "        print(\"This value is too small, try again!\")\n",
    "        print()\n",
    "    except ValueTooLargeError:\n",
    "        print(\"This value is too large, try again!\")\n",
    "        print()\n",
    "print(\"Congratulations! You guessed it correctly.\")"
   ]
  },
  {
   "cell_type": "markdown",
   "metadata": {},
   "source": [
    " ## Advances"
   ]
  },
  {
   "cell_type": "code",
   "execution_count": null,
   "metadata": {},
   "outputs": [],
   "source": [
    "import pdb\n",
    "\n",
    "def our_function():\n",
    "    bad_idea = 3 + \"4\"\n",
    "\n",
    "pdb.run('our_function()')"
   ]
  },
  {
   "cell_type": "code",
   "execution_count": null,
   "metadata": {},
   "outputs": [],
   "source": []
  },
  {
   "cell_type": "markdown",
   "metadata": {},
   "source": [
    "## Summing Up\n",
    "## After seeing the difference between syntax errors and exceptions, you learned about various ways to raise, catch, and handle exceptions in Python. In this article, you saw the following options:\n",
    "\n",
    "### raise allows you to throw an exception at any time.\n",
    "### assert enables you to verify if a certain condition is met and throw an exception if it isn’t.\n",
    "### In the try clause, all statements are executed until an exception is encountered.\n",
    "### except is used to catch and handle the exception(s) that are encountered in the try clause.\n",
    "### else lets you code sections that should run only when no exceptions are encountered in the try clause.\n",
    "### finally enables you to execute sections of code that should always run, with or without any previously encountered exceptions."
   ]
  },
  {
   "cell_type": "markdown",
   "metadata": {},
   "source": [
    "## This has been a whirlwind tour of exception handling basics in Python. Hopefully, we covered enough to make exceptions feel less terrifying. Remember, exceptions are your friend: they are tools of communication that protect you and your users from critical damage. By understanding how to read the syntax of exceptions we hope that they start to feel more friendly and less frustrating, they are a map to guide you to solutions, not impediments to success!"
   ]
  },
  {
   "cell_type": "code",
   "execution_count": null,
   "metadata": {},
   "outputs": [],
   "source": []
  }
 ],
 "metadata": {
  "kernelspec": {
   "display_name": "Python 3",
   "language": "python",
   "name": "python3"
  },
  "language_info": {
   "codemirror_mode": {
    "name": "ipython",
    "version": 3
   },
   "file_extension": ".py",
   "mimetype": "text/x-python",
   "name": "python",
   "nbconvert_exporter": "python",
   "pygments_lexer": "ipython3",
   "version": "3.7.3"
  }
 },
 "nbformat": 4,
 "nbformat_minor": 2
}
