{
 "cells": [
  {
   "cell_type": "markdown",
   "metadata": {},
   "source": [
    "## 1.Write a Python script to display the various Date Time formats -Go to the editor a) Current date and time b) Current year c) Month of year d) Week number of the year e) Weekday of the week f) Day of year g) Day of the month h) Day of week."
   ]
  },
  {
   "cell_type": "markdown",
   "metadata": {},
   "source": [
    "## Q.1)a)"
   ]
  },
  {
   "cell_type": "code",
   "execution_count": 2,
   "metadata": {},
   "outputs": [
    {
     "name": "stdout",
     "output_type": "stream",
     "text": [
      "Current date and time : \n",
      "2019-12-08 15:38:02\n"
     ]
    }
   ],
   "source": [
    "import datetime\n",
    "now = datetime.datetime.now()\n",
    "print (\"Current date and time : \")\n",
    "print (now.strftime(\"%Y-%m-%d %H:%M:%S\"))"
   ]
  },
  {
   "cell_type": "markdown",
   "metadata": {},
   "source": [
    "## Q.1)b)"
   ]
  },
  {
   "cell_type": "code",
   "execution_count": 4,
   "metadata": {},
   "outputs": [
    {
     "name": "stdout",
     "output_type": "stream",
     "text": [
      "Current Year :\n",
      "2019\n"
     ]
    }
   ],
   "source": [
    "import datetime\n",
    "now=datetime.datetime.now()\n",
    "print(\"Current Year :\")\n",
    "print(now.strftime(\"%Y\"))"
   ]
  },
  {
   "cell_type": "markdown",
   "metadata": {},
   "source": [
    "## Q.1)c)"
   ]
  },
  {
   "cell_type": "code",
   "execution_count": 5,
   "metadata": {},
   "outputs": [
    {
     "name": "stdout",
     "output_type": "stream",
     "text": [
      "Current Month :\n",
      "12\n"
     ]
    }
   ],
   "source": [
    "import datetime\n",
    "now=datetime.datetime.now()\n",
    "print(\"Current Month :\")\n",
    "print(now.strftime(\"%m\"))"
   ]
  },
  {
   "cell_type": "markdown",
   "metadata": {},
   "source": [
    "## Q.1)d)"
   ]
  },
  {
   "cell_type": "code",
   "execution_count": 6,
   "metadata": {},
   "outputs": [
    {
     "name": "stdout",
     "output_type": "stream",
     "text": [
      "48\n"
     ]
    }
   ],
   "source": [
    "import datetime\n",
    "\n",
    "x = datetime.datetime(2019,12,8)\n",
    "\n",
    "print(x.strftime(\"%W\")) "
   ]
  },
  {
   "cell_type": "markdown",
   "metadata": {},
   "source": [
    "## Q.1)e)"
   ]
  },
  {
   "cell_type": "code",
   "execution_count": 7,
   "metadata": {},
   "outputs": [
    {
     "name": "stdout",
     "output_type": "stream",
     "text": [
      "0\n"
     ]
    }
   ],
   "source": [
    "import datetime\n",
    "\n",
    "x = datetime.datetime(2019,12,8)\n",
    "\n",
    "print(x.strftime(\"%w\")) "
   ]
  },
  {
   "cell_type": "markdown",
   "metadata": {},
   "source": [
    "## Q.1)f)"
   ]
  },
  {
   "cell_type": "code",
   "execution_count": 8,
   "metadata": {},
   "outputs": [
    {
     "name": "stdout",
     "output_type": "stream",
     "text": [
      "342\n"
     ]
    }
   ],
   "source": [
    "import datetime\n",
    "\n",
    "x = datetime.datetime(2019,12,8)\n",
    "\n",
    "print(x.strftime(\"%j\")) "
   ]
  },
  {
   "cell_type": "markdown",
   "metadata": {},
   "source": [
    "## Q.1)g)"
   ]
  },
  {
   "cell_type": "code",
   "execution_count": 9,
   "metadata": {},
   "outputs": [
    {
     "name": "stdout",
     "output_type": "stream",
     "text": [
      "08\n"
     ]
    }
   ],
   "source": [
    "import datetime\n",
    "\n",
    "x = datetime.datetime(2019,12,8)\n",
    "\n",
    "print(x.strftime(\"%d\")) "
   ]
  },
  {
   "cell_type": "markdown",
   "metadata": {},
   "source": [
    "## Q.1)h)"
   ]
  },
  {
   "cell_type": "code",
   "execution_count": 12,
   "metadata": {},
   "outputs": [
    {
     "name": "stdout",
     "output_type": "stream",
     "text": [
      "Thursday\n"
     ]
    }
   ],
   "source": [
    "import datetime\n",
    "\n",
    "x = datetime.datetime(2019,12,26)\n",
    "\n",
    "print(x.strftime(\"%A\")) "
   ]
  },
  {
   "cell_type": "markdown",
   "metadata": {},
   "source": [
    "## Q.2)Write a Python program to determine whether a given year is a leap year."
   ]
  },
  {
   "cell_type": "code",
   "execution_count": 34,
   "metadata": {},
   "outputs": [
    {
     "name": "stdout",
     "output_type": "stream",
     "text": [
      "False\n"
     ]
    }
   ],
   "source": [
    "print(calendar.isleap(2019))"
   ]
  },
  {
   "cell_type": "markdown",
   "metadata": {},
   "source": [
    "## Q.3)Write a Python program to convert a string to datetime. Sample String : Jan 1 2014 2:43PM Expected Output : 2014-07-01 14:43:00"
   ]
  },
  {
   "cell_type": "code",
   "execution_count": 1,
   "metadata": {},
   "outputs": [
    {
     "name": "stdout",
     "output_type": "stream",
     "text": [
      "2014-07-01 14:43:00\n"
     ]
    }
   ],
   "source": [
    "from datetime import datetime\n",
    "date_format = datetime.strptime('Jul 1 2014 2:43PM', '%b %d %Y %I:%M%p')\n",
    "print(date_format)"
   ]
  },
  {
   "cell_type": "markdown",
   "metadata": {},
   "source": [
    "## Q.4)Write a Python program to get the current time in Python. Sample Format : 13:19:49.078205"
   ]
  },
  {
   "cell_type": "code",
   "execution_count": 3,
   "metadata": {},
   "outputs": [
    {
     "name": "stdout",
     "output_type": "stream",
     "text": [
      "Current date and time : \n",
      "2019-12-26 08:53:09\n"
     ]
    }
   ],
   "source": [
    "import datetime\n",
    "Current_time = datetime.datetime.now()\n",
    "print (\"Current date and time : \")\n",
    "print (Current_time.strftime(\"%Y-%m-%d %H:%M:%S\"))"
   ]
  },
  {
   "cell_type": "markdown",
   "metadata": {},
   "source": [
    "## Q.5)Write a Python program to subtract five days from current date. Sample Date : Current Date : 2015-06-22 5 days before Current Date : 2015-06-17"
   ]
  },
  {
   "cell_type": "code",
   "execution_count": 4,
   "metadata": {},
   "outputs": [
    {
     "name": "stdout",
     "output_type": "stream",
     "text": [
      "Current Date : 2019-12-26\n",
      "5 days before Current Date : 2019-12-21\n"
     ]
    }
   ],
   "source": [
    "from datetime import date,timedelta\n",
    "dt = date.today() - timedelta(5)\n",
    "print('Current Date :',date.today())\n",
    "print('5 days before Current Date :',dt)"
   ]
  },
  {
   "cell_type": "markdown",
   "metadata": {},
   "source": [
    "## Q.6)Write a Python program to convert unix timestamp string to readable date."
   ]
  },
  {
   "cell_type": "code",
   "execution_count": 5,
   "metadata": {},
   "outputs": [
    {
     "name": "stdout",
     "output_type": "stream",
     "text": [
      "2017-07-14 08:10:00\n"
     ]
    }
   ],
   "source": [
    "import datetime\n",
    "timestamp = datetime.datetime.fromtimestamp(1500000000)\n",
    "print(timestamp.strftime('%Y-%m-%d %H:%M:%S'))"
   ]
  },
  {
   "cell_type": "markdown",
   "metadata": {},
   "source": [
    "## Q.7)Write a Python program to print yesterday, today, tomorrow."
   ]
  },
  {
   "cell_type": "code",
   "execution_count": 6,
   "metadata": {},
   "outputs": [
    {
     "name": "stdout",
     "output_type": "stream",
     "text": [
      "Yesterday: 2019-12-25 \n",
      "Today    : 2019-12-26 \n",
      "Tomorrow : 2019-12-27 \n"
     ]
    }
   ],
   "source": [
    "import datetime\n",
    " \n",
    "today = datetime.date.today()\n",
    "tomorrow = today + datetime.timedelta(days=1)\n",
    "yesterday = today - datetime.timedelta(days=1)\n",
    " \n",
    "print('Yesterday: %s ' % (yesterday) )\n",
    "print('Today    : %s ' % (today) )\n",
    "print('Tomorrow : %s ' % (tomorrow) )"
   ]
  },
  {
   "cell_type": "markdown",
   "metadata": {},
   "source": [
    "## Q.8)Write a Python program to convert the date to datetime (midnight of the date) in Python."
   ]
  },
  {
   "cell_type": "code",
   "execution_count": 7,
   "metadata": {},
   "outputs": [
    {
     "name": "stdout",
     "output_type": "stream",
     "text": [
      "2019-12-26 00:00:00\n"
     ]
    }
   ],
   "source": [
    "from datetime import date\n",
    "from datetime import datetime\n",
    "dt = date.today()\n",
    "print(datetime.combine(dt, datetime.min.time()))"
   ]
  },
  {
   "cell_type": "markdown",
   "metadata": {},
   "source": [
    "## Q.9)Write a Python program to print next 5 days starting from today."
   ]
  },
  {
   "cell_type": "code",
   "execution_count": 8,
   "metadata": {},
   "outputs": [
    {
     "name": "stdout",
     "output_type": "stream",
     "text": [
      "2019-12-26 10:06:38.594297\n",
      "2019-12-27 10:06:38.594297\n",
      "2019-12-28 10:06:38.594297\n",
      "2019-12-29 10:06:38.594297\n",
      "2019-12-30 10:06:38.594297\n"
     ]
    }
   ],
   "source": [
    "import datetime\n",
    "base = datetime.datetime.today()\n",
    "for x in range(0, 5):\n",
    "    print(base + datetime.timedelta(days=x))"
   ]
  },
  {
   "cell_type": "markdown",
   "metadata": {},
   "source": [
    "## Q.10)Write a Python program to add 5 seconds with the current time."
   ]
  },
  {
   "cell_type": "code",
   "execution_count": 11,
   "metadata": {},
   "outputs": [
    {
     "name": "stdout",
     "output_type": "stream",
     "text": [
      "10:08:37.998245\n",
      "10:08:42.998245\n"
     ]
    }
   ],
   "source": [
    "import datetime\n",
    "x= datetime.datetime.now()\n",
    "y = x + datetime.timedelta(0,5)\n",
    "print(x.time())\n",
    "print(y.time())"
   ]
  },
  {
   "cell_type": "markdown",
   "metadata": {},
   "source": [
    "## Q.11)Write a Python program to convert Year/Month/Day to Day of Year in Python."
   ]
  },
  {
   "cell_type": "code",
   "execution_count": 13,
   "metadata": {},
   "outputs": [
    {
     "name": "stdout",
     "output_type": "stream",
     "text": [
      "360\n"
     ]
    }
   ],
   "source": [
    "import datetime\n",
    "today = datetime.datetime.now()\n",
    "day_of_year = (today - datetime.datetime(today.year, 1, 1)).days + 1\n",
    "print(day_of_year)"
   ]
  },
  {
   "cell_type": "markdown",
   "metadata": {},
   "source": [
    "## Q.12)Write a Python program to get current time in milliseconds in Python."
   ]
  },
  {
   "cell_type": "code",
   "execution_count": 14,
   "metadata": {},
   "outputs": [
    {
     "name": "stdout",
     "output_type": "stream",
     "text": [
      "1577335654528\n"
     ]
    }
   ],
   "source": [
    "import time\n",
    "milli_sec = int(round(time.time() * 1000))\n",
    "print(milli_sec)"
   ]
  },
  {
   "cell_type": "markdown",
   "metadata": {},
   "source": [
    "## Q.13)Write a Python program to get week number."
   ]
  },
  {
   "cell_type": "code",
   "execution_count": 21,
   "metadata": {},
   "outputs": [
    {
     "name": "stdout",
     "output_type": "stream",
     "text": [
      "51\n"
     ]
    }
   ],
   "source": [
    "import datetime\n",
    "\n",
    "x = datetime.datetime(2019,12,26)\n",
    "\n",
    "print(x.strftime(\"%W\"))"
   ]
  },
  {
   "cell_type": "markdown",
   "metadata": {},
   "source": [
    "## Q.14)Write a Python program to find the date of the first Monday of a given week."
   ]
  },
  {
   "cell_type": "code",
   "execution_count": 26,
   "metadata": {},
   "outputs": [
    {
     "name": "stdout",
     "output_type": "stream",
     "text": [
      "Mon Dec 23 00:00:00 2019\n"
     ]
    }
   ],
   "source": [
    "import time\n",
    "print(time.asctime(time.strptime('2019 51 1', '%Y %W %w')))"
   ]
  },
  {
   "cell_type": "markdown",
   "metadata": {},
   "source": [
    "## Q.15)Write a Python program to select all the Sundays of a specified year."
   ]
  },
  {
   "cell_type": "code",
   "execution_count": 32,
   "metadata": {},
   "outputs": [
    {
     "name": "stdout",
     "output_type": "stream",
     "text": [
      "2010-01-03\n",
      "2010-01-10\n",
      "2010-01-17\n",
      "2010-01-24\n",
      "2010-01-31\n",
      "2010-02-07\n",
      "2010-02-14\n",
      "2010-02-21\n",
      "2010-02-28\n",
      "2010-03-07\n",
      "2010-03-14\n",
      "2010-03-21\n",
      "2010-03-28\n",
      "2010-04-04\n",
      "2010-04-11\n",
      "2010-04-18\n",
      "2010-04-25\n",
      "2010-05-02\n",
      "2010-05-09\n",
      "2010-05-16\n",
      "2010-05-23\n",
      "2010-05-30\n",
      "2010-06-06\n",
      "2010-06-13\n",
      "2010-06-20\n",
      "2010-06-27\n",
      "2010-07-04\n",
      "2010-07-11\n",
      "2010-07-18\n",
      "2010-07-25\n",
      "2010-08-01\n",
      "2010-08-08\n",
      "2010-08-15\n",
      "2010-08-22\n",
      "2010-08-29\n",
      "2010-09-05\n",
      "2010-09-12\n",
      "2010-09-19\n",
      "2010-09-26\n",
      "2010-10-03\n",
      "2010-10-10\n",
      "2010-10-17\n",
      "2010-10-24\n",
      "2010-10-31\n",
      "2010-11-07\n",
      "2010-11-14\n",
      "2010-11-21\n",
      "2010-11-28\n",
      "2010-12-05\n",
      "2010-12-12\n",
      "2010-12-19\n",
      "2010-12-26\n"
     ]
    }
   ],
   "source": [
    "from datetime import date, timedelta\n",
    "def allsundays(year):\n",
    "    d = date(year, 1, 1)                    # January 1st\n",
    "    d += timedelta(days = 6 - d.weekday())  # First Sunday\n",
    "    while d.year == year:\n",
    "        yield d\n",
    "        d += timedelta(days = 7)\n",
    "\n",
    "for d in allsundays(2010):\n",
    "    print(d)"
   ]
  },
  {
   "cell_type": "markdown",
   "metadata": {},
   "source": [
    "## Q.16)Write a Python program to add year(s) with a given date and display the new date. Sample Data : (addYears is the user defined function name) print(addYears(datetime.date(2015,1,1), -1)) print(addYears(datetime.date(2015,1,1), 0)) print(addYears(datetime.date(2015,1,1), 2)) print(addYears(datetime.date(2000,2,29),1))"
   ]
  },
  {
   "cell_type": "code",
   "execution_count": 33,
   "metadata": {},
   "outputs": [
    {
     "name": "stdout",
     "output_type": "stream",
     "text": [
      "2014-01-01\n",
      "2015-01-01\n",
      "2017-01-01\n",
      "2001-03-01\n"
     ]
    }
   ],
   "source": [
    "import datetime\n",
    "from datetime import date\n",
    "def addYears(d, years):\n",
    "    try:\n",
    "#Return same day of the current year        \n",
    "        return d.replace(year = d.year + years)\n",
    "    except ValueError:\n",
    "#If not same day, it will return other, i.e.  February 29 to March 1 etc.        \n",
    "        return d + (date(d.year + years, 1, 1) - date(d.year, 1, 1))\n",
    "\n",
    "print(addYears(datetime.date(2015,1,1), -1))\n",
    "print(addYears(datetime.date(2015,1,1), 0))\n",
    "print(addYears(datetime.date(2015,1,1), 2))\n",
    "print(addYears(datetime.date(2000,2,29),1))"
   ]
  },
  {
   "cell_type": "markdown",
   "metadata": {},
   "source": [
    "## Q.17)Write a Python program to drop microseconds from datetime."
   ]
  },
  {
   "cell_type": "code",
   "execution_count": 37,
   "metadata": {},
   "outputs": [
    {
     "name": "stdout",
     "output_type": "stream",
     "text": [
      "\n",
      "2019-12-26 11:20:36\n",
      "\n"
     ]
    }
   ],
   "source": [
    "import datetime\n",
    "dt = datetime.datetime.today().replace(microsecond=0)\n",
    "print()\n",
    "print(dt)\n",
    "print()"
   ]
  },
  {
   "cell_type": "markdown",
   "metadata": {},
   "source": [
    "## Q.18)Write a Python program to get days between two dates."
   ]
  },
  {
   "cell_type": "code",
   "execution_count": 39,
   "metadata": {},
   "outputs": [
    {
     "name": "stdout",
     "output_type": "stream",
     "text": [
      "1826\n"
     ]
    }
   ],
   "source": [
    "from datetime import date\n",
    "f_date = date(2014, 7, 11)\n",
    "l_date = date(2019, 7, 11)\n",
    "delta = l_date - f_date\n",
    "print(delta.days)"
   ]
  },
  {
   "cell_type": "markdown",
   "metadata": {},
   "source": [
    "## Q.19)Write a Python program to get the date of the last Tuesday."
   ]
  },
  {
   "cell_type": "code",
   "execution_count": 4,
   "metadata": {},
   "outputs": [
    {
     "name": "stdout",
     "output_type": "stream",
     "text": [
      "Today:  2019-12-26\n",
      "Closest Tuesday:  2019-12-24\n"
     ]
    }
   ],
   "source": [
    "import datetime\n",
    "def find_closest_Tuesday(date):\n",
    "    TUESDAY = 2\n",
    "    year, week, day  = date.isocalendar()\n",
    "    delta = datetime.timedelta(days=TUESDAY-day)\n",
    "    return date + delta\n",
    "today = datetime.date.today()\n",
    "print('Today: ', today)\n",
    "print('Closest Tuesday: ', find_closest_Tuesday(today))"
   ]
  },
  {
   "cell_type": "markdown",
   "metadata": {},
   "source": [
    "## Q.20)Write a Python program to test the third Tuesday of a month."
   ]
  },
  {
   "cell_type": "code",
   "execution_count": 9,
   "metadata": {},
   "outputs": [
    {
     "name": "stdout",
     "output_type": "stream",
     "text": [
      "True\n"
     ]
    }
   ],
   "source": [
    "from datetime import datetime \n",
    "def is_third_Tuesday(s):\n",
    "    d = datetime.strptime(s, '%b %d, %Y')\n",
    "    return d.weekday() == 1 and 15 <= d.day <= 21\n",
    "print(is_third_Tuesday('Dec 17, 2019'))"
   ]
  },
  {
   "cell_type": "markdown",
   "metadata": {},
   "source": [
    "## Q.21)Write a Python program to get the last day of a specified year and month."
   ]
  },
  {
   "cell_type": "code",
   "execution_count": 18,
   "metadata": {},
   "outputs": [
    {
     "name": "stdout",
     "output_type": "stream",
     "text": [
      "31\n"
     ]
    }
   ],
   "source": [
    "import calendar\n",
    "year = 2019\n",
    "month = 3\n",
    "print(calendar.monthrange(year,month)[1])"
   ]
  },
  {
   "cell_type": "markdown",
   "metadata": {},
   "source": [
    "## Q.22)Write a Python program to get the number of days of a given month and year."
   ]
  },
  {
   "cell_type": "code",
   "execution_count": 19,
   "metadata": {},
   "outputs": [
    {
     "name": "stdout",
     "output_type": "stream",
     "text": [
      "(0, 29)\n"
     ]
    }
   ],
   "source": [
    "from calendar import monthrange\n",
    "year = 2016\n",
    "month = 2\n",
    "print(monthrange(year, month))"
   ]
  },
  {
   "cell_type": "markdown",
   "metadata": {},
   "source": [
    "## Q.23)Write a Python program to add a month with a specified date."
   ]
  },
  {
   "cell_type": "code",
   "execution_count": 23,
   "metadata": {},
   "outputs": [
    {
     "name": "stdout",
     "output_type": "stream",
     "text": [
      "2015-01-25\n"
     ]
    }
   ],
   "source": [
    "from datetime import date, timedelta\n",
    "import calendar\n",
    "start_date = date(2014, 12, 25)\n",
    "days_in_month = calendar.monthrange(start_date.year, start_date.month)[1]\n",
    "print(start_date + timedelta(days=days_in_month))"
   ]
  },
  {
   "cell_type": "markdown",
   "metadata": {},
   "source": [
    "## Q.24)Write a Python program to count the number of Monday of the 1st day of the month from 2015 to 2016."
   ]
  },
  {
   "cell_type": "code",
   "execution_count": 24,
   "metadata": {},
   "outputs": [
    {
     "name": "stdout",
     "output_type": "stream",
     "text": [
      "3\n"
     ]
    }
   ],
   "source": [
    "import datetime\n",
    "from datetime import datetime\n",
    "monday1 = 0\n",
    "months = range(1,13)\n",
    "for year in range(2015, 2017):\n",
    "    for month in months:\n",
    "        if datetime(year, month, 1).weekday() == 0:\n",
    "            monday1 += 1\n",
    "print(monday1)"
   ]
  },
  {
   "cell_type": "markdown",
   "metadata": {},
   "source": [
    "## Q.25)Write a Python program to print a string five times, delay three seconds."
   ]
  },
  {
   "cell_type": "code",
   "execution_count": 26,
   "metadata": {},
   "outputs": [
    {
     "name": "stdout",
     "output_type": "stream",
     "text": [
      "\n",
      "CHINMAY will print five  times, delay for three seconds.\n",
      "CHINMAY\n",
      "CHINMAY\n",
      "CHINMAY\n",
      "CHINMAY\n",
      "CHINMAY\n"
     ]
    }
   ],
   "source": [
    "import time \n",
    "x=0\n",
    "print(\"\\nCHINMAY will print five  times, delay for three seconds.\")\n",
    "while x<5:\n",
    "    print(\"CHINMAY\")\n",
    "    time.sleep(3)\n",
    "    x=x+1"
   ]
  },
  {
   "cell_type": "markdown",
   "metadata": {},
   "source": [
    "## Q.26)Write a Python program calculates the date six months from the current date using the datetime module."
   ]
  },
  {
   "cell_type": "code",
   "execution_count": 27,
   "metadata": {},
   "outputs": [
    {
     "name": "stdout",
     "output_type": "stream",
     "text": [
      "2020-06-25\n"
     ]
    }
   ],
   "source": [
    "import datetime\n",
    "print((datetime.date.today() + datetime.timedelta(6*365/12)).isoformat())"
   ]
  },
  {
   "cell_type": "markdown",
   "metadata": {},
   "source": [
    "## Q.27)Write a Python program to create 12 fixed dates from a specified date over a given period. The difference between two dates will be 20."
   ]
  },
  {
   "cell_type": "code",
   "execution_count": 28,
   "metadata": {},
   "outputs": [
    {
     "name": "stdout",
     "output_type": "stream",
     "text": [
      "Starting Date: 2016-08-01\n",
      "Next 12 days :\n",
      "2016-08-21\n",
      "2016-09-10\n",
      "2016-09-30\n",
      "2016-10-20\n",
      "2016-11-09\n",
      "2016-11-29\n",
      "2016-12-19\n",
      "2017-01-08\n",
      "2017-01-28\n",
      "2017-02-17\n",
      "2017-03-09\n",
      "2017-03-29\n"
     ]
    }
   ],
   "source": [
    "import datetime\n",
    "def every_20_days(date):\n",
    "    print('Starting Date: {d}'.format(d=date))\n",
    "    print(\"Next 12 days :\")\n",
    "    for _ in range(12):\n",
    "        date=date+datetime.timedelta(days=20)\n",
    "        print('{d}'.format(d=date))\n",
    "\n",
    "dt = datetime.date(2016,8,1)\n",
    "every_20_days(dt)"
   ]
  },
  {
   "cell_type": "markdown",
   "metadata": {},
   "source": [
    "## Q.28)Write a Python program to get the dates 30 days before and after from the current date."
   ]
  },
  {
   "cell_type": "code",
   "execution_count": 29,
   "metadata": {},
   "outputs": [
    {
     "name": "stdout",
     "output_type": "stream",
     "text": [
      "\n",
      "Current Date:  2019-12-26\n",
      "30 days before current date:  2019-11-26\n",
      "30 days after current date :  2020-01-25\n"
     ]
    }
   ],
   "source": [
    "from datetime import date, timedelta\n",
    "\n",
    "current_date = date.today().isoformat()   \n",
    "days_before = (date.today()-timedelta(days=30)).isoformat()\n",
    "days_after = (date.today()+timedelta(days=30)).isoformat()  \n",
    "\n",
    "print(\"\\nCurrent Date: \",current_date)\n",
    "print(\"30 days before current date: \",days_before)\n",
    "print(\"30 days after current date : \",days_after)"
   ]
  },
  {
   "cell_type": "markdown",
   "metadata": {},
   "source": [
    "## Q.29)Write a Python program to get the GMT and local current time."
   ]
  },
  {
   "cell_type": "code",
   "execution_count": 30,
   "metadata": {},
   "outputs": [
    {
     "name": "stdout",
     "output_type": "stream",
     "text": [
      "\n",
      "GMT: Thu, 26 Dec 2019 10:09:15 AM India Standard Time\n",
      "Local: Thu, 26 Dec 2019 03:39:15 PM India Standard Time\n",
      "\n"
     ]
    }
   ],
   "source": [
    "from time import gmtime, strftime\n",
    "import time\n",
    "print(\"\\nGMT: \"+time.strftime(\"%a, %d %b %Y %I:%M:%S %p %Z\", time.gmtime()))\n",
    "print(\"Local: \"+strftime(\"%a, %d %b %Y %I:%M:%S %p %Z\\n\"))"
   ]
  },
  {
   "cell_type": "markdown",
   "metadata": {},
   "source": [
    "## Q.30)Write a Python program to convert a date to the timestamp."
   ]
  },
  {
   "cell_type": "code",
   "execution_count": 31,
   "metadata": {},
   "outputs": [
    {
     "name": "stdout",
     "output_type": "stream",
     "text": [
      "\n",
      "1475260200.0\n",
      "\n"
     ]
    }
   ],
   "source": [
    "import time\n",
    "import datetime\n",
    "s = \"01/10/2016\"\n",
    "print()\n",
    "print(time.mktime(datetime.datetime.strptime(s, \"%d/%m/%Y\").timetuple()))\n",
    "print()"
   ]
  },
  {
   "cell_type": "markdown",
   "metadata": {},
   "source": [
    "## Q.31)Write a Python program to convert a string date to the timestamp."
   ]
  },
  {
   "cell_type": "code",
   "execution_count": 32,
   "metadata": {},
   "outputs": [
    {
     "name": "stdout",
     "output_type": "stream",
     "text": [
      "\n",
      "1475260200.0\n",
      "\n"
     ]
    }
   ],
   "source": [
    "import time\n",
    "import datetime\n",
    "s = \"01/10/2016\"\n",
    "print()\n",
    "print(time.mktime(datetime.datetime.strptime(s, \"%d/%m/%Y\").timetuple()))\n",
    "print()"
   ]
  },
  {
   "cell_type": "markdown",
   "metadata": {},
   "source": [
    "## Q.32)Write a Python program to calculate a number of days between two dates."
   ]
  },
  {
   "cell_type": "code",
   "execution_count": 33,
   "metadata": {},
   "outputs": [
    {
     "name": "stdout",
     "output_type": "stream",
     "text": [
      "9\n"
     ]
    }
   ],
   "source": [
    "from datetime import date\n",
    "f_date = date(2014, 7, 2)\n",
    "l_date = date(2014, 7, 11)\n",
    "delta = l_date - f_date\n",
    "print(delta.days)"
   ]
  },
  {
   "cell_type": "markdown",
   "metadata": {},
   "source": [
    "## Q.33)Write a Python program to calculate no of days between two datetimes."
   ]
  },
  {
   "cell_type": "code",
   "execution_count": 61,
   "metadata": {},
   "outputs": [
    {
     "name": "stdout",
     "output_type": "stream",
     "text": [
      "the difference between two given dates is 8 days and 22 HRS 25 MINS \n"
     ]
    }
   ],
   "source": [
    "from datetime import datetime\n",
    "f_date = datetime(2014, 7, 2 , 5 , 15)\n",
    "l_date = datetime(2014, 7, 11 , 3 , 40)\n",
    "delta = l_date - f_date\n",
    "print('the difference between two given dates is {} days and {} HRS {} MINS '.format(delta.days,int((delta.seconds/60)/60),int(((delta.seconds/60/60)-int(delta.seconds/60/60))*60)))"
   ]
  },
  {
   "cell_type": "markdown",
   "metadata": {},
   "source": [
    "## Q.34)Write a Python program to display the date and time in a human-friendly string."
   ]
  },
  {
   "cell_type": "code",
   "execution_count": 62,
   "metadata": {},
   "outputs": [
    {
     "name": "stdout",
     "output_type": "stream",
     "text": [
      "\n",
      "Thu Dec 26 16:20:10 2019\n",
      "\n"
     ]
    }
   ],
   "source": [
    "import time\n",
    "print()\n",
    "print(time.ctime())\n",
    "print()"
   ]
  },
  {
   "cell_type": "markdown",
   "metadata": {},
   "source": [
    "## Q.35)Write a Python program to convert a date to Unix timestamp."
   ]
  },
  {
   "cell_type": "code",
   "execution_count": 63,
   "metadata": {},
   "outputs": [
    {
     "name": "stdout",
     "output_type": "stream",
     "text": [
      "\n",
      "Unix Timestamp:  1456422780.0\n",
      "\n"
     ]
    }
   ],
   "source": [
    "import datetime\n",
    "import time\n",
    "dt = datetime.datetime(2016, 2, 25, 23, 23)\n",
    "print()\n",
    "print(\"Unix Timestamp: \",(time.mktime(dt.timetuple())))\n",
    "print()"
   ]
  },
  {
   "cell_type": "markdown",
   "metadata": {},
   "source": [
    "## Q.36)Write a Python program to calculate two date difference in seconds."
   ]
  },
  {
   "cell_type": "code",
   "execution_count": 66,
   "metadata": {},
   "outputs": [
    {
     "data": {
      "text/plain": [
       "86400.0"
      ]
     },
     "execution_count": 66,
     "metadata": {},
     "output_type": "execute_result"
    }
   ],
   "source": [
    "import datetime as dt\n",
    "\n",
    "a = dt.datetime(2013,12,30,23,59,59)\n",
    "b = dt.datetime(2013,12,31,23,59,59)\n",
    "\n",
    "(b-a).total_seconds()"
   ]
  },
  {
   "cell_type": "markdown",
   "metadata": {},
   "source": [
    "## Q.37)Write a Python program to convert two date difference in days, hours, minutes, seconds."
   ]
  },
  {
   "cell_type": "code",
   "execution_count": 69,
   "metadata": {},
   "outputs": [
    {
     "name": "stdout",
     "output_type": "stream",
     "text": [
      "The difference is 1 year 1 month 29 days 19 hours 52 minutes\n"
     ]
    }
   ],
   "source": [
    "import datetime\n",
    "from dateutil.relativedelta import relativedelta\n",
    "\n",
    "a = '2014-05-06 12:00:56'\n",
    "b = '2013-03-06 16:08:22'\n",
    "\n",
    "start = datetime.datetime.strptime(a, '%Y-%m-%d %H:%M:%S')\n",
    "ends = datetime.datetime.strptime(b, '%Y-%m-%d %H:%M:%S')\n",
    "\n",
    "diff = relativedelta(start, ends)\n",
    "print(\"The difference is %d year %d month %d days %d hours %d minutes\" % (diff.years, diff.months, diff.days, diff.hours, diff.minutes))"
   ]
  },
  {
   "cell_type": "markdown",
   "metadata": {},
   "source": [
    "## Q.38)Write a Python program to get last modified information of a file."
   ]
  },
  {
   "cell_type": "code",
   "execution_count": 71,
   "metadata": {},
   "outputs": [
    {
     "name": "stdout",
     "output_type": "stream",
     "text": [
      "last modified: Wed Dec 25 23:14:57 2019\n",
      "created: Wed Dec 25 23:12:45 2019\n"
     ]
    }
   ],
   "source": [
    "import os.path, time\n",
    "print(\"last modified: %s\" % time.ctime(os.path.getmtime('hello.txt')))\n",
    "print(\"created: %s\" % time.ctime(os.path.getctime('hello.txt')))"
   ]
  },
  {
   "cell_type": "markdown",
   "metadata": {},
   "source": [
    "## Q.39)Write a Python program to calculate an age in year."
   ]
  },
  {
   "cell_type": "code",
   "execution_count": 10,
   "metadata": {},
   "outputs": [
    {
     "name": "stdout",
     "output_type": "stream",
     "text": [
      "26 years\n"
     ]
    }
   ],
   "source": [
    "from datetime import date \n",
    "def calculateAge(birthDate): \n",
    "    today = date.today() \n",
    "    age = today.year - birthDate.year -((today.month, today.day) < (birthDate.month, birthDate.day)) \n",
    "    return age \n",
    "# Driver code \n",
    "print(calculateAge(date(1993, 10, 11)), \"years\") "
   ]
  },
  {
   "cell_type": "markdown",
   "metadata": {},
   "source": [
    "## Q.40)Write a Python program to get the current date time information."
   ]
  },
  {
   "cell_type": "code",
   "execution_count": 11,
   "metadata": {},
   "outputs": [
    {
     "name": "stdout",
     "output_type": "stream",
     "text": [
      "2019-12-27 12:39:23.279074\n"
     ]
    }
   ],
   "source": [
    "from datetime import datetime\n",
    "# Current date time in local system\n",
    "print(datetime.now())"
   ]
  },
  {
   "cell_type": "markdown",
   "metadata": {},
   "source": [
    "## Q.41)Write a python program to generate a date and time as a string."
   ]
  },
  {
   "cell_type": "code",
   "execution_count": 13,
   "metadata": {},
   "outputs": [
    {
     "name": "stdout",
     "output_type": "stream",
     "text": [
      "\n",
      "# In string: 2019-12-27 13:37:28 PM\n",
      "\n",
      "\n"
     ]
    }
   ],
   "source": [
    "import datetime\n",
    "# Current time\n",
    "now = datetime.datetime.now()\n",
    "# Make a note of the date and time in a string\n",
    "# Date and time in string : 2016-12-27 13:37:00 PM\n",
    "datestr = \"# In string: \" + now.strftime(\"%Y-%m-%d %H:%M:%S %p\") + \"\\n\"\n",
    "print()\n",
    "print(datestr)\n",
    "print()"
   ]
  },
  {
   "cell_type": "markdown",
   "metadata": {},
   "source": [
    "## Q.42)Write a Python program to display formatted text output of a month and start weeks on Sunday."
   ]
  },
  {
   "cell_type": "code",
   "execution_count": 14,
   "metadata": {},
   "outputs": [
    {
     "name": "stdout",
     "output_type": "stream",
     "text": [
      "First Month - 2020\n",
      "    January 2020\n",
      "Su Mo Tu We Th Fr Sa\n",
      "          1  2  3  4\n",
      " 5  6  7  8  9 10 11\n",
      "12 13 14 15 16 17 18\n",
      "19 20 21 22 23 24 25\n",
      "26 27 28 29 30 31\n",
      "None\n"
     ]
    }
   ],
   "source": [
    "import calendar\n",
    "cal = calendar.TextCalendar(calendar.SUNDAY)\n",
    "print('First Month - 2020')\n",
    "print(cal.prmonth(2020, 1))"
   ]
  },
  {
   "cell_type": "markdown",
   "metadata": {},
   "source": [
    "## Q.43)Write a Python program to print a 3-column calendar for an entire year."
   ]
  },
  {
   "cell_type": "code",
   "execution_count": 28,
   "metadata": {},
   "outputs": [
    {
     "name": "stdout",
     "output_type": "stream",
     "text": [
      "                              2020\n",
      "\n",
      "      January               February               March\n",
      "Su Mo Tu We Th Fr Sa  Su Mo Tu We Th Fr Sa  Su Mo Tu We Th Fr Sa\n",
      "          1  2  3  4                     1   1  2  3  4  5  6  7\n",
      " 5  6  7  8  9 10 11   2  3  4  5  6  7  8   8  9 10 11 12 13 14\n",
      "12 13 14 15 16 17 18   9 10 11 12 13 14 15  15 16 17 18 19 20 21\n",
      "19 20 21 22 23 24 25  16 17 18 19 20 21 22  22 23 24 25 26 27 28\n",
      "26 27 28 29 30 31     23 24 25 26 27 28 29  29 30 31\n",
      "\n",
      "       April                  May                   June\n",
      "Su Mo Tu We Th Fr Sa  Su Mo Tu We Th Fr Sa  Su Mo Tu We Th Fr Sa\n",
      "          1  2  3  4                  1  2      1  2  3  4  5  6\n",
      " 5  6  7  8  9 10 11   3  4  5  6  7  8  9   7  8  9 10 11 12 13\n",
      "12 13 14 15 16 17 18  10 11 12 13 14 15 16  14 15 16 17 18 19 20\n",
      "19 20 21 22 23 24 25  17 18 19 20 21 22 23  21 22 23 24 25 26 27\n",
      "26 27 28 29 30        24 25 26 27 28 29 30  28 29 30\n",
      "                      31\n",
      "\n",
      "        July                 August              September\n",
      "Su Mo Tu We Th Fr Sa  Su Mo Tu We Th Fr Sa  Su Mo Tu We Th Fr Sa\n",
      "          1  2  3  4                     1         1  2  3  4  5\n",
      " 5  6  7  8  9 10 11   2  3  4  5  6  7  8   6  7  8  9 10 11 12\n",
      "12 13 14 15 16 17 18   9 10 11 12 13 14 15  13 14 15 16 17 18 19\n",
      "19 20 21 22 23 24 25  16 17 18 19 20 21 22  20 21 22 23 24 25 26\n",
      "26 27 28 29 30 31     23 24 25 26 27 28 29  27 28 29 30\n",
      "                      30 31\n",
      "\n",
      "      October               November              December\n",
      "Su Mo Tu We Th Fr Sa  Su Mo Tu We Th Fr Sa  Su Mo Tu We Th Fr Sa\n",
      "             1  2  3   1  2  3  4  5  6  7         1  2  3  4  5\n",
      " 4  5  6  7  8  9 10   8  9 10 11 12 13 14   6  7  8  9 10 11 12\n",
      "11 12 13 14 15 16 17  15 16 17 18 19 20 21  13 14 15 16 17 18 19\n",
      "18 19 20 21 22 23 24  22 23 24 25 26 27 28  20 21 22 23 24 25 26\n",
      "25 26 27 28 29 30 31  29 30                 27 28 29 30 31\n",
      "\n"
     ]
    }
   ],
   "source": [
    "import calendar\n",
    "cal = calendar.TextCalendar(calendar.SUNDAY)\n",
    "# year: 2022, column width: 2, lines per week: 1 \n",
    "# number of spaces between month columns: 1\n",
    "# 3: no. of months per column.\n",
    "print(cal.formatyear(2020, 1, 1, 1, 3))"
   ]
  },
  {
   "cell_type": "markdown",
   "metadata": {},
   "source": [
    "## Q.44)Write a Python program to display a calendar for a locale."
   ]
  },
  {
   "cell_type": "code",
   "execution_count": 33,
   "metadata": {},
   "outputs": [
    {
     "name": "stdout",
     "output_type": "stream",
     "text": [
      "   November 2020\n",
      "Mo Tu We Th Fr Sa Su\n",
      "                   1\n",
      " 2  3  4  5  6  7  8\n",
      " 9 10 11 12 13 14 15\n",
      "16 17 18 19 20 21 22\n",
      "23 24 25 26 27 28 29\n",
      "30\n",
      "None\n"
     ]
    }
   ],
   "source": [
    "import calendar\n",
    "cal = calendar.LocaleTextCalendar(locale='en_BW.utf8')\n",
    "print(cal.prmonth(2020, 11))"
   ]
  },
  {
   "cell_type": "markdown",
   "metadata": {},
   "source": [
    "## Q.45)Write a Python program to get the current week."
   ]
  },
  {
   "cell_type": "code",
   "execution_count": 34,
   "metadata": {},
   "outputs": [
    {
     "name": "stdout",
     "output_type": "stream",
     "text": [
      "\n",
      "Year 2017, Week Number 41, Day of the Week 4\n",
      "\n"
     ]
    }
   ],
   "source": [
    "import datetime\n",
    "Jan1st = datetime.date(2017,10,12)\n",
    "year,week_num,day_of_week = Jan1st.isocalendar() # DOW = day of week\n",
    "print()\n",
    "print(\"Year %d, Week Number %d, Day of the Week %d\" %(year,week_num, day_of_week))\n",
    "print()"
   ]
  },
  {
   "cell_type": "markdown",
   "metadata": {},
   "source": [
    "## Q.46)Write a Python program to create an HTML calendar with data for a specific year and month."
   ]
  },
  {
   "cell_type": "code",
   "execution_count": 39,
   "metadata": {},
   "outputs": [
    {
     "name": "stdout",
     "output_type": "stream",
     "text": [
      "<table border=\"0\" cellpadding=\"0\" cellspacing=\"0\" class=\"month\">\n",
      "<tr><th colspan=\"7\" class=\"month\">November 2020</th></tr>\n",
      "<tr><th class=\"mon\">Mon</th><th class=\"tue\">Tue</th><th class=\"wed\">Wed</th><th class=\"thu\">Thu</th><th class=\"fri\">Fri</th><th class=\"sat\">Sat</th><th class=\"sun\">Sun</th></tr>\n",
      "<tr><td class=\"noday\">&nbsp;</td><td class=\"noday\">&nbsp;</td><td class=\"noday\">&nbsp;</td><td class=\"noday\">&nbsp;</td><td class=\"noday\">&nbsp;</td><td class=\"noday\">&nbsp;</td><td class=\"sun\">1</td></tr>\n",
      "<tr><td class=\"mon\">2</td><td class=\"tue\">3</td><td class=\"wed\">4</td><td class=\"thu\">5</td><td class=\"fri\">6</td><td class=\"sat\">7</td><td class=\"sun\">8</td></tr>\n",
      "<tr><td class=\"mon\">9</td><td class=\"tue\">10</td><td class=\"wed\">11</td><td class=\"thu\">12</td><td class=\"fri\">13</td><td class=\"sat\">14</td><td class=\"sun\">15</td></tr>\n",
      "<tr><td class=\"mon\">16</td><td class=\"tue\">17</td><td class=\"wed\">18</td><td class=\"thu\">19</td><td class=\"fri\">20</td><td class=\"sat\">21</td><td class=\"sun\">22</td></tr>\n",
      "<tr><td class=\"mon\">23</td><td class=\"tue\">24</td><td class=\"wed\">25</td><td class=\"thu\">26</td><td class=\"fri\">27</td><td class=\"sat\">28</td><td class=\"sun\">29</td></tr>\n",
      "<tr><td class=\"mon\">30</td><td class=\"noday\">&nbsp;</td><td class=\"noday\">&nbsp;</td><td class=\"noday\">&nbsp;</td><td class=\"noday\">&nbsp;</td><td class=\"noday\">&nbsp;</td><td class=\"noday\">&nbsp;</td></tr>\n",
      "</table>\n",
      "\n"
     ]
    }
   ],
   "source": [
    "import calendar\n",
    "htmlcal = calendar.HTMLCalendar(calendar.MONDAY)\n",
    "print(htmlcal.formatmonth(2020, 11))"
   ]
  },
  {
   "cell_type": "markdown",
   "metadata": {},
   "source": [
    "## Q.47)Write a Python program display a list of the dates for the 2nd Saturday of every month for a given year."
   ]
  },
  {
   "cell_type": "code",
   "execution_count": 40,
   "metadata": {},
   "outputs": [
    {
     "name": "stdout",
     "output_type": "stream",
     "text": [
      "Jan: 11\n",
      "Feb:  8\n",
      "Mar: 14\n",
      "Apr: 11\n",
      "May:  9\n",
      "Jun: 13\n",
      "Jul: 11\n",
      "Aug:  8\n",
      "Sep: 12\n",
      "Oct: 10\n",
      "Nov: 14\n",
      "Dec: 12\n"
     ]
    }
   ],
   "source": [
    "import calendar\n",
    "# Show every month\n",
    "for month in range(1, 13):\n",
    "    cal = calendar.monthcalendar(2020, month)\n",
    "    first_week  = cal[0]\n",
    "    second_week = cal[1]\n",
    "    third_week  = cal[2]\n",
    "\n",
    "    # If a Saturday presents in the first week, the second Saturday\n",
    "    # is in the second week.  Otherwise, the second Saturday must \n",
    "    # be in the third week.\n",
    "    \n",
    "    if first_week[calendar.SATURDAY]:\n",
    "        holi_day = second_week[calendar.SATURDAY]\n",
    "    else:\n",
    "        holi_day = third_week[calendar.SATURDAY]\n",
    "\n",
    "    print('%3s: %2s' % (calendar.month_abbr[month], holi_day))"
   ]
  },
  {
   "cell_type": "markdown",
   "metadata": {},
   "source": [
    "## Q.48)Write a Python program to display a simple, formatted calendar of a given year and month."
   ]
  },
  {
   "cell_type": "code",
   "execution_count": 42,
   "metadata": {},
   "outputs": [
    {
     "name": "stdout",
     "output_type": "stream",
     "text": [
      "Print a calendar for a year and month:\n",
      "Month (mm): 10\n",
      "Year (yyyy): 2020\n",
      "\n",
      "\n",
      "|++++++ 10-2020 +++++|\n",
      "|Su Mo Tu We Th Fr Sa|\n",
      "|--------------------|\n",
      "|             1  2  3|\n",
      "| 4  5  6  7  8  9 10|\n",
      "|11 12 13 14 15 16 17|\n",
      "|18 19 20 21 22 23 24|\n",
      "|25 26 27 28 29 30 31|\n",
      "|--------------------|\n",
      "\n"
     ]
    }
   ],
   "source": [
    "import calendar\n",
    "print('Print a calendar for a year and month:')\n",
    "month = int(input('Month (mm): '))\n",
    "year = int(input('Year (yyyy): '))\n",
    "print('\\n')\n",
    " \n",
    "calendar.setfirstweekday(calendar.SUNDAY)\n",
    "cal = calendar.monthcalendar(year, month)\n",
    " \n",
    "if len(str(month)) == 1:\n",
    "    month = '0%s' % month\n",
    " \n",
    "## Header\n",
    "print('|++++++ %s-%s +++++|' % (month, year))\n",
    "print('|Su Mo Tu We Th Fr Sa|')\n",
    "print('|--------------------|')\n",
    " \n",
    "# display calendar\n",
    "border = '|'\n",
    "for week in cal:\n",
    "    line = border\n",
    "\n",
    "      \n",
    "    for day in week:\n",
    "        if day == 0:\n",
    "      # 3 spaces for blank days       \n",
    "         line += '   ' \n",
    "        elif len(str(day)) == 1:\n",
    "            line += ' %d ' % day\n",
    "        else:\n",
    "         line += '%d ' % day\n",
    "    # remove space in last column\n",
    "    line = line[0:len(line) - 1]  \n",
    "    line += border\n",
    "    print(line)\n",
    "print('|--------------------|\\n')"
   ]
  },
  {
   "cell_type": "markdown",
   "metadata": {},
   "source": [
    "## Q.49)Write a Python program to convert a string into datetime."
   ]
  },
  {
   "cell_type": "code",
   "execution_count": 43,
   "metadata": {},
   "outputs": [
    {
     "name": "stdout",
     "output_type": "stream",
     "text": [
      "2019-07-01 14:43:00\n"
     ]
    }
   ],
   "source": [
    "from datetime import datetime\n",
    "date_object = datetime.strptime('Jul 1 2019 2:43PM', '%b %d %Y %I:%M%p')\n",
    "print(date_object)"
   ]
  },
  {
   "cell_type": "markdown",
   "metadata": {},
   "source": [
    "## Q.50)Write a Python program to get a list of dates between two dates."
   ]
  },
  {
   "cell_type": "code",
   "execution_count": 44,
   "metadata": {},
   "outputs": [
    {
     "name": "stdout",
     "output_type": "stream",
     "text": [
      "2015-12-20\n",
      "2015-12-21\n",
      "2015-12-22\n",
      "2015-12-23\n",
      "2015-12-24\n",
      "2015-12-25\n",
      "2015-12-26\n",
      "2015-12-27\n",
      "2015-12-28\n",
      "2015-12-29\n",
      "2015-12-30\n",
      "2015-12-31\n",
      "2016-01-01\n",
      "2016-01-02\n",
      "2016-01-03\n",
      "2016-01-04\n",
      "2016-01-05\n",
      "2016-01-06\n",
      "2016-01-07\n",
      "2016-01-08\n",
      "2016-01-09\n",
      "2016-01-10\n",
      "2016-01-11\n"
     ]
    }
   ],
   "source": [
    "from datetime import timedelta, date\n",
    "\n",
    "def daterange(date1, date2):\n",
    "    for n in range(int ((date2 - date1).days)+1):\n",
    "        yield date1 + timedelta(n)\n",
    "\n",
    "start_dt = date(2015, 12, 20)\n",
    "end_dt = date(2016, 1, 11)\n",
    "for dt in daterange(start_dt, end_dt):\n",
    "    print(dt.strftime(\"%Y-%m-%d\"))"
   ]
  },
  {
   "cell_type": "markdown",
   "metadata": {},
   "source": [
    "## Q.51)Write a Python program to generate RFC 3339 timestamp."
   ]
  },
  {
   "cell_type": "code",
   "execution_count": 45,
   "metadata": {},
   "outputs": [
    {
     "name": "stdout",
     "output_type": "stream",
     "text": [
      "\n",
      "2019-12-27T16:00:36.681070+05:30\n",
      "\n"
     ]
    }
   ],
   "source": [
    "from datetime import datetime, timezone\n",
    "local_time = datetime.now(timezone.utc).astimezone()\n",
    "print()\n",
    "print(local_time.isoformat())\n",
    "print()"
   ]
  },
  {
   "cell_type": "markdown",
   "metadata": {},
   "source": [
    "## Q.52)Write a Python program to get the first and last second."
   ]
  },
  {
   "cell_type": "code",
   "execution_count": 46,
   "metadata": {},
   "outputs": [
    {
     "name": "stdout",
     "output_type": "stream",
     "text": [
      "First Second:  00:00:00\n",
      "Last Second:  23:59:59.999999\n"
     ]
    }
   ],
   "source": [
    "import datetime\n",
    "print(\"First Second: \", datetime.time.min)\n",
    "print(\"Last Second: \", datetime.time.max)"
   ]
  },
  {
   "cell_type": "code",
   "execution_count": null,
   "metadata": {},
   "outputs": [],
   "source": []
  }
 ],
 "metadata": {
  "kernelspec": {
   "display_name": "Python 3",
   "language": "python",
   "name": "python3"
  },
  "language_info": {
   "codemirror_mode": {
    "name": "ipython",
    "version": 3
   },
   "file_extension": ".py",
   "mimetype": "text/x-python",
   "name": "python",
   "nbconvert_exporter": "python",
   "pygments_lexer": "ipython3",
   "version": "3.7.6"
  }
 },
 "nbformat": 4,
 "nbformat_minor": 2
}
