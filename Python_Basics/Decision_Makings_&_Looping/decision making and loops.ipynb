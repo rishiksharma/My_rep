{
 "cells": [
  {
   "cell_type": "code",
   "execution_count": 1,
   "metadata": {},
   "outputs": [
    {
     "name": "stdout",
     "output_type": "stream",
     "text": [
      "enter age 12\n"
     ]
    }
   ],
   "source": [
    "# if user enterd age is >= 18 msg u can vote\n",
    "\n",
    "age = int(input(\"enter age \"))\n",
    "if age>=18:\n",
    "    print(\"You can vote\")"
   ]
  },
  {
   "cell_type": "code",
   "execution_count": 2,
   "metadata": {},
   "outputs": [
    {
     "name": "stdout",
     "output_type": "stream",
     "text": [
      "enter age 56\n",
      "You can vote\n"
     ]
    }
   ],
   "source": [
    "# if user enterd age is >= 18 msg u can vote else u can not vote\n",
    "age = int(input(\"enter age \"))\n",
    "if age>=18:\n",
    "    print(\"You can vote\")\n",
    "else:\n",
    "    print(\"you can not vote\")"
   ]
  },
  {
   "cell_type": "code",
   "execution_count": 3,
   "metadata": {},
   "outputs": [
    {
     "name": "stdout",
     "output_type": "stream",
     "text": [
      "enter marks 26\n",
      "enter marks 83\n",
      "enter marks 93\n",
      "enter marks 89\n",
      "enter marks 96\n",
      "first class\n"
     ]
    }
   ],
   "source": [
    "# take marks of 5 subjects from the user and hence find the percentage also provide with the grades as distinction first class, second class and fail\n",
    "p = float(input( \"enter marks \"))\n",
    "c = float(input( \"enter marks \"))\n",
    "e = float(input( \"enter marks \"))\n",
    "m = float(input( \"enter marks \"))\n",
    "b = float(input( \"enter marks \"))\n",
    "\n",
    "total = p+c+e+m+b\n",
    "\n",
    "percentage = (total/500)*100\n",
    "\n",
    "if percentage >= 80:\n",
    "    print(\"distinction\")\n",
    "elif percentage < 80 and percentage >= 70:\n",
    "    print(\"first class\")\n",
    "elif percentage < 70 and percentage >= 60:\n",
    "    print(\"second class\")\n",
    "else:\n",
    "    print(\"FAIL\")"
   ]
  },
  {
   "cell_type": "code",
   "execution_count": 4,
   "metadata": {},
   "outputs": [
    {
     "name": "stdout",
     "output_type": "stream",
     "text": [
      "['enter your list ']a,b,c\n",
      "['a', ',', 'b', ',', 'c']\n"
     ]
    }
   ],
   "source": [
    "a = list(input([\"enter your list \"]))\n",
    "print (a)"
   ]
  },
  {
   "cell_type": "code",
   "execution_count": 5,
   "metadata": {},
   "outputs": [
    {
     "name": "stdout",
     "output_type": "stream",
     "text": [
      "enter the number3\n",
      "enter the number9\n",
      "enter the number1\n",
      "9\n"
     ]
    }
   ],
   "source": [
    "# take 3 numbers and find max\n",
    "\n",
    "num1 = int(input(\"enter the number\"))\n",
    "num2 = int(input(\"enter the number\"))\n",
    "num3 = int(input(\"enter the number\"))\n",
    "\n",
    "if num1 > num2 and num1 > num3:\n",
    "    print (num1)\n",
    "elif num2 > num3 and num2 > num1:\n",
    "    print (num2)\n",
    "elif num3 > num2 and num3 > num1:\n",
    "    print (num3)\n",
    "else:\n",
    "    print (\"equal\")\n",
    "    "
   ]
  },
  {
   "cell_type": "code",
   "execution_count": 8,
   "metadata": {},
   "outputs": [
    {
     "name": "stdout",
     "output_type": "stream",
     "text": [
      "enter nomber23\n",
      "enter nomber4\n",
      "enter nomber5\n",
      "enter nomber6\n",
      "enter nomber7\n",
      "enter nomber8\n",
      "enter nomber9\n",
      "enter nomber0\n",
      "enter nomber1\n",
      "[23, 4, 5, 6, 7, 8, 9, 0, 1]\n"
     ]
    }
   ],
   "source": [
    "#take 10 numbers from user and create a list out of it\n",
    "l = []\n",
    "a1 = int(input(\"enter nomber\"))\n",
    "a2 = int(input(\"enter nomber\"))\n",
    "a3 = int(input(\"enter nomber\"))\n",
    "a4 = int(input(\"enter nomber\"))\n",
    "a5 = int(input(\"enter nomber\"))\n",
    "a6 = int(input(\"enter nomber\"))\n",
    "a7 = int(input(\"enter nomber\"))\n",
    "a8 = int(input(\"enter nomber\"))\n",
    "a9 = int(input(\"enter nomber\"))\n",
    "\n",
    "l.append(a1)\n",
    "l.append(a2)\n",
    "l.append(a3)\n",
    "l.append(a4)\n",
    "l.append(a5)\n",
    "l.append(a6)\n",
    "l.append(a7)\n",
    "l.append(a8)\n",
    "l.append(a9)\n",
    "print(l)"
   ]
  },
  {
   "cell_type": "code",
   "execution_count": 17,
   "metadata": {},
   "outputs": [
    {
     "name": "stdout",
     "output_type": "stream",
     "text": [
      "1 is odd\n",
      "34 is even\n",
      "56 is even\n",
      "3 is odd\n",
      "68 is even\n",
      "23 is odd\n",
      "45 is odd\n",
      "22 is even\n",
      "59 is odd\n",
      "2 is even\n"
     ]
    }
   ],
   "source": [
    "# write a prog to find even and odd no.s from the given seq\n",
    "\n",
    "l = [1,34,56,3,68,23,45,22,59,2]\n",
    "for i in l:\n",
    "    if i%2 ==0:\n",
    "        print(f\"{i} is even\")\n",
    "    else:\n",
    "        print(f\"{i} is odd\")"
   ]
  },
  {
   "cell_type": "code",
   "execution_count": 18,
   "metadata": {},
   "outputs": [
    {
     "name": "stdout",
     "output_type": "stream",
     "text": [
      "[34, 56, 68, 22, 2]\n",
      "[1, 3, 23, 45, 59]\n"
     ]
    }
   ],
   "source": [
    "l1 = []\n",
    "l2 = []\n",
    "l = [1,34,56,3,68,23,45,22,59,2]\n",
    "for i in l:\n",
    "    if i%2 ==0:\n",
    "        l1.append(i)\n",
    "    else:\n",
    "        l2.append(i)\n",
    "print(l1)\n",
    "print(l2)"
   ]
  },
  {
   "cell_type": "code",
   "execution_count": 19,
   "metadata": {},
   "outputs": [
    {
     "name": "stdout",
     "output_type": "stream",
     "text": [
      "enter the number4654\n",
      "\t\t\t\t\t4654 * 1 = 4654\n",
      "\t\t\t\t\t4654 * 2 = 9308\n",
      "\t\t\t\t\t4654 * 3 = 13962\n",
      "\t\t\t\t\t4654 * 4 = 18616\n",
      "\t\t\t\t\t4654 * 5 = 23270\n",
      "\t\t\t\t\t4654 * 6 = 27924\n",
      "\t\t\t\t\t4654 * 7 = 32578\n",
      "\t\t\t\t\t4654 * 8 = 37232\n",
      "\t\t\t\t\t4654 * 9 = 41886\n",
      "\t\t\t\t\t4654 * 10 = 46540\n"
     ]
    }
   ],
   "source": [
    "# write a prog to print a multiplication table for any user entered no.\n",
    "\n",
    "num = int(input(\"enter the number\"))\n",
    "for i in range(1,11):\n",
    "     print(f\"\\t\\t\\t\\t\\t{num} * {i} = {num*i}\")"
   ]
  },
  {
   "cell_type": "code",
   "execution_count": 20,
   "metadata": {},
   "outputs": [
    {
     "name": "stdout",
     "output_type": "stream",
     "text": [
      "1505\n",
      "1540\n",
      "1575\n",
      "1610\n",
      "1645\n",
      "1680\n",
      "1715\n",
      "1750\n",
      "1785\n",
      "1820\n",
      "1855\n",
      "1890\n",
      "1925\n",
      "1960\n",
      "1995\n",
      "2030\n",
      "2065\n",
      "2100\n",
      "2135\n",
      "2170\n",
      "2205\n",
      "2240\n",
      "2275\n",
      "2310\n",
      "2345\n",
      "2380\n",
      "2415\n",
      "2450\n",
      "2485\n",
      "2520\n",
      "2555\n",
      "2590\n",
      "2625\n",
      "2660\n",
      "2695\n"
     ]
    }
   ],
   "source": [
    "# numbers are divisible by 7 multple of 5 betw 1500 and 2700 both included\n",
    "\n",
    "for i in range(1500,2701):\n",
    "    if i%7==0 and i%5==0:\n",
    "        print(i)"
   ]
  },
  {
   "cell_type": "code",
   "execution_count": 21,
   "metadata": {},
   "outputs": [
    {
     "name": "stdout",
     "output_type": "stream",
     "text": [
      "enter temp45\n",
      "c or f = f\n",
      "113.0\n"
     ]
    }
   ],
   "source": [
    "#convert temp fromula(c/5=f-32/9)\n",
    "temp= float(input(\"enter temp\"))\n",
    "t_unit= input(\"c or f = \")\n",
    "if t_unit == 'c':\n",
    "        c = (temp-32)*(5/9)\n",
    "        print(c)\n",
    "elif t_unit =='f':\n",
    "        f = ((temp/5)*(9))+32\n",
    "        print(f)"
   ]
  },
  {
   "cell_type": "code",
   "execution_count": 24,
   "metadata": {},
   "outputs": [
    {
     "name": "stdout",
     "output_type": "stream",
     "text": [
      "given shape = square\n",
      "enter the side length = 9\n",
      "81.0\n"
     ]
    }
   ],
   "source": [
    "# write a prog shape gives area\n",
    "\n",
    "shape = input(\"given shape = \")\n",
    "if shape == 'square':\n",
    "    side = float(input(\"enter the side length = \"))\n",
    "    print(side**2)\n",
    "elif shape == 'rectangle':\n",
    "    length = float(input(\"enter the side length = \"))\n",
    "    breadth = float(input(\"enter the side breadth = \"))\n",
    "    print(lenght*breadth)\n",
    "elif shape == 'triangle':\n",
    "    base = float(input(\"enter the side base = \"))\n",
    "    hieght = float(input(\"enter the side hieght = \"))\n",
    "    print((1/2)*(base*hieght))\n",
    "elif shape == 'circle':\n",
    "    pi = 3.14\n",
    "    radius = float(input(\"enter the side radius = \"))\n",
    "    print(pi*radius^2)"
   ]
  },
  {
   "cell_type": "code",
   "execution_count": 25,
   "metadata": {},
   "outputs": [
    {
     "name": "stdout",
     "output_type": "stream",
     "text": [
      "enter word = aaabbbccc\n",
      "cccbbbaaa\n"
     ]
    }
   ],
   "source": [
    "rev = input(\"enter word = \")\n",
    "print(rev[::-1])"
   ]
  },
  {
   "cell_type": "code",
   "execution_count": 26,
   "metadata": {},
   "outputs": [
    {
     "name": "stdout",
     "output_type": "stream",
     "text": [
      "enter word = alphabeta\n",
      "atebahpla\n"
     ]
    }
   ],
   "source": [
    "word = input(\"enter word = \")\n",
    "rev = \"\"\n",
    "for i in range(len(word)):\n",
    "    rev = rev + word[len(word)-i-1] # for reverse indexing\n",
    "print(rev)"
   ]
  },
  {
   "cell_type": "code",
   "execution_count": 27,
   "metadata": {},
   "outputs": [],
   "source": [
    "#str = input(\"adhhasdhas= \")\n",
    "#for i in range(len(str)-1):\n",
    "#    print(str[-i])"
   ]
  },
  {
   "cell_type": "code",
   "execution_count": 28,
   "metadata": {},
   "outputs": [
    {
     "name": "stdout",
     "output_type": "stream",
     "text": [
      "enter the number = 56\n",
      "7.483314773547883\n"
     ]
    }
   ],
   "source": [
    "# square rootnum\n",
    "\n",
    "num = float(input(\"enter the number = \"))\n",
    "print(num**0.5)"
   ]
  },
  {
   "cell_type": "code",
   "execution_count": 29,
   "metadata": {},
   "outputs": [],
   "source": [
    "import math"
   ]
  },
  {
   "cell_type": "code",
   "execution_count": 30,
   "metadata": {},
   "outputs": [
    {
     "data": {
      "text/plain": [
       "3.0"
      ]
     },
     "execution_count": 30,
     "metadata": {},
     "output_type": "execute_result"
    }
   ],
   "source": [
    "math.sqrt(9)"
   ]
  },
  {
   "cell_type": "code",
   "execution_count": 31,
   "metadata": {},
   "outputs": [
    {
     "name": "stdout",
     "output_type": "stream",
     "text": [
      "1\n",
      "3\n",
      "5\n",
      "no items left\n"
     ]
    }
   ],
   "source": [
    "# for loop with else\n",
    "digits = [1,3,5]\n",
    "for i in digits:\n",
    "    print(i)\n",
    "else:\n",
    "    print(\"no items left\")"
   ]
  },
  {
   "cell_type": "code",
   "execution_count": 32,
   "metadata": {},
   "outputs": [
    {
     "data": {
      "text/plain": [
       "2"
      ]
     },
     "execution_count": 32,
     "metadata": {},
     "output_type": "execute_result"
    }
   ],
   "source": [
    "digits.index(5)"
   ]
  },
  {
   "cell_type": "code",
   "execution_count": 33,
   "metadata": {},
   "outputs": [
    {
     "data": {
      "text/plain": [
       "2"
      ]
     },
     "execution_count": 33,
     "metadata": {},
     "output_type": "execute_result"
    }
   ],
   "source": [
    "digits.index(i)"
   ]
  },
  {
   "cell_type": "code",
   "execution_count": 34,
   "metadata": {},
   "outputs": [
    {
     "name": "stdout",
     "output_type": "stream",
     "text": [
      "index is  2\n",
      "index is  3\n",
      "index is  7\n",
      "index is  9\n",
      "index is  11\n",
      "index is  13\n",
      "index is  15\n",
      "7 is the total no. of 3\n"
     ]
    }
   ],
   "source": [
    "# take a list and find the no. of occurences of a particulaar value and indices\n",
    "l1=[1,2,3,3,4,5,2,3,4,3,1,3,5,3,1,3,4,5]\n",
    "b=0\n",
    "for i in range(len(l1)):\n",
    "    if (l1[i]==3):\n",
    "        print(\"index is \",i)\n",
    "        b=b+1\n",
    "print(b,\"is the total no. of 3\")"
   ]
  },
  {
   "cell_type": "code",
   "execution_count": 35,
   "metadata": {},
   "outputs": [],
   "source": [
    "# input count and "
   ]
  },
  {
   "cell_type": "code",
   "execution_count": 36,
   "metadata": {},
   "outputs": [
    {
     "name": "stdout",
     "output_type": "stream",
     "text": [
      "enter your number 5\n",
      "index is  4\n",
      "1 is the total no. of  5\n"
     ]
    }
   ],
   "source": [
    "query2 = int(input(\"enter your number \"))\n",
    "\n",
    "l2=[1,2,3,4,5,4,6,4]\n",
    "b=0\n",
    "if query2 in l2:\n",
    "    for i in range(len(l2)):\n",
    "        if (l2[i]==query2):\n",
    "            print(\"index is \",i)\n",
    "            b=b+1\n",
    "else:\n",
    "    print(\"number not found\")\n",
    "print(b,\"is the total no. of \",query2)"
   ]
  },
  {
   "cell_type": "code",
   "execution_count": 37,
   "metadata": {},
   "outputs": [
    {
     "name": "stdout",
     "output_type": "stream",
     "text": [
      "enter your number 5\n",
      "index is  4\n",
      "1 is the total no. of  5\n"
     ]
    }
   ],
   "source": [
    "query2 = int(input(\"enter your number \"))\n",
    "\n",
    "l2=[1,2,3,4,5,4,6,4]\n",
    "b=0\n",
    "if query2 in l2:\n",
    "    for i in range(len(l2)):\n",
    "        if (l2[i]==query2):\n",
    "            print(\"index is \",i)\n",
    "            b=b+1\n",
    "    print(b,\"is the total no. of \",query2)\n",
    "else:\n",
    "    print(\"number not found\")"
   ]
  },
  {
   "cell_type": "markdown",
   "metadata": {},
   "source": [
    "# While loop\n",
    "##### for mein atleast once when no of times is know\n",
    "#####  when a condition is to be satisfied\n",
    "##### else can be used (if error occurs in programs)\n",
    "\n",
    "###   break pass and continue\n",
    "      break to stop\n",
    "      continue to goto top of the loop\n",
    "      pass also called null statement also a place holder\n",
    "\n",
    "\n",
    "\n",
    "\n",
    "\n"
   ]
  },
  {
   "cell_type": "code",
   "execution_count": 39,
   "metadata": {
    "scrolled": true
   },
   "outputs": [
    {
     "name": "stdout",
     "output_type": "stream",
     "text": [
      "enter no. of rows = 7\n",
      "\n",
      "*   \n",
      "*   *   \n",
      "*   *   *   \n",
      "*   *   *   *   \n",
      "*   *   *   *   *   \n",
      "*   *   *   *   *   *   \n",
      "*   *   *   *   *   *   *   \n"
     ]
    }
   ],
   "source": [
    "# write a prog for increasing star pattern\n",
    "# always has 2 for loops\n",
    "rows = int(input(\"enter no. of rows = \"))\n",
    "for i in range(rows+1):   # i incrementation\n",
    "    for j in range(i):    # j incrementation\n",
    "        print(\"*\",end = \"   \") # end=\"  \" separator space adder and goes to for loop\n",
    "    print()                   # gives new line"
   ]
  },
  {
   "cell_type": "code",
   "execution_count": 41,
   "metadata": {},
   "outputs": [],
   "source": [
    "#edabit.com login and start solving\n",
    "# atleast 3"
   ]
  },
  {
   "cell_type": "code",
   "execution_count": 42,
   "metadata": {},
   "outputs": [
    {
     "name": "stdout",
     "output_type": "stream",
     "text": [
      "enter no. of rows = 6\n",
      "\n",
      "1   \n",
      "1   2   \n",
      "1   2   3   \n",
      "1   2   3   4   \n",
      "1   2   3   4   5   \n",
      "1   2   3   4   5   6   \n"
     ]
    }
   ],
   "source": [
    "# write a prog to print\n",
    "# write a prog for increasing num pattern\n",
    "rows = int(input(\"enter no. of rows = \"))\n",
    "for i in range(rows+1):   # i incrementation\n",
    "    for j in range(i):    # j incrementation Column value\n",
    "        print(j+1,end = \"   \") # end=\"  \" separator space adder and goes to for loop\n",
    "    print()                    # gives new line"
   ]
  },
  {
   "cell_type": "code",
   "execution_count": 43,
   "metadata": {},
   "outputs": [
    {
     "name": "stdout",
     "output_type": "stream",
     "text": [
      "1   \n",
      "1   2   \n",
      "1   2   3   \n",
      "1   2   3   4   \n"
     ]
    }
   ],
   "source": [
    "for i in range(1,5):   # i incrementation\n",
    "    for j in range(i):    # j incrementation\n",
    "        print(j+1,end = \"   \") # end=\"  \" separator space adder and goes to for loop\n",
    "    print( )"
   ]
  },
  {
   "cell_type": "code",
   "execution_count": 44,
   "metadata": {},
   "outputs": [
    {
     "name": "stdout",
     "output_type": "stream",
     "text": [
      "1   \n",
      "1   2   \n",
      "1   2   3   \n",
      "1   2   3   4   \n"
     ]
    }
   ],
   "source": [
    "for i in range(1,5):   # i incrementation\n",
    "    for j in range(1,i+1):    # j incrementation\n",
    "        print(j,end = \"   \") # end=\"  \" separator space adder and goes to for loop\n",
    "    print( )"
   ]
  },
  {
   "cell_type": "code",
   "execution_count": 45,
   "metadata": {},
   "outputs": [
    {
     "name": "stdout",
     "output_type": "stream",
     "text": [
      "0   \n",
      "0   1   \n",
      "0   1   2   \n",
      "0   1   2   3   \n"
     ]
    }
   ],
   "source": [
    "for i in range(1,5):\n",
    "    for j in range(i):\n",
    "        print(j,end = \"   \")\n",
    "    print()"
   ]
  },
  {
   "cell_type": "code",
   "execution_count": 46,
   "metadata": {},
   "outputs": [
    {
     "name": "stdout",
     "output_type": "stream",
     "text": [
      "1   \n",
      "2   2   \n",
      "3   3   3   \n",
      "4   4   4   4   \n"
     ]
    }
   ],
   "source": [
    "for i in range(1,5):\n",
    "    for j in range(i):\n",
    "        print(i,end = \"   \")\n",
    "    print()"
   ]
  },
  {
   "cell_type": "code",
   "execution_count": 47,
   "metadata": {},
   "outputs": [
    {
     "name": "stdout",
     "output_type": "stream",
     "text": [
      "0   \n",
      "0   1   \n",
      "0   1   2   \n",
      "0   1   2   3   \n"
     ]
    }
   ],
   "source": [
    "for i in range(1,5):\n",
    "    for j in range(i):\n",
    "        print(j,end = \"   \")\n",
    "    print()"
   ]
  },
  {
   "cell_type": "code",
   "execution_count": null,
   "metadata": {},
   "outputs": [],
   "source": []
  },
  {
   "cell_type": "code",
   "execution_count": 48,
   "metadata": {},
   "outputs": [
    {
     "name": "stdout",
     "output_type": "stream",
     "text": [
      "  * * *   \n",
      "*       * \n",
      "* * * * * \n",
      "*       * \n",
      "*       * \n",
      "*       * \n"
     ]
    }
   ],
   "source": [
    "for i in range(1,7):\n",
    "    for j in range(1,6):\n",
    "        if(i==1 and (2<=j<=4) or (i==3) and (1<=j<=5) or (j==1 or j==5)and(2<=i<=6)):\n",
    "           print(\"*\",end = \" \")\n",
    "        else:\n",
    "            print(end=\"  \")\n",
    "    print()"
   ]
  },
  {
   "cell_type": "code",
   "execution_count": 49,
   "metadata": {},
   "outputs": [
    {
     "name": "stdout",
     "output_type": "stream",
     "text": [
      " *** \n",
      "*   *\n",
      "*****\n",
      "*   *\n",
      "*   *\n",
      "*   *\n"
     ]
    }
   ],
   "source": [
    "for i in range(1,7):\n",
    "    for j in range(1,6):\n",
    "        if(i==1 and (2<=j<=4) or (i==3) and (1<=j<=5) or (j==1 or j==5)and(2<=i<=6)):\n",
    "           print(end = \"*\")\n",
    "        else:\n",
    "            print(end=\" \")\n",
    "    print()"
   ]
  },
  {
   "cell_type": "code",
   "execution_count": 50,
   "metadata": {
    "scrolled": true
   },
   "outputs": [
    {
     "name": "stdout",
     "output_type": "stream",
     "text": [
      "    *     \n",
      "  *   *   \n",
      "* * * * * \n",
      "*       * \n",
      "*       * \n",
      "*       * \n"
     ]
    }
   ],
   "source": [
    "for i in range(1,7):\n",
    "    for j in range(1,6):\n",
    "        if(i==1 and j==3 or (i==2) and (j==2 or j==4) or (i==3) and (1<=j<=5) or (j==1 or j==5)and(4<=i<=6)):\n",
    "           print(\"*\",end = \" \")\n",
    "        else:\n",
    "            print(end=\"  \")\n",
    "    print()"
   ]
  },
  {
   "cell_type": "code",
   "execution_count": 51,
   "metadata": {},
   "outputs": [
    {
     "name": "stdout",
     "output_type": "stream",
     "text": [
      "    1     \n",
      "  2 2 2   \n",
      "3 3 3 3 3 \n",
      "          \n",
      "          \n",
      "          \n"
     ]
    }
   ],
   "source": [
    "for i in range(1,7):\n",
    "    for j in range(1,6):\n",
    "        if(i==1 and j==3 or (i==2) and (2<=j<=4) or (i==3) and (1<=j<=5)):\n",
    "           print(i,end = \" \")\n",
    "        else:\n",
    "            print(end=\"  \")\n",
    "    print()"
   ]
  },
  {
   "cell_type": "code",
   "execution_count": 3,
   "metadata": {},
   "outputs": [
    {
     "name": "stdout",
     "output_type": "stream",
     "text": [
      "1  2  3  4  5  \n",
      "1  2  3  4  \n",
      "1  2  3  \n",
      "1  2  \n",
      "1  \n"
     ]
    }
   ],
   "source": [
    "for i in range(1,6,):\n",
    "    for j in range(1,6,):\n",
    "        if ((i==1 and 1<=j<=5) or (i==2 and 1<=j<=4) or (i==3 and 1<=j<=3) or (i==4 and 1<=j<=2) or (i==5 and 1<=j<=1)):\n",
    "            print(j,end = \"  \")\n",
    "    print()"
   ]
  },
  {
   "cell_type": "code",
   "execution_count": 7,
   "metadata": {},
   "outputs": [
    {
     "name": "stdout",
     "output_type": "stream",
     "text": [
      "5   5   5   5   5   \n",
      "4   4   4   4   \n",
      "3   3   3   \n",
      "2   2   \n",
      "1   \n"
     ]
    }
   ],
   "source": [
    "for i in range(5,0,-1):\n",
    "    for j in range(i):\n",
    "        print(i,end = \"   \")\n",
    "    print()"
   ]
  },
  {
   "cell_type": "code",
   "execution_count": 54,
   "metadata": {},
   "outputs": [
    {
     "name": "stdout",
     "output_type": "stream",
     "text": [
      "1   2   3   4   5   \n",
      "1   2   3   4   \n",
      "1   2   3   \n",
      "1   2   \n",
      "1   \n"
     ]
    }
   ],
   "source": [
    "for i in range(5,0,-1):\n",
    "    for j in range(i):\n",
    "        print(j+1,end = \"   \")\n",
    "    print()"
   ]
  },
  {
   "cell_type": "code",
   "execution_count": 11,
   "metadata": {},
   "outputs": [
    {
     "name": "stdout",
     "output_type": "stream",
     "text": [
      "enter no. of rows : 6\n",
      "*   \n",
      "\n",
      "*   *   *   \n",
      "\n",
      "*   *   *   *   *   \n",
      "\n",
      "*   *   *   *   *   *   *   \n",
      "\n",
      "*   *   *   *   *   *   *   *   *   \n",
      "\n",
      "*   *   *   *   *   *   *   *   *   *   *   \n"
     ]
    }
   ],
   "source": [
    "n = int(input(\"enter no. of rows : \"))\n",
    "for i in range(1,2*n):\n",
    "    for j in range(i):\n",
    "        if i%2!=0:\n",
    "            print(\"*\",end = \"   \")\n",
    "    print()"
   ]
  },
  {
   "cell_type": "code",
   "execution_count": 21,
   "metadata": {},
   "outputs": [
    {
     "name": "stdout",
     "output_type": "stream",
     "text": [
      "1    2    3    4    5    \n",
      "6    7    8    9    \n",
      "10    11    12    \n",
      "13    14    \n",
      "15    \n"
     ]
    }
   ],
   "source": [
    "b=1\n",
    "for i in range(5,0,-1):\n",
    "    for j in range(i):\n",
    "        print(b, end=\"    \")\n",
    "        b=b+1\n",
    "    print()"
   ]
  },
  {
   "cell_type": "code",
   "execution_count": null,
   "metadata": {},
   "outputs": [],
   "source": []
  },
  {
   "cell_type": "code",
   "execution_count": 58,
   "metadata": {},
   "outputs": [
    {
     "name": "stdout",
     "output_type": "stream",
     "text": [
      "enter no. of rows = 5\n",
      "    * \n",
      "   * * \n",
      "  * * * \n",
      " * * * * \n",
      "* * * * * \n"
     ]
    }
   ],
   "source": [
    "a=int(input(\"enter no. of rows = \"))\n",
    "for i in range(0,a):\n",
    "    for j in range(0,a-i-1): # helps to add spaces and reach mid value\n",
    "        print(end = \" \")\n",
    "    for k in range(i+1):\n",
    "        print(\"*\",end=\" \")\n",
    "    print()"
   ]
  },
  {
   "cell_type": "code",
   "execution_count": 14,
   "metadata": {},
   "outputs": [
    {
     "name": "stdout",
     "output_type": "stream",
     "text": [
      "enter no. of rows = 5\n",
      "* * * * * \n",
      " * * * * \n",
      "  * * * \n",
      "   * * \n",
      "    * \n"
     ]
    }
   ],
   "source": [
    "a=int(input(\"enter no. of rows = \"))\n",
    "for i in range(a,0,-1):\n",
    "    for j in range(0,a-i): # reverse and dont add or substract 1 to get exact no. of rows\n",
    "        print(end = \" \")\n",
    "    for k in range(i):\n",
    "        print(\"*\",end=\" \")\n",
    "    print()"
   ]
  },
  {
   "cell_type": "code",
   "execution_count": 2,
   "metadata": {},
   "outputs": [
    {
     "name": "stdout",
     "output_type": "stream",
     "text": [
      "enter no. of rows = 5\n",
      "    * \n",
      "   * * \n",
      "  * * * \n",
      " * * * * \n",
      "* * * * * \n",
      " * * * * \n",
      "  * * * \n",
      "   * * \n",
      "    * \n"
     ]
    }
   ],
   "source": [
    "a=int(input(\"enter no. of rows = \"))\n",
    "for i in range(0,a):\n",
    "    for j in range(0,a-i-1): # helps to add spaces and reach mid value\n",
    "        print(end = \" \")\n",
    "    for k in range(i+1):\n",
    "        print(\"*\",end=\" \")\n",
    "    print()\n",
    "for i in range(a-1,0,-1):\n",
    "    for j in range(0,a-i): # reversing and decreasing 1 row\n",
    "        print(end = \" \")\n",
    "    for k in range(i):\n",
    "        print(\"*\",end=\" \")\n",
    "    print()"
   ]
  },
  {
   "cell_type": "code",
   "execution_count": 16,
   "metadata": {},
   "outputs": [
    {
     "name": "stdout",
     "output_type": "stream",
     "text": [
      "enter no. of rows = 5\n",
      "    * \n",
      "   * * \n",
      "  * * * \n",
      " * * * * \n",
      "* * * * * \n",
      " * * * * * \n",
      "  * * * * \n",
      "   * * * \n",
      "    * * \n"
     ]
    }
   ],
   "source": [
    "a=int(input(\"enter no. of rows = \"))\n",
    "for i in range(0,a):\n",
    "    for j in range(0,a-i-1): # helps to add spaces and reach mid value\n",
    "        print(end = \" \")\n",
    "    for k in range(i+1):\n",
    "        print(\"*\",end=\" \")\n",
    "    print()\n",
    "for i in range(a-1,0,-1):\n",
    "    for j in range(0,a-i): # reversing and decreasing 1 row\n",
    "        print(end = \" \")\n",
    "    for k in range(i+1):\n",
    "        print(\"*\",end=\" \")\n",
    "    print()"
   ]
  }
 ],
 "metadata": {
  "kernelspec": {
   "display_name": "Python 3",
   "language": "python",
   "name": "python3"
  },
  "language_info": {
   "codemirror_mode": {
    "name": "ipython",
    "version": 3
   },
   "file_extension": ".py",
   "mimetype": "text/x-python",
   "name": "python",
   "nbconvert_exporter": "python",
   "pygments_lexer": "ipython3",
   "version": "3.7.6"
  }
 },
 "nbformat": 4,
 "nbformat_minor": 2
}
