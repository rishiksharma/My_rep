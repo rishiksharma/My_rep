{
 "cells": [
  {
   "cell_type": "code",
   "execution_count": null,
   "metadata": {},
   "outputs": [],
   "source": [
    "class abc: # is the keyword\n",
    "    x=2 # class variable\n"
   ]
  },
  {
   "cell_type": "code",
   "execution_count": null,
   "metadata": {},
   "outputs": [],
   "source": [
    "class emp: # pass the class to avoid error\n",
    "    pass"
   ]
  },
  {
   "cell_type": "code",
   "execution_count": null,
   "metadata": {},
   "outputs": [],
   "source": [
    "var=abc() # creating the \n",
    "print(var.x)"
   ]
  },
  {
   "cell_type": "code",
   "execution_count": null,
   "metadata": {},
   "outputs": [],
   "source": [
    "id(name of obj) #  it takes only object name for finding memory location\n",
    "# everything defined in python is an object even values"
   ]
  },
  {
   "cell_type": "code",
   "execution_count": null,
   "metadata": {},
   "outputs": [],
   "source": [
    "# init function any time a \n",
    "class person:\n",
    "    ''' This is a person class consists of persons details'''   # doc string in single or trip quotes compulsory has to be given after defining the class\n",
    "    x=3\n",
    "    def __init__(self,name,age):                                # constructor has only 2 parameters\n",
    "        self.name=name                                          # if we use constructor, parameters have to be stated inside it\n",
    "        self.age=age\n",
    "p1=person(\"rishik\",24)                                          # driver code\n",
    "print(\"the name is : \",p1.name)\n",
    "print(\"the age is : \",p1.age)\n",
    "print(\"the value of x is : \",p1.x)"
   ]
  },
  {
   "cell_type": "code",
   "execution_count": null,
   "metadata": {},
   "outputs": [],
   "source": [
    "id(p1.x)"
   ]
  },
  {
   "cell_type": "code",
   "execution_count": null,
   "metadata": {},
   "outputs": [],
   "source": [
    "# to get documentation of the class\n",
    "print(person.__doc__)"
   ]
  },
  {
   "cell_type": "code",
   "execution_count": null,
   "metadata": {},
   "outputs": [],
   "source": [
    "class person:\n",
    "    def __init__(self,name,age):\n",
    "        self.name=name\n",
    "        self.age=age\n",
    "    def my_method(self):\n",
    "        print(\"the info of the person is as follows : \")\n",
    "p1=person(\"rishik\",24)\n",
    "p1.my_method()\n",
    "print(\"the name is : \",p1.name)\n",
    "print(\"the age is : \")"
   ]
  },
  {
   "cell_type": "code",
   "execution_count": null,
   "metadata": {},
   "outputs": [],
   "source": [
    "#write a prog using concept of classes to imitate operations performed by calc"
   ]
  },
  {
   "cell_type": "code",
   "execution_count": null,
   "metadata": {},
   "outputs": [],
   "source": [
    "class calculator:\n",
    "    def add(self,a,b):\n",
    "        return(print(a+b))\n",
    "    def sub(self,a,b):\n",
    "        return(print(a-b))\n",
    "    def mul(self,a,b):\n",
    "        return(print(a*b))\n",
    "    def div(self,a,b):\n",
    "        return(print(a/b))\n",
    "c= calculator()\n",
    "c.add(1,2)\n",
    "c.sub(4,3)\n",
    "c.mul(6,2)\n",
    "c.div(4,2)\n"
   ]
  },
  {
   "cell_type": "code",
   "execution_count": null,
   "metadata": {},
   "outputs": [],
   "source": [
    "print(c.div(4,2)) # first prints the answer then triesto print the operation of the calculartion which is not possible"
   ]
  },
  {
   "cell_type": "code",
   "execution_count": null,
   "metadata": {},
   "outputs": [],
   "source": [
    "class calculator:\n",
    "    def add(self,a,b):\n",
    "        return(print(a+b))\n",
    "    def sub(self,a,b):\n",
    "        return(print(a-b))\n",
    "    def mul(self,a,b):\n",
    "        return(print(a*b))\n",
    "    def div(self,a,b):\n",
    "        return(print(a/b))\n",
    "c= calculator()\n",
    "try:\n",
    "    c.add(1,2)\n",
    "    c.sub(7,3)\n",
    "    c.mul(6,2)\n",
    "    c.div(4,0)\n",
    "except ZeroDivisionError :\n",
    "    print(\"try dividing by a no, which is not zero\")"
   ]
  },
  {
   "cell_type": "code",
   "execution_count": null,
   "metadata": {},
   "outputs": [],
   "source": [
    "class calculator:\n",
    "    def add(self,a,b):\n",
    "        return(print(a+b))\n",
    "    def sub(self,a,b):\n",
    "        return(print(a-b))\n",
    "    def mul(self,a,b):\n",
    "        return(print(a*b))\n",
    "    def div(self,a,b):\n",
    "        return(print(a/b))\n",
    "c= calculator()\n",
    "try:\n",
    "    c.add(1,2)\n",
    "    c.sub(8,3)\n",
    "    c.mul(6,2)\n",
    "    c.div(4,0)\n",
    "except Exception :\n",
    "    print(\"try dividing by a no, which is not zero\")"
   ]
  },
  {
   "cell_type": "code",
   "execution_count": null,
   "metadata": {},
   "outputs": [],
   "source": [
    "# wap employee class, taking employee naame and age from user count of employee i have added to the class\n"
   ]
  },
  {
   "cell_type": "code",
   "execution_count": null,
   "metadata": {},
   "outputs": [],
   "source": [
    "class emp:\n",
    "    \"\"\"emp details\"\"\"\n",
    "    empcount=0\n",
    "    def __init__(self,name,salary):\n",
    "        self.name=name\n",
    "        self.salary=salary\n",
    "        emp.empcount=empcount+1  # every time object made constructor will run \n",
    "    def displayemp(self):\n",
    "        print(\"name of emp : \", self.name,\"salary is : \", self.salary)\n",
    "e1=emp(\"abc\",4)\n",
    "e2=emp(\"xyz\",5)\n",
    "e1.displayemp()\n",
    "e1.displayemp()\n",
    "print(\"total no. of employee added is : \", emp.empcount)"
   ]
  },
  {
   "cell_type": "markdown",
   "metadata": {},
   "source": [
    "wap to imitate the behavior of inheritance\n",
    "par class - area method, circumference method, radius method\n",
    "child class circle"
   ]
  },
  {
   "cell_type": "code",
   "execution_count": null,
   "metadata": {},
   "outputs": [],
   "source": [
    "class parent:\n",
    "    parentatt=100\n",
    "    def __init__(self):\n",
    "        print(\"parent constructor\")\n",
    "    def parentmethod(self):\n",
    "        print(\"calling parent method\")\n",
    "    def setatt(self,att):\n",
    "        parent.parentatt=att\n",
    "    def getatt(self):\n",
    "        print(\"parent att: \", parent.parentatt)\n",
    "class child(parent): # multiple inheritance\n",
    "    def __init__(self):\n",
    "        print(\"child const\")\n",
    "    def childmethod(self):\n",
    "        print(\"calling child method\")\n",
    "c=child()\n",
    "c.childmethod()\n",
    "c.parentmethod()\n",
    "c.setatt(250)\n",
    "c.getatt()"
   ]
  },
  {
   "cell_type": "code",
   "execution_count": 2,
   "metadata": {},
   "outputs": [
    {
     "name": "stdout",
     "output_type": "stream",
     "text": [
      "calculator started\n"
     ]
    },
    {
     "ename": "NameError",
     "evalue": "name 'vmeth' is not defined",
     "output_type": "error",
     "traceback": [
      "\u001b[1;31m---------------------------------------------------------------------------\u001b[0m",
      "\u001b[1;31mNameError\u001b[0m                                 Traceback (most recent call last)",
      "\u001b[1;32m<ipython-input-2-8f44583885a5>\u001b[0m in \u001b[0;36m<module>\u001b[1;34m\u001b[0m\n\u001b[0;32m     20\u001b[0m         \u001b[0mb\u001b[0m\u001b[1;33m=\u001b[0m\u001b[1;36m10\u001b[0m\u001b[1;33m\u001b[0m\u001b[1;33m\u001b[0m\u001b[0m\n\u001b[0;32m     21\u001b[0m \u001b[0mv\u001b[0m\u001b[1;33m=\u001b[0m\u001b[0mvalues\u001b[0m\u001b[1;33m(\u001b[0m\u001b[1;33m)\u001b[0m\u001b[1;33m\u001b[0m\u001b[1;33m\u001b[0m\u001b[0m\n\u001b[1;32m---> 22\u001b[1;33m \u001b[0mvmeth\u001b[0m\u001b[1;33m(\u001b[0m\u001b[1;33m)\u001b[0m\u001b[1;33m\u001b[0m\u001b[1;33m\u001b[0m\u001b[0m\n\u001b[0m\u001b[0;32m     23\u001b[0m \u001b[0mv\u001b[0m\u001b[1;33m.\u001b[0m\u001b[0maddi\u001b[0m\u001b[1;33m(\u001b[0m\u001b[0ma\u001b[0m\u001b[1;33m,\u001b[0m\u001b[0mb\u001b[0m\u001b[1;33m)\u001b[0m\u001b[1;33m\u001b[0m\u001b[1;33m\u001b[0m\u001b[0m\n\u001b[0;32m     24\u001b[0m \u001b[0mv\u001b[0m\u001b[1;33m.\u001b[0m\u001b[0msub\u001b[0m\u001b[1;33m(\u001b[0m\u001b[1;36m20\u001b[0m\u001b[1;33m,\u001b[0m\u001b[1;36m10\u001b[0m\u001b[1;33m)\u001b[0m\u001b[1;33m\u001b[0m\u001b[1;33m\u001b[0m\u001b[0m\n",
      "\u001b[1;31mNameError\u001b[0m: name 'vmeth' is not defined"
     ]
    }
   ],
   "source": [
    "class calculator:\n",
    "    \n",
    "    def __init__(self,):\n",
    "        print(\"calculator started\")\n",
    "    def addi(self,a,b):\n",
    "        print(a+b)\n",
    "        return(a+b)\n",
    "    def sub(self,a,b):\n",
    "        print(a-b)\n",
    "        return(a-b)\n",
    "    def mul(self,a,b):\n",
    "        print(a*b)\n",
    "        return(a*b)\n",
    "    def div(self,a,b):\n",
    "        print(a/b)\n",
    "        return(a/b)\n",
    "class values(calculator):\n",
    "    def vmeth(self,a,b):\n",
    "        a=20\n",
    "        b=10\n",
    "v=values()\n",
    "vmeth()\n",
    "v.addi(a,b)\n",
    "v.sub(20,10)\n",
    "v.mul(3,9)\n",
    "v.div(9,3)"
   ]
  },
  {
   "cell_type": "code",
   "execution_count": null,
   "metadata": {},
   "outputs": [],
   "source": []
  },
  {
   "cell_type": "code",
   "execution_count": null,
   "metadata": {},
   "outputs": [],
   "source": []
  },
  {
   "cell_type": "code",
   "execution_count": null,
   "metadata": {},
   "outputs": [],
   "source": []
  },
  {
   "cell_type": "code",
   "execution_count": null,
   "metadata": {},
   "outputs": [],
   "source": []
  },
  {
   "cell_type": "code",
   "execution_count": null,
   "metadata": {},
   "outputs": [],
   "source": []
  },
  {
   "cell_type": "code",
   "execution_count": null,
   "metadata": {},
   "outputs": [],
   "source": []
  }
 ],
 "metadata": {
  "kernelspec": {
   "display_name": "Python 3",
   "language": "python",
   "name": "python3"
  },
  "language_info": {
   "codemirror_mode": {
    "name": "ipython",
    "version": 3
   },
   "file_extension": ".py",
   "mimetype": "text/x-python",
   "name": "python",
   "nbconvert_exporter": "python",
   "pygments_lexer": "ipython3",
   "version": "3.7.6"
  }
 },
 "nbformat": 4,
 "nbformat_minor": 2
}
