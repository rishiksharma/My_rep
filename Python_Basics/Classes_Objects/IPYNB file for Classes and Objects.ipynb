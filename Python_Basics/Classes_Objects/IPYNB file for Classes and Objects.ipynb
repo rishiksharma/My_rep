{
 "cells": [
  {
   "cell_type": "markdown",
   "metadata": {},
   "source": []
  },
  {
   "cell_type": "markdown",
   "metadata": {},
   "source": [
    "### Create a Class\n",
    "To create a class, use the keyword class:"
   ]
  },
  {
   "cell_type": "code",
   "execution_count": 1,
   "metadata": {},
   "outputs": [],
   "source": [
    "class abc: # class is the keyword followed by the class name which is abc in this case.\n",
    "    x=2  # class variable"
   ]
  },
  {
   "cell_type": "markdown",
   "metadata": {},
   "source": [
    "### The pass Statement\n",
    "class definitions cannot be empty, but if you for some reason have a class definition with no content, put in the pass statement to avoid getting an error.\n",
    "\n"
   ]
  },
  {
   "cell_type": "code",
   "execution_count": 1,
   "metadata": {},
   "outputs": [],
   "source": [
    "class emp:\n",
    "    pass"
   ]
  },
  {
   "cell_type": "markdown",
   "metadata": {},
   "source": [
    "### To access the class its variables and methods we have to create an object of the class which is done as below: -"
   ]
  },
  {
   "cell_type": "code",
   "execution_count": 2,
   "metadata": {},
   "outputs": [
    {
     "name": "stdout",
     "output_type": "stream",
     "text": [
      "2\n"
     ]
    }
   ],
   "source": [
    "var=abc()\n",
    "print(var.x)"
   ]
  },
  {
   "cell_type": "markdown",
   "metadata": {},
   "source": [
    "### The __init__() Function\n",
    "<li>All classes have a function called __init__(), which is always executed when the class is being initiated.<br></li>\n",
    "<li>Use the __init__() function to assign values to object properties, or other operations that are necessary to do when the object is being created.<br></li>\n",
    "<li>The __init__() function is called automatically every time the class is being used to create a new object.</li>"
   ]
  },
  {
   "cell_type": "code",
   "execution_count": 2,
   "metadata": {},
   "outputs": [
    {
     "name": "stdout",
     "output_type": "stream",
     "text": [
      "The name is :  Jay\n",
      "The age is  :  35\n",
      "The Value of x is 3\n"
     ]
    }
   ],
   "source": [
    "#Create a class named Person, use the __init__() function to assign values for name and age:\n",
    "class Person:\n",
    "    'This is a person class consists of persons details'\n",
    "    x=3\n",
    "    def __init__(self,name,age):\n",
    "        self.name=name\n",
    "        self.age=age\n",
    "p1=Person(\"Jay\", 35)\n",
    "print(\"The name is : \",p1.name)\n",
    "print(\"The age is  : \",p1.age)\n",
    "print(\"The Value of x is\",p1.x)"
   ]
  },
  {
   "cell_type": "markdown",
   "metadata": {},
   "source": [
    "### To get the documentation of the class"
   ]
  },
  {
   "cell_type": "code",
   "execution_count": 3,
   "metadata": {},
   "outputs": [
    {
     "name": "stdout",
     "output_type": "stream",
     "text": [
      "This is a person class consists of persons details\n"
     ]
    }
   ],
   "source": [
    "print(Person.__doc__) # To get the documentation of the class"
   ]
  },
  {
   "cell_type": "markdown",
   "metadata": {},
   "source": [
    "### Object Methods <br>\n",
    "<li>Objects can also contain methods. Methods in objects are functions that belong to the object.<br></li>\n",
    "<li>The self parameter is a reference to the current instance of the class, and is used to access variables that belong to the class<br></li>\n",
    "\n",
    "### The self Parameter <br>\n",
    "<li>The self parameter is a reference to the current instance of the class, and is used to access variables that belongs to the class.</li>\n",
    "<li>It does not have to be named self , you can call it whatever you like, but it has to be the first parameter of any function in the class:</li>\n",
    "\n"
   ]
  },
  {
   "cell_type": "code",
   "execution_count": 9,
   "metadata": {},
   "outputs": [
    {
     "name": "stdout",
     "output_type": "stream",
     "text": [
      "The information of the person is as follow : \n",
      "The name is :  Jay\n",
      "The age is  :  35\n"
     ]
    }
   ],
   "source": [
    "class Person:\n",
    "    def __init__(self,name,age):\n",
    "        self.name=name\n",
    "        self.age=age\n",
    "    def my_method(self):\n",
    "        print(\"The information of the person is as follow : \")\n",
    "p1=Person(\"Jay\", 35)\n",
    "p1.my_method()\n",
    "print(\"The name is : \",p1.name)\n",
    "print(\"The age is  : \",p1.age)"
   ]
  },
  {
   "cell_type": "code",
   "execution_count": 16,
   "metadata": {},
   "outputs": [
    {
     "name": "stdout",
     "output_type": "stream",
     "text": [
      "The name is :  Jay\n",
      "The age is :  32\n"
     ]
    }
   ],
   "source": [
    "class abc:\n",
    "    def __init__(xyz,name,age):\n",
    "        xyz.name =name\n",
    "        xyz.age=age\n",
    "    def other(zabc):\n",
    "        print(\"The name is : \", zabc.name)\n",
    "p1=abc(\"Jay\",34)\n",
    "p1.other()\n",
    "p1.age=32  # You can modify the value of the objects \n",
    "print(\"The age is : \", p1.age)"
   ]
  },
  {
   "cell_type": "code",
   "execution_count": 5,
   "metadata": {},
   "outputs": [
    {
     "name": "stdout",
     "output_type": "stream",
     "text": [
      "Name of Employee : Jay Salary :  10000\n",
      "Name of Employee : Vijay Salary :  20000\n",
      "Total No of Employee  2\n"
     ]
    }
   ],
   "source": [
    "class employee:\n",
    "    'Employee details'\n",
    "    empCount=0    \n",
    "    def __init__(self, name, salary):\n",
    "        self.name=name\n",
    "        self.salary=salary\n",
    "        employee.empCount+=1\n",
    "    def displayEmp(self):\n",
    "        print(\"Name of Employee :\", self.name,\"Salary : \", self.salary )\n",
    "emp1=employee(\"Jay\",10000)\n",
    "emp2=employee(\"Vijay\",20000)\n",
    "emp1.displayEmp()\n",
    "emp2.displayEmp()\n",
    "print(\"Total No of Employee \", employee.empCount)"
   ]
  },
  {
   "cell_type": "code",
   "execution_count": 8,
   "metadata": {},
   "outputs": [
    {
     "name": "stdout",
     "output_type": "stream",
     "text": [
      "Documents    : Employee details\n",
      "Name    : employee\n",
      "Module    : __main__\n",
      "Bases    : (<class 'object'>,)\n",
      "dict    : {'__module__': '__main__', '__doc__': 'Employee details', 'empCount': 2, '__init__': <function employee.__init__ at 0x00000169CA9CFF78>, 'displayEmp': <function employee.displayEmp at 0x00000169CA9E6048>, '__dict__': <attribute '__dict__' of 'employee' objects>, '__weakref__': <attribute '__weakref__' of 'employee' objects>}\n"
     ]
    }
   ],
   "source": [
    "print(\"Documents    :\",employee.__doc__)\n",
    "print(\"Name    :\",employee.__name__)\n",
    "print(\"Module    :\",employee.__module__)\n",
    "print(\"Bases    :\",employee.__bases__)\n",
    "print(\"dict    :\",employee.__dict__)"
   ]
  },
  {
   "cell_type": "markdown",
   "metadata": {},
   "source": [
    "\n",
    "### Delete Objects\n",
    "You can delete objects by using the del keyword"
   ]
  },
  {
   "cell_type": "code",
   "execution_count": 15,
   "metadata": {},
   "outputs": [
    {
     "name": "stdout",
     "output_type": "stream",
     "text": [
      "The name is :  Jay\n",
      "The age is  :  35\n"
     ]
    }
   ],
   "source": [
    "class Person:\n",
    "    'This is a person class consists of persons details'\n",
    "    def __init__(self,name,age):\n",
    "        self.name=name\n",
    "        self.age=age\n",
    "p1=Person(\"Jay\", 35)\n",
    "print(\"The name is : \",p1.name)\n",
    "print(\"The age is  : \",p1.age)\n"
   ]
  },
  {
   "cell_type": "code",
   "execution_count": 16,
   "metadata": {},
   "outputs": [],
   "source": [
    "#Example\n",
    "#Delete the p1 object:\n",
    "del p1"
   ]
  },
  {
   "cell_type": "code",
   "execution_count": 17,
   "metadata": {},
   "outputs": [
    {
     "ename": "NameError",
     "evalue": "name 'p1' is not defined",
     "output_type": "error",
     "traceback": [
      "\u001b[1;31m---------------------------------------------------------------------------\u001b[0m",
      "\u001b[1;31mNameError\u001b[0m                                 Traceback (most recent call last)",
      "\u001b[1;32m<ipython-input-17-9506c9e80e91>\u001b[0m in \u001b[0;36m<module>\u001b[1;34m\u001b[0m\n\u001b[1;32m----> 1\u001b[1;33m \u001b[0mprint\u001b[0m\u001b[1;33m(\u001b[0m\u001b[0mp1\u001b[0m\u001b[1;33m.\u001b[0m\u001b[0mage\u001b[0m\u001b[1;33m)\u001b[0m\u001b[1;33m\u001b[0m\u001b[1;33m\u001b[0m\u001b[0m\n\u001b[0m",
      "\u001b[1;31mNameError\u001b[0m: name 'p1' is not defined"
     ]
    }
   ],
   "source": [
    "print(p1.age)"
   ]
  },
  {
   "cell_type": "markdown",
   "metadata": {},
   "source": [
    "### Python Inheritance\n",
    "Inheritance allows us to define a class that inherits all the methods and properties from another class.\n",
    "\n",
    "#### Parent Class\n",
    "Parent class is the class being inherited from, also called base class.\n",
    "#### To create a parent class\n",
    "Create a Parent Class\n",
    "Any class can be a parent class, so the syntax is the same as creating any other class.\n",
    "\n",
    "#### Child Class\n",
    "Child class is the class that inherits from another class, also called derived class.\n",
    "\n",
    "####  Create a Child Class\n",
    "To create a class that inherits the functionality from another class, send the parent class as a parameter when creating the child class:\n",
    "\n"
   ]
  },
  {
   "cell_type": "code",
   "execution_count": 20,
   "metadata": {},
   "outputs": [
    {
     "name": "stdout",
     "output_type": "stream",
     "text": [
      "Calling child Constructor\n",
      "Calling Child Method\n",
      "Calling Parent Method\n",
      "Parent attribute:  250\n"
     ]
    }
   ],
   "source": [
    "class parent:\n",
    "    parentatt=100\n",
    "    def __init__(self):\n",
    "        print(\"Parent Constructor\")\n",
    "    \n",
    "    def parentmethod(self):\n",
    "        print(\"Calling Parent Method\")\n",
    "    \n",
    "    def setatt(self,att):\n",
    "        parent.parentatt=att\n",
    "    \n",
    "    def getatt(self):\n",
    "        print(\"Parent attribute: \", parent.parentatt)\n",
    "\n",
    "class child(parent):\n",
    "    def __init__(self):\n",
    "        print(\"Calling child Constructor\")\n",
    "    \n",
    "    def childmethod(self):\n",
    "        print(\"Calling Child Method\")\n",
    "    \n",
    "c=child()  # instance of child\n",
    "c.childmethod()\n",
    "c.parentmethod()\n",
    "c.setatt(250)\n",
    "c.getatt()\n",
    "      "
   ]
  },
  {
   "cell_type": "markdown",
   "metadata": {},
   "source": [
    "### A child class can have more than one parent which can be shown as follow:-\n",
    "class A:        # define your class A\n",
    ".....\n",
    "\n",
    "class B:         # define your class B\n",
    ".....\n",
    "\n",
    "class C(A, B):   # subclass of A and B\n",
    ".....\n",
    "\n",
    "\n",
    "\n",
    "\n",
    "\n",
    "<br>\n",
    "<br>\n",
    "\n",
    "### Syntax\n",
    "\n",
    "<pre>\n",
    "class BaseClass:\n",
    "  Body of base class\n",
    "class DerivedClass(BaseClass):\n",
    "  Body of derived class\n",
    "</pre>"
   ]
  },
  {
   "cell_type": "code",
   "execution_count": 3,
   "metadata": {},
   "outputs": [
    {
     "name": "stdout",
     "output_type": "stream",
     "text": [
      "enter side 1 : 23\n",
      "enter side 2 : 23\n",
      "enter side 3 : 34\n",
      "Side 1 is 23.0\n",
      "Side 2 is 23.0\n",
      "Side 3 is 34.0\n",
      "The area of the triangle is 263.36\n"
     ]
    }
   ],
   "source": [
    "class Polygon:\n",
    "    def __init__(self, no_of_sides):\n",
    "        self.n= no_of_sides\n",
    "        self.sides = [0 for i in range(no_of_sides)]\n",
    "    def inputSides(self):\n",
    "        self.sides =[float(input(\"enter side \" +str(i+1)+\" : \"))for i in range (self.n)]\n",
    "    def dispSides(self):\n",
    "        for i in range (self.n):\n",
    "            print(\"Side\",i+1,\"is\", self.sides[i])\n",
    "\n",
    "class Triangle(Polygon):\n",
    "    def __init__(self):\n",
    "        Polygon.__init__(self,3)\n",
    "    def findArea(self):\n",
    "        a, b, c = self.sides\n",
    "        # calculate the semi-perimeter\n",
    "        s = (a + b + c) / 2\n",
    "        area = (s*(s-a)*(s-b)*(s-c)) ** 0.5\n",
    "        print('The area of the triangle is %0.2f' %area)\n",
    "        \n",
    "t = Triangle()\n",
    "t.inputSides()\n",
    "\n",
    "t.dispSides()\n",
    "t.findArea()\n",
    "\n",
    "        "
   ]
  },
  {
   "cell_type": "code",
   "execution_count": 10,
   "metadata": {},
   "outputs": [
    {
     "name": "stdout",
     "output_type": "stream",
     "text": [
      "Rahul\n",
      "12345678\n"
     ]
    }
   ],
   "source": [
    "# Python code to demonstrate how parent constructors \n",
    "# are called. \n",
    "\n",
    "# parent class \n",
    "class Person( object ):\n",
    "    def __init__(self, name, idnumber): \n",
    "        self.name = name \n",
    "        self.idnumber = idnumber \n",
    "    def display(self): \n",
    "        print(self.name) \n",
    "        print(self.idnumber) \n",
    "\n",
    "# child class \n",
    "class Employee( Person ):\n",
    "    def __init__(self, name, idnumber, salary, post): \n",
    "        self.salary = salary \n",
    "        self.post = post \n",
    "        Person.__init__(self, name, idnumber) \n",
    "    def dis(self, salary, post):\n",
    "        print(self.salary)\n",
    "        print(self.post)\n",
    "\n",
    "a = Person('Rahul', 12345678)\n",
    "a.display() "
   ]
  },
  {
   "cell_type": "code",
   "execution_count": null,
   "metadata": {},
   "outputs": [],
   "source": []
  }
 ],
 "metadata": {
  "kernelspec": {
   "display_name": "Python 3",
   "language": "python",
   "name": "python3"
  },
  "language_info": {
   "codemirror_mode": {
    "name": "ipython",
    "version": 3
   },
   "file_extension": ".py",
   "mimetype": "text/x-python",
   "name": "python",
   "nbconvert_exporter": "python",
   "pygments_lexer": "ipython3",
   "version": "3.7.4"
  }
 },
 "nbformat": 4,
 "nbformat_minor": 2
}
